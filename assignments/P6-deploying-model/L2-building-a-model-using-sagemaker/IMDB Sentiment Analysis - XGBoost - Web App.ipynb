{
 "cells": [
  {
   "cell_type": "markdown",
   "metadata": {},
   "source": [
    "# Sentiment Analysis Web App\n",
    "\n",
    "_Deep Learning Nanodegree Program | Deployment_\n",
    "\n",
    "---\n",
    "\n",
    "In this notebook we will use Amazon's SageMaker service to construct a random tree model to predict the sentiment of a movie review. In addition, we will deploy this model to an endpoint and construct a very simple web app which will interact with our model's deployed endpoint.\n",
    "\n",
    "## General Outline\n",
    "\n",
    "Typically, when using a notebook instance with SageMaker, you will proceed through the following steps. Of course, not every step will need to be done with each project. Also, there is quite a lot of room for variation in many of the steps, as you will see throughout these lessons.\n",
    "\n",
    "1. Download or otherwise retrieve the data.\n",
    "2. Process / Prepare the data.\n",
    "3. Upload the processed data to S3.\n",
    "4. Train a chosen model.\n",
    "5. Test the trained model (typically using a batch transform job).\n",
    "6. Deploy the trained model.\n",
    "7. Use the deployed model.\n",
    "\n",
    "In this notebook we will progress through each of the steps above. We will also see that the final step, using the deployed model, can be quite challenging."
   ]
  },
  {
   "cell_type": "markdown",
   "metadata": {},
   "source": [
    "## Step 1: Downloading the data\n",
    "\n",
    "The dataset we are going to use is very popular among researchers in Natural Language Processing, usually referred to as the [IMDb dataset](http://ai.stanford.edu/~amaas/data/sentiment/). It consists of movie reviews from the website [imdb.com](http://www.imdb.com/), each labeled as either '**pos**itive', if the reviewer enjoyed the film, or '**neg**ative' otherwise.\n",
    "\n",
    "> Maas, Andrew L., et al. [Learning Word Vectors for Sentiment Analysis](http://ai.stanford.edu/~amaas/data/sentiment/). In _Proceedings of the 49th Annual Meeting of the Association for Computational Linguistics: Human Language Technologies_. Association for Computational Linguistics, 2011.\n",
    "\n",
    "We begin by using some Jupyter Notebook magic to download and extract the dataset."
   ]
  },
  {
   "cell_type": "code",
   "execution_count": 1,
   "metadata": {},
   "outputs": [
    {
     "name": "stdout",
     "output_type": "stream",
     "text": [
      "mkdir: cannot create directory ‘../data’: File exists\n",
      "--2019-04-13 18:42:03--  http://ai.stanford.edu/~amaas/data/sentiment/aclImdb_v1.tar.gz\n",
      "Resolving ai.stanford.edu (ai.stanford.edu)... 171.64.68.10\n",
      "Connecting to ai.stanford.edu (ai.stanford.edu)|171.64.68.10|:80... connected.\n",
      "HTTP request sent, awaiting response... 200 OK\n",
      "Length: 84125825 (80M) [application/x-gzip]\n",
      "Saving to: ‘../data/aclImdb_v1.tar.gz’\n",
      "\n",
      "../data/aclImdb_v1. 100%[===================>]  80.23M  11.9MB/s    in 7.5s    \n",
      "\n",
      "2019-04-13 18:42:11 (10.8 MB/s) - ‘../data/aclImdb_v1.tar.gz’ saved [84125825/84125825]\n",
      "\n"
     ]
    }
   ],
   "source": [
    "%mkdir ../data\n",
    "!wget -O ../data/aclImdb_v1.tar.gz http://ai.stanford.edu/~amaas/data/sentiment/aclImdb_v1.tar.gz\n",
    "!tar -zxf ../data/aclImdb_v1.tar.gz -C ../data"
   ]
  },
  {
   "cell_type": "markdown",
   "metadata": {},
   "source": [
    "## Step 2: Preparing and Processing the data\n",
    "\n",
    "The data we have downloaded is split into various files, each of which contains a single review. It will be much easier going forward if we combine these individual files into two large files, one for training and one for testing."
   ]
  },
  {
   "cell_type": "code",
   "execution_count": 2,
   "metadata": {},
   "outputs": [],
   "source": [
    "import os\n",
    "import glob\n",
    "\n",
    "def read_imdb_data(data_dir='../data/aclImdb'):\n",
    "    data = {}\n",
    "    labels = {}\n",
    "    \n",
    "    for data_type in ['train', 'test']:\n",
    "        data[data_type] = {}\n",
    "        labels[data_type] = {}\n",
    "        \n",
    "        for sentiment in ['pos', 'neg']:\n",
    "            data[data_type][sentiment] = []\n",
    "            labels[data_type][sentiment] = []\n",
    "            \n",
    "            path = os.path.join(data_dir, data_type, sentiment, '*.txt')\n",
    "            files = glob.glob(path)\n",
    "            \n",
    "            for f in files:\n",
    "                with open(f) as review:\n",
    "                    data[data_type][sentiment].append(review.read())\n",
    "                    # Here we represent a positive review \n",
    "                    # by '1' and a negative review by '0'\n",
    "                    labels[data_type][sentiment].append(1 if sentiment == 'pos' else 0)\n",
    "                    \n",
    "            assert len(data[data_type][sentiment]) == len(labels[data_type][sentiment]), \\\n",
    "                    \"{}/{} data size does not match labels size\".format(data_type, \n",
    "                                                                        sentiment)\n",
    "                \n",
    "    return data, labels"
   ]
  },
  {
   "cell_type": "code",
   "execution_count": 3,
   "metadata": {},
   "outputs": [
    {
     "name": "stdout",
     "output_type": "stream",
     "text": [
      "IMDB reviews: train = 12500 pos / 12500 neg, test = 12500 pos / 12500 neg\n"
     ]
    }
   ],
   "source": [
    "data, labels = read_imdb_data()\n",
    "print(\"IMDB reviews: train = {} pos / {} neg, test = {} pos / {} neg\".format(\n",
    "            len(data['train']['pos']), len(data['train']['neg']),\n",
    "            len(data['test']['pos']), len(data['test']['neg'])))"
   ]
  },
  {
   "cell_type": "code",
   "execution_count": 4,
   "metadata": {},
   "outputs": [],
   "source": [
    "from sklearn.utils import shuffle\n",
    "\n",
    "def prepare_imdb_data(data, labels):\n",
    "    \"\"\"Prepare training and test sets from IMDb movie reviews.\"\"\"\n",
    "    \n",
    "    #Combine positive and negative reviews and labels\n",
    "    data_train = data['train']['pos'] + data['train']['neg']\n",
    "    data_test = data['test']['pos'] + data['test']['neg']\n",
    "    labels_train = labels['train']['pos'] + labels['train']['neg']\n",
    "    labels_test = labels['test']['pos'] + labels['test']['neg']\n",
    "    \n",
    "    #Shuffle reviews and corresponding labels within training and test sets\n",
    "    data_train, labels_train = shuffle(data_train, labels_train)\n",
    "    data_test, labels_test = shuffle(data_test, labels_test)\n",
    "    \n",
    "    # Return a unified training data, test data, training labels, test labets\n",
    "    return data_train, data_test, labels_train, labels_test"
   ]
  },
  {
   "cell_type": "code",
   "execution_count": 5,
   "metadata": {},
   "outputs": [
    {
     "name": "stdout",
     "output_type": "stream",
     "text": [
      "IMDb reviews (combined): train = 25000, test = 25000\n"
     ]
    }
   ],
   "source": [
    "train_X, test_X, train_y, test_y = prepare_imdb_data(data, labels)\n",
    "print(\"IMDb reviews (combined): train = {}, test = {}\".format(len(train_X), \n",
    "                                                              len(test_X)))"
   ]
  },
  {
   "cell_type": "code",
   "execution_count": 6,
   "metadata": {},
   "outputs": [
    {
     "data": {
      "text/plain": [
       "'Ah, noir. My favourite genre. Otto Preminger\\'s follow-up to \"Laura\" is a film noir set in a postwar New York, where corruption and violence run rampant. It stars Dana Andrews as Sergeant Mark Dixon, a detective whose brutal tactics have landed him in hot water with his superiors. <br /><br />When he accidentally kills a murder suspect, Dixon tries to pin the blame on crime boss Tommy Scalese. Dixon is close to achieving his goal when he becomes involved with the dead man\\'s wife, the beautiful Morgan Taylor. Of course, in typical noir fashion, things quickly go down hill.<br /><br />While the film does nothing interesting camera or narrative wise, it does have a constant tone of dread and gloom. Like most great noirs, it is also wonderfully paced, sucking the viewer in right from the start.<br /><br />Still, like most of Preminger\\'s workmanlike films, it\\'s not something I\\'d watch again. It lacks the verbal wit of Wilder, the visual flamboyance of Hitchcock or the spatial experimentation of Welles. Like Lang\\'s later work, \"Sidewalk\" feels very much a \"clone\" of what a noir should be, instead of something really artistically genuine. <br /><br />Thematically the film is nothing special. It\\'s about a cop who finds himself slowly becoming a criminal. In one scene Dixon explains that his father himself was a small time crook, the film flirting with the notion of predestination, but this one scene is as far as Otto goes, or dares to take his ideas.<br /><br />The camera work is likewise disappointing. There\\'s no intelligence in Otto\\'s camera. No effort is made to assign the camera to anything. It doesn\\'t play with space or architecture or empahsise the step-by-step police procedural. It\\'s just tripod set ups with the occasional dolly in and out. Meaningless, though most people don\\'t care about these things. <br /><br />There is, however, one good shot where our hero is trapped in a car full of gangsters (noir cage) which itself enters a vehicle-lift (another cage) and is taken up into the chief gangster\\'s lair. Like Lynch\\'s \"Blue Velvet\", Otto retopologizes the film, constantly likens \"upstairs\" to hell. This works well, but the set design fails to reinforce it. <br /><br />7/10 - Otto seems content to follow the Hawksian mould of what a noir is, rather than toy with the possibilities of where noir can go. Like \"Detour\", \"Night in the City\", \"Scarlet Street\", \"In A Lonely Place\", \"Act of Violence\", \"Bomberang\" and \"Johnny Eager\", \"Where the Sidewalk Ends\" is one of those well made second tier film noirs. It\\'s competent and engaging, but lacks that extra special magic.'"
      ]
     },
     "execution_count": 6,
     "metadata": {},
     "output_type": "execute_result"
    }
   ],
   "source": [
    "train_X[100]"
   ]
  },
  {
   "cell_type": "code",
   "execution_count": 7,
   "metadata": {},
   "outputs": [
    {
     "data": {
      "text/plain": [
       "1"
      ]
     },
     "execution_count": 7,
     "metadata": {},
     "output_type": "execute_result"
    }
   ],
   "source": [
    "train_y[100]"
   ]
  },
  {
   "cell_type": "code",
   "execution_count": 8,
   "metadata": {},
   "outputs": [
    {
     "data": {
      "text/plain": [
       "25000"
      ]
     },
     "execution_count": 8,
     "metadata": {},
     "output_type": "execute_result"
    }
   ],
   "source": [
    "len(train_X)"
   ]
  },
  {
   "cell_type": "code",
   "execution_count": 9,
   "metadata": {},
   "outputs": [
    {
     "data": {
      "text/plain": [
       "25000"
      ]
     },
     "execution_count": 9,
     "metadata": {},
     "output_type": "execute_result"
    }
   ],
   "source": [
    "len(test_X)"
   ]
  },
  {
   "cell_type": "markdown",
   "metadata": {},
   "source": [
    "## Processing the data\n",
    "\n",
    "Now that we have our training and testing datasets merged and ready to use, we need to start processing the raw data into something that will be useable by our machine learning algorithm. To begin with, we remove any html formatting and any non-alpha numeric characters that may appear in the reviews. We will do this in a very simplistic way using Python's regular expression module. We will discuss the reason for this rather simplistic pre-processing later on."
   ]
  },
  {
   "cell_type": "code",
   "execution_count": 10,
   "metadata": {},
   "outputs": [],
   "source": [
    "import re\n",
    "\n",
    "REPLACE_NO_SPACE = re.compile(\"(\\.)|(\\;)|(\\:)|(\\!)|(\\')|(\\?)|(\\,)|(\\\")|(\\()|(\\))|(\\[)|(\\])\")\n",
    "REPLACE_WITH_SPACE = re.compile(\"(<br\\s*/><br\\s*/>)|(\\-)|(\\/)\")\n",
    "\n",
    "def review_to_words(review):\n",
    "    words = REPLACE_NO_SPACE.sub(\"\", review.lower())\n",
    "    words = REPLACE_WITH_SPACE.sub(\" \", words)\n",
    "    return words"
   ]
  },
  {
   "cell_type": "code",
   "execution_count": 11,
   "metadata": {},
   "outputs": [
    {
     "data": {
      "text/plain": [
       "'ah noir my favourite genre otto premingers follow up to laura is a film noir set in a postwar new york where corruption and violence run rampant it stars dana andrews as sergeant mark dixon a detective whose brutal tactics have landed him in hot water with his superiors  when he accidentally kills a murder suspect dixon tries to pin the blame on crime boss tommy scalese dixon is close to achieving his goal when he becomes involved with the dead mans wife the beautiful morgan taylor of course in typical noir fashion things quickly go down hill while the film does nothing interesting camera or narrative wise it does have a constant tone of dread and gloom like most great noirs it is also wonderfully paced sucking the viewer in right from the start still like most of premingers workmanlike films its not something id watch again it lacks the verbal wit of wilder the visual flamboyance of hitchcock or the spatial experimentation of welles like langs later work sidewalk feels very much a clone of what a noir should be instead of something really artistically genuine  thematically the film is nothing special its about a cop who finds himself slowly becoming a criminal in one scene dixon explains that his father himself was a small time crook the film flirting with the notion of predestination but this one scene is as far as otto goes or dares to take his ideas the camera work is likewise disappointing theres no intelligence in ottos camera no effort is made to assign the camera to anything it doesnt play with space or architecture or empahsise the step by step police procedural its just tripod set ups with the occasional dolly in and out meaningless though most people dont care about these things  there is however one good shot where our hero is trapped in a car full of gangsters noir cage which itself enters a vehicle lift another cage and is taken up into the chief gangsters lair like lynchs blue velvet otto retopologizes the film constantly likens upstairs to hell this works well but the set design fails to reinforce it  7 10   otto seems content to follow the hawksian mould of what a noir is rather than toy with the possibilities of where noir can go like detour night in the city scarlet street in a lonely place act of violence bomberang and johnny eager where the sidewalk ends is one of those well made second tier film noirs its competent and engaging but lacks that extra special magic'"
      ]
     },
     "execution_count": 11,
     "metadata": {},
     "output_type": "execute_result"
    }
   ],
   "source": [
    "review_to_words(train_X[100])"
   ]
  },
  {
   "cell_type": "code",
   "execution_count": 12,
   "metadata": {},
   "outputs": [],
   "source": [
    "import pickle\n",
    "\n",
    "# where to store cache files\n",
    "cache_dir = os.path.join(\"../cache\", \"sentiment_web_app\")\n",
    "# ensure cache directory exists\n",
    "os.makedirs(cache_dir, exist_ok=True)\n",
    "\n",
    "def preprocess_data(data_train, data_test, labels_train, labels_test,\n",
    "                    cache_dir=cache_dir, cache_file=\"preprocessed_data.pkl\"):\n",
    "    \"\"\"Convert each review to words; read from cache if available.\"\"\"\n",
    "\n",
    "    # If cache_file is not None, try to read from it first\n",
    "    cache_data = None\n",
    "    if cache_file is not None:\n",
    "        try:\n",
    "            with open(os.path.join(cache_dir, cache_file), \"rb\") as f:\n",
    "                cache_data = pickle.load(f)\n",
    "            print(\"Read preprocessed data from cache file:\", cache_file)\n",
    "        except:\n",
    "            pass  # unable to read from cache, but that's okay\n",
    "    \n",
    "    # If cache is missing, then do the heavy lifting\n",
    "    if cache_data is None:\n",
    "        # Preprocess training and test data to obtain words for each review\n",
    "        #words_train = list(map(review_to_words, data_train))\n",
    "        #words_test = list(map(review_to_words, data_test))\n",
    "        words_train = [review_to_words(review) for review in data_train]\n",
    "        words_test = [review_to_words(review) for review in data_test]\n",
    "        \n",
    "        # Write to cache file for future runs\n",
    "        if cache_file is not None:\n",
    "            cache_data = dict(words_train=words_train, words_test=words_test,\n",
    "                              labels_train=labels_train, labels_test=labels_test)\n",
    "            with open(os.path.join(cache_dir, cache_file), \"wb\") as f:\n",
    "                pickle.dump(cache_data, f)\n",
    "            print(\"Wrote preprocessed data to cache file:\", cache_file)\n",
    "    else:\n",
    "        # Unpack data loaded from cache file\n",
    "        words_train, words_test, labels_train, labels_test = \\\n",
    "            (cache_data['words_train'], cache_data['words_test'], \\\n",
    "             cache_data['labels_train'], cache_data['labels_test'])\n",
    "    \n",
    "    return words_train, words_test, labels_train, labels_test"
   ]
  },
  {
   "cell_type": "code",
   "execution_count": 13,
   "metadata": {},
   "outputs": [
    {
     "name": "stdout",
     "output_type": "stream",
     "text": [
      "Wrote preprocessed data to cache file: preprocessed_data.pkl\n"
     ]
    }
   ],
   "source": [
    "# Preprocess data\n",
    "train_X, test_X, train_y, test_y = \\\n",
    "    preprocess_data(train_X, test_X, train_y, test_y)"
   ]
  },
  {
   "cell_type": "markdown",
   "metadata": {},
   "source": [
    "### Extract Bag-of-Words features\n",
    "\n",
    "For the model we will be implementing, rather than using the reviews directly, we are going to transform each review into a Bag-of-Words feature representation. Keep in mind that 'in the wild' we will only have access to the training set so our transformer can only use the training set to construct a representation."
   ]
  },
  {
   "cell_type": "code",
   "execution_count": 14,
   "metadata": {},
   "outputs": [],
   "source": [
    "import numpy as np\n",
    "from sklearn.feature_extraction.text import CountVectorizer\n",
    "from sklearn.externals import joblib\n",
    "# joblib is an enhanced version of pickle that is more efficient \n",
    "# for storing NumPy arrays\n",
    "\n",
    "def extract_BoW_features(words_train, words_test, vocabulary_size=5000,\n",
    "                         cache_dir=cache_dir, cache_file=\"bow_features.pkl\"):\n",
    "    \"\"\"Extract Bag-of-Words for a given set of documents, \n",
    "       already preprocessed into words.\"\"\"\n",
    "    \n",
    "    # If cache_file is not None, try to read from it first\n",
    "    cache_data = None\n",
    "    if cache_file is not None:\n",
    "        try:\n",
    "            with open(os.path.join(cache_dir, cache_file), \"rb\") as f:\n",
    "                cache_data = joblib.load(f)\n",
    "            print(\"Read features from cache file:\", cache_file)\n",
    "        except:\n",
    "            pass  # unable to read from cache, but that's okay\n",
    "    \n",
    "    # If cache is missing, then do the heavy lifting\n",
    "    if cache_data is None:\n",
    "        # Fit a vectorizer to training documents and use it to \n",
    "        # transform them\n",
    "        # NOTE: Training documents have already been preprocessed \n",
    "        #       and tokenized into words; pass in dummy functions \n",
    "        #       to skip those steps, e.g. preprocessor=lambda x: x\n",
    "        vectorizer = CountVectorizer(max_features=vocabulary_size)\n",
    "        features_train = vectorizer.fit_transform(words_train).toarray()\n",
    "\n",
    "        # Apply the same vectorizer to transform the test documents \n",
    "        # (ignore unknown words)\n",
    "        features_test = vectorizer.transform(words_test).toarray()\n",
    "        \n",
    "        # NOTE: Remember to convert the features using .toarray() \n",
    "        #       for a compact representation\n",
    "        \n",
    "        # Write to cache file for future runs (store vocabulary as well)\n",
    "        if cache_file is not None:\n",
    "            vocabulary = vectorizer.vocabulary_\n",
    "            cache_data = dict(features_train=features_train, \n",
    "                              features_test=features_test, \n",
    "                              vocabulary=vocabulary)\n",
    "            with open(os.path.join(cache_dir, cache_file), \"wb\") as f:\n",
    "                joblib.dump(cache_data, f)\n",
    "            print(\"Wrote features to cache file:\", cache_file)\n",
    "    else:\n",
    "        # Unpack data loaded from cache file\n",
    "        features_train, features_test, vocabulary = \\\n",
    "            (cache_data['features_train'], cache_data['features_test'], \n",
    "             cache_data['vocabulary'])\n",
    "    \n",
    "    # Return both the extracted features as well as the vocabulary\n",
    "    return features_train, features_test, vocabulary"
   ]
  },
  {
   "cell_type": "code",
   "execution_count": 15,
   "metadata": {},
   "outputs": [
    {
     "name": "stdout",
     "output_type": "stream",
     "text": [
      "Wrote features to cache file: bow_features.pkl\n"
     ]
    }
   ],
   "source": [
    "# Extract Bag of Words features for both training and test datasets\n",
    "train_X, test_X, vocabulary = extract_BoW_features(train_X, test_X)"
   ]
  },
  {
   "cell_type": "code",
   "execution_count": 16,
   "metadata": {},
   "outputs": [
    {
     "data": {
      "text/plain": [
       "5000"
      ]
     },
     "execution_count": 16,
     "metadata": {},
     "output_type": "execute_result"
    }
   ],
   "source": [
    "len(train_X[100])"
   ]
  },
  {
   "cell_type": "code",
   "execution_count": 22,
   "metadata": {},
   "outputs": [
    {
     "data": {
      "text/plain": [
       "array([1, 0, 0, ..., 0, 0, 0], dtype=int64)"
      ]
     },
     "execution_count": 22,
     "metadata": {},
     "output_type": "execute_result"
    }
   ],
   "source": [
    "train_X[100]"
   ]
  },
  {
   "cell_type": "code",
   "execution_count": 19,
   "metadata": {},
   "outputs": [
    {
     "data": {
      "text/plain": [
       "25000"
      ]
     },
     "execution_count": 19,
     "metadata": {},
     "output_type": "execute_result"
    }
   ],
   "source": [
    "len(train_X)"
   ]
  },
  {
   "cell_type": "code",
   "execution_count": 20,
   "metadata": {},
   "outputs": [
    {
     "data": {
      "text/plain": [
       "25000"
      ]
     },
     "execution_count": 20,
     "metadata": {},
     "output_type": "execute_result"
    }
   ],
   "source": [
    "len(test_X)"
   ]
  },
  {
   "cell_type": "code",
   "execution_count": 21,
   "metadata": {},
   "outputs": [
    {
     "data": {
      "text/plain": [
       "5000"
      ]
     },
     "execution_count": 21,
     "metadata": {},
     "output_type": "execute_result"
    }
   ],
   "source": [
    "len(vocabulary)"
   ]
  },
  {
   "cell_type": "markdown",
   "metadata": {},
   "source": [
    "## Step 3: Upload data to S3\n",
    "\n",
    "Now that we have created the feature representation of our training (and testing) data, it is time to start setting up and using the XGBoost classifier provided by SageMaker.\n",
    "\n",
    "### Writing the datasets\n",
    "\n",
    "The XGBoost classifier that we will be using requires the dataset to be written to a file and stored using Amazon S3. To do this, we will start by splitting the training dataset into two parts, the data we will train the model with and a validation set. Then, we will write those datasets to a file locally and then upload the files to S3. In addition, we will write the test set to a file and upload that file to S3. This is so that we can use SageMakers Batch Transform functionality to test our model once we've fit it."
   ]
  },
  {
   "cell_type": "code",
   "execution_count": 23,
   "metadata": {},
   "outputs": [],
   "source": [
    "import pandas as pd\n",
    "\n",
    "# Earlier we shuffled the training dataset so to \n",
    "# make things simple we can just assign\n",
    "# the first 10 000 reviews to the validation set \n",
    "# and use the remaining reviews for training.\n",
    "val_X = pd.DataFrame(train_X[:10000])\n",
    "train_X = pd.DataFrame(train_X[10000:])\n",
    "\n",
    "val_y = pd.DataFrame(train_y[:10000])\n",
    "train_y = pd.DataFrame(train_y[10000:])"
   ]
  },
  {
   "cell_type": "markdown",
   "metadata": {},
   "source": [
    "The documentation for the XGBoost algorithm in SageMaker requires that the training and validation datasets should contain no headers or index and that the label should occur first for each sample.\n",
    "\n",
    "For more information about this and other algorithms, the SageMaker developer documentation can be found on __[Amazon's website.](https://docs.aws.amazon.com/sagemaker/latest/dg/)__"
   ]
  },
  {
   "cell_type": "code",
   "execution_count": 24,
   "metadata": {},
   "outputs": [],
   "source": [
    "# First we make sure that the local directory in \n",
    "# which we'd like to store the training and \n",
    "# validation csv files exists.\n",
    "data_dir = '../data/sentiment_web_app'\n",
    "if not os.path.exists(data_dir):\n",
    "    os.makedirs(data_dir)"
   ]
  },
  {
   "cell_type": "code",
   "execution_count": 25,
   "metadata": {},
   "outputs": [],
   "source": [
    "pd.DataFrame(test_X).to_csv(os.path.join(data_dir, 'test.csv'), \n",
    "                            header=False, index=False)\n",
    "\n",
    "pd.concat([val_y, val_X], axis=1).to_csv(os.path.join(data_dir, 'validation.csv'), \n",
    "                                         header=False, index=False)\n",
    "pd.concat([train_y, train_X], axis=1).to_csv(os.path.join(data_dir, 'train.csv'), \n",
    "                                             header=False, index=False)"
   ]
  },
  {
   "cell_type": "code",
   "execution_count": 26,
   "metadata": {},
   "outputs": [],
   "source": [
    "# To save a bit of memory we can set \n",
    "# text_X, train_X, val_X, train_y and val_y to None.\n",
    "\n",
    "test_X = train_X = val_X = train_y = val_y = None"
   ]
  },
  {
   "cell_type": "markdown",
   "metadata": {},
   "source": [
    "### Uploading Training / Validation files to S3\n",
    "\n",
    "Amazon's S3 service allows us to store files that can be accessed by both the built-in training models such as the XGBoost model we will be using as well as custom models such as the one we will see a little later.\n",
    "\n",
    "For this and most other tasks we will be doing using SageMaker, there are two methods we could use. The first is to use the low level functionality of SageMaker which requires knowing each of the objects involved in the SageMaker environment. The second is to use the high level functionality in which certain choices have been made on the user's behalf. The low level approach benefits from allowing the user a great deal of flexibility while the high level approach makes development much quicker. For our purposes we will opt to use the high level approach although using the low-level approach is certainly an option.\n",
    "\n",
    "Recall the method `upload_data()` which is a member of the object representing our current SageMaker session. What this method does is upload the data to the default bucket (which is created if it does not exist) into the path described by the key_prefix variable. To see this for yourself, once you have uploaded the data files, go to the S3 console and look to see where the files have been uploaded.\n",
    "\n",
    "For additional resources, see the __[SageMaker API documentation](http://sagemaker.readthedocs.io/en/latest/)__ and in addition the __[SageMaker Developer Guide.](https://docs.aws.amazon.com/sagemaker/latest/dg/)__"
   ]
  },
  {
   "cell_type": "code",
   "execution_count": 27,
   "metadata": {},
   "outputs": [
    {
     "name": "stderr",
     "output_type": "stream",
     "text": [
      "INFO:sagemaker:Created S3 bucket: sagemaker-us-east-1-112107346316\n"
     ]
    }
   ],
   "source": [
    "import sagemaker\n",
    "\n",
    "session = sagemaker.Session() # Store the current SageMaker session\n",
    "\n",
    "# S3 prefix (which folder will we use)\n",
    "prefix = 'sentiment-web-app'\n",
    "\n",
    "test_location = session.upload_data(os.path.join(data_dir, 'test.csv'), \n",
    "                                    key_prefix=prefix)\n",
    "val_location = session.upload_data(os.path.join(data_dir, 'validation.csv'), \n",
    "                                   key_prefix=prefix)\n",
    "train_location = session.upload_data(os.path.join(data_dir, 'train.csv'), \n",
    "                                     key_prefix=prefix)"
   ]
  },
  {
   "cell_type": "markdown",
   "metadata": {},
   "source": [
    "## Step 4: Creating the XGBoost model\n",
    "\n",
    "Now that the data has been uploaded it is time to create the XGBoost model. To begin with, we need to do some setup. At this point it is worth discussing what a model is in SageMaker. It is easiest to think of a model of comprising three different objects in the SageMaker ecosystem, which interact with one another.\n",
    "\n",
    "- Model Artifacts\n",
    "- Training Code (Container)\n",
    "- Inference Code (Container)\n",
    "\n",
    "The Model Artifacts are what you might think of as the actual model itself. For example, if you were building a neural network, the model artifacts would be the weights of the various layers. In our case, for an XGBoost model, the artifacts are the actual trees that are created during training.\n",
    "\n",
    "The other two objects, the training code and the inference code are then used to manipulate the training artifacts. More precisely, the training code uses the training data that is provided and creates the model artifacts, while the inference code uses the model artifacts to make predictions on new data.\n",
    "\n",
    "The way that SageMaker runs the training and inference code is by making use of Docker containers. For now, think of a container as being a way of packaging code up so that dependencies aren't an issue."
   ]
  },
  {
   "cell_type": "code",
   "execution_count": 28,
   "metadata": {},
   "outputs": [],
   "source": [
    "from sagemaker import get_execution_role\n",
    "\n",
    "# Our current execution role is required when \n",
    "# creating the model as the training\n",
    "# and inference code will need to access \n",
    "# the model artifacts.\n",
    "role = get_execution_role()"
   ]
  },
  {
   "cell_type": "code",
   "execution_count": 29,
   "metadata": {},
   "outputs": [],
   "source": [
    "# We need to retrieve the location of the container \n",
    "# which is provided by Amazon for using XGBoost.\n",
    "# As a matter of convenience, the training and \n",
    "# inference code both use the same container.\n",
    "from sagemaker.amazon.amazon_estimator import get_image_uri\n",
    "\n",
    "container = get_image_uri(session.boto_region_name, 'xgboost')"
   ]
  },
  {
   "cell_type": "code",
   "execution_count": 30,
   "metadata": {},
   "outputs": [],
   "source": [
    "# First we create a SageMaker estimator object for our model.\n",
    "xgb = sagemaker.estimator.Estimator(\n",
    "    container, # The location of the container we wish to use\n",
    "    role,                                    # What is our current IAM Role\n",
    "    train_instance_count=1,                  # How many compute instances\n",
    "    train_instance_type='ml.m4.xlarge',      # What kind of compute instances\n",
    "    output_path='s3://{}/{}/output'.format(session.default_bucket(), prefix),\n",
    "    sagemaker_session=session)\n",
    "\n",
    "# And then set the algorithm specific parameters.\n",
    "xgb.set_hyperparameters(max_depth=5,\n",
    "                        eta=0.2,\n",
    "                        gamma=4,\n",
    "                        min_child_weight=6,\n",
    "                        subsample=0.8,\n",
    "                        silent=0,\n",
    "                        objective='binary:logistic',\n",
    "                        early_stopping_rounds=10,\n",
    "                        num_round=500)"
   ]
  },
  {
   "cell_type": "markdown",
   "metadata": {},
   "source": [
    "### Fit the XGBoost model\n",
    "\n",
    "Now that our model has been set up we simply need to attach the training and validation datasets and then ask SageMaker to set up the computation."
   ]
  },
  {
   "cell_type": "code",
   "execution_count": 31,
   "metadata": {},
   "outputs": [],
   "source": [
    "s3_input_train = sagemaker.s3_input(s3_data=train_location, content_type='csv')\n",
    "s3_input_validation = sagemaker.s3_input(s3_data=val_location, content_type='csv')"
   ]
  },
  {
   "cell_type": "code",
   "execution_count": 32,
   "metadata": {
    "scrolled": false
   },
   "outputs": [
    {
     "name": "stderr",
     "output_type": "stream",
     "text": [
      "INFO:sagemaker:Creating training-job with name: xgboost-2019-04-13-18-57-38-911\n"
     ]
    },
    {
     "name": "stdout",
     "output_type": "stream",
     "text": [
      "2019-04-13 18:57:39 Starting - Starting the training job...\n",
      "2019-04-13 18:57:40 Starting - Launching requested ML instances......\n",
      "2019-04-13 18:58:44 Starting - Preparing the instances for training......\n",
      "2019-04-13 18:59:57 Downloading - Downloading input data...\n",
      "2019-04-13 19:00:32 Training - Training image download completed. Training in progress..\n",
      "\u001b[31mArguments: train\u001b[0m\n",
      "\u001b[31m[2019-04-13:19:00:33:INFO] Running standalone xgboost training.\u001b[0m\n",
      "\u001b[31m[2019-04-13:19:00:33:INFO] File size need to be processed in the node: 238.5mb. Available memory size in the node: 8393.98mb\u001b[0m\n",
      "\u001b[31m[2019-04-13:19:00:33:INFO] Determined delimiter of CSV input is ','\u001b[0m\n",
      "\u001b[31m[19:00:33] S3DistributionType set as FullyReplicated\u001b[0m\n",
      "\u001b[31m[19:00:35] 15000x5000 matrix with 75000000 entries loaded from /opt/ml/input/data/train?format=csv&label_column=0&delimiter=,\u001b[0m\n",
      "\u001b[31m[2019-04-13:19:00:35:INFO] Determined delimiter of CSV input is ','\u001b[0m\n",
      "\u001b[31m[19:00:35] S3DistributionType set as FullyReplicated\u001b[0m\n",
      "\u001b[31m[19:00:36] 10000x5000 matrix with 50000000 entries loaded from /opt/ml/input/data/validation?format=csv&label_column=0&delimiter=,\u001b[0m\n",
      "\u001b[31m[19:00:39] src/tree/updater_prune.cc:74: tree pruning end, 1 roots, 40 extra nodes, 10 pruned nodes, max_depth=5\u001b[0m\n",
      "\u001b[31m[0]#011train-error:0.308067#011validation-error:0.31\u001b[0m\n",
      "\u001b[31mMultiple eval metrics have been passed: 'validation-error' will be used for early stopping.\n",
      "\u001b[0m\n",
      "\u001b[31mWill train until validation-error hasn't improved in 10 rounds.\u001b[0m\n",
      "\u001b[31m[19:00:41] src/tree/updater_prune.cc:74: tree pruning end, 1 roots, 42 extra nodes, 6 pruned nodes, max_depth=5\u001b[0m\n",
      "\u001b[31m[1]#011train-error:0.302867#011validation-error:0.3076\u001b[0m\n",
      "\u001b[31m[19:00:42] src/tree/updater_prune.cc:74: tree pruning end, 1 roots, 40 extra nodes, 4 pruned nodes, max_depth=5\u001b[0m\n",
      "\u001b[31m[2]#011train-error:0.289867#011validation-error:0.2949\u001b[0m\n",
      "\u001b[31m[19:00:43] src/tree/updater_prune.cc:74: tree pruning end, 1 roots, 44 extra nodes, 10 pruned nodes, max_depth=5\u001b[0m\n",
      "\u001b[31m[3]#011train-error:0.2662#011validation-error:0.2745\u001b[0m\n",
      "\u001b[31m[19:00:45] src/tree/updater_prune.cc:74: tree pruning end, 1 roots, 30 extra nodes, 4 pruned nodes, max_depth=5\u001b[0m\n",
      "\u001b[31m[4]#011train-error:0.261933#011validation-error:0.2678\u001b[0m\n",
      "\u001b[31m[19:00:46] src/tree/updater_prune.cc:74: tree pruning end, 1 roots, 36 extra nodes, 4 pruned nodes, max_depth=5\u001b[0m\n",
      "\u001b[31m[5]#011train-error:0.260467#011validation-error:0.2656\u001b[0m\n",
      "\u001b[31m[19:00:48] src/tree/updater_prune.cc:74: tree pruning end, 1 roots, 30 extra nodes, 4 pruned nodes, max_depth=5\u001b[0m\n",
      "\u001b[31m[6]#011train-error:0.255933#011validation-error:0.2624\u001b[0m\n",
      "\u001b[31m[19:00:49] src/tree/updater_prune.cc:74: tree pruning end, 1 roots, 32 extra nodes, 6 pruned nodes, max_depth=5\u001b[0m\n",
      "\u001b[31m[7]#011train-error:0.247867#011validation-error:0.2553\u001b[0m\n",
      "\u001b[31m[19:00:50] src/tree/updater_prune.cc:74: tree pruning end, 1 roots, 36 extra nodes, 4 pruned nodes, max_depth=5\u001b[0m\n",
      "\u001b[31m[8]#011train-error:0.2348#011validation-error:0.2462\u001b[0m\n",
      "\u001b[31m[19:00:52] src/tree/updater_prune.cc:74: tree pruning end, 1 roots, 36 extra nodes, 4 pruned nodes, max_depth=5\u001b[0m\n",
      "\u001b[31m[9]#011train-error:0.229333#011validation-error:0.2408\u001b[0m\n",
      "\u001b[31m[19:00:53] src/tree/updater_prune.cc:74: tree pruning end, 1 roots, 34 extra nodes, 4 pruned nodes, max_depth=5\u001b[0m\n",
      "\u001b[31m[10]#011train-error:0.224#011validation-error:0.2376\u001b[0m\n",
      "\u001b[31m[19:00:54] src/tree/updater_prune.cc:74: tree pruning end, 1 roots, 24 extra nodes, 8 pruned nodes, max_depth=5\u001b[0m\n",
      "\u001b[31m[11]#011train-error:0.2192#011validation-error:0.2337\u001b[0m\n",
      "\u001b[31m[19:00:56] src/tree/updater_prune.cc:74: tree pruning end, 1 roots, 22 extra nodes, 10 pruned nodes, max_depth=5\u001b[0m\n",
      "\u001b[31m[12]#011train-error:0.2162#011validation-error:0.2277\u001b[0m\n",
      "\u001b[31m[19:00:57] src/tree/updater_prune.cc:74: tree pruning end, 1 roots, 36 extra nodes, 4 pruned nodes, max_depth=5\u001b[0m\n",
      "\u001b[31m[13]#011train-error:0.2102#011validation-error:0.2271\u001b[0m\n",
      "\u001b[31m[19:00:58] src/tree/updater_prune.cc:74: tree pruning end, 1 roots, 34 extra nodes, 2 pruned nodes, max_depth=5\u001b[0m\n",
      "\u001b[31m[14]#011train-error:0.204867#011validation-error:0.2224\u001b[0m\n",
      "\u001b[31m[19:00:59] src/tree/updater_prune.cc:74: tree pruning end, 1 roots, 30 extra nodes, 16 pruned nodes, max_depth=5\u001b[0m\n",
      "\u001b[31m[15]#011train-error:0.201#011validation-error:0.22\u001b[0m\n",
      "\u001b[31m[19:01:01] src/tree/updater_prune.cc:74: tree pruning end, 1 roots, 22 extra nodes, 8 pruned nodes, max_depth=5\u001b[0m\n",
      "\u001b[31m[16]#011train-error:0.1964#011validation-error:0.2154\u001b[0m\n",
      "\u001b[31m[19:01:02] src/tree/updater_prune.cc:74: tree pruning end, 1 roots, 42 extra nodes, 8 pruned nodes, max_depth=5\u001b[0m\n",
      "\u001b[31m[17]#011train-error:0.192333#011validation-error:0.2142\u001b[0m\n",
      "\u001b[31m[19:01:03] src/tree/updater_prune.cc:74: tree pruning end, 1 roots, 28 extra nodes, 12 pruned nodes, max_depth=5\u001b[0m\n",
      "\u001b[31m[18]#011train-error:0.189867#011validation-error:0.2135\u001b[0m\n",
      "\u001b[31m[19:01:05] src/tree/updater_prune.cc:74: tree pruning end, 1 roots, 36 extra nodes, 10 pruned nodes, max_depth=5\u001b[0m\n",
      "\u001b[31m[19]#011train-error:0.186067#011validation-error:0.2097\u001b[0m\n",
      "\u001b[31m[19:01:06] src/tree/updater_prune.cc:74: tree pruning end, 1 roots, 30 extra nodes, 6 pruned nodes, max_depth=5\u001b[0m\n",
      "\u001b[31m[20]#011train-error:0.1836#011validation-error:0.2084\u001b[0m\n",
      "\u001b[31m[19:01:07] src/tree/updater_prune.cc:74: tree pruning end, 1 roots, 30 extra nodes, 6 pruned nodes, max_depth=5\u001b[0m\n",
      "\u001b[31m[21]#011train-error:0.180533#011validation-error:0.2052\u001b[0m\n",
      "\u001b[31m[19:01:09] src/tree/updater_prune.cc:74: tree pruning end, 1 roots, 30 extra nodes, 16 pruned nodes, max_depth=5\u001b[0m\n",
      "\u001b[31m[22]#011train-error:0.1792#011validation-error:0.2035\u001b[0m\n",
      "\u001b[31m[19:01:10] src/tree/updater_prune.cc:74: tree pruning end, 1 roots, 32 extra nodes, 8 pruned nodes, max_depth=5\u001b[0m\n",
      "\u001b[31m[23]#011train-error:0.1754#011validation-error:0.202\u001b[0m\n",
      "\u001b[31m[19:01:11] src/tree/updater_prune.cc:74: tree pruning end, 1 roots, 24 extra nodes, 14 pruned nodes, max_depth=5\u001b[0m\n",
      "\u001b[31m[24]#011train-error:0.173933#011validation-error:0.1989\u001b[0m\n",
      "\u001b[31m[19:01:13] src/tree/updater_prune.cc:74: tree pruning end, 1 roots, 30 extra nodes, 14 pruned nodes, max_depth=5\u001b[0m\n",
      "\u001b[31m[25]#011train-error:0.172267#011validation-error:0.1983\u001b[0m\n",
      "\u001b[31m[19:01:14] src/tree/updater_prune.cc:74: tree pruning end, 1 roots, 14 extra nodes, 10 pruned nodes, max_depth=5\u001b[0m\n",
      "\u001b[31m[26]#011train-error:0.170467#011validation-error:0.1965\u001b[0m\n",
      "\u001b[31m[19:01:15] src/tree/updater_prune.cc:74: tree pruning end, 1 roots, 26 extra nodes, 12 pruned nodes, max_depth=5\u001b[0m\n",
      "\u001b[31m[27]#011train-error:0.1676#011validation-error:0.195\u001b[0m\n",
      "\u001b[31m[19:01:16] src/tree/updater_prune.cc:74: tree pruning end, 1 roots, 26 extra nodes, 4 pruned nodes, max_depth=5\u001b[0m\n",
      "\u001b[31m[28]#011train-error:0.1658#011validation-error:0.1934\u001b[0m\n",
      "\u001b[31m[19:01:18] src/tree/updater_prune.cc:74: tree pruning end, 1 roots, 30 extra nodes, 6 pruned nodes, max_depth=5\u001b[0m\n",
      "\u001b[31m[29]#011train-error:0.165933#011validation-error:0.192\u001b[0m\n",
      "\u001b[31m[19:01:19] src/tree/updater_prune.cc:74: tree pruning end, 1 roots, 18 extra nodes, 16 pruned nodes, max_depth=5\u001b[0m\n",
      "\u001b[31m[30]#011train-error:0.165#011validation-error:0.1899\u001b[0m\n",
      "\u001b[31m[19:01:20] src/tree/updater_prune.cc:74: tree pruning end, 1 roots, 36 extra nodes, 4 pruned nodes, max_depth=5\u001b[0m\n",
      "\u001b[31m[31]#011train-error:0.164667#011validation-error:0.1896\u001b[0m\n",
      "\u001b[31m[19:01:22] src/tree/updater_prune.cc:74: tree pruning end, 1 roots, 22 extra nodes, 14 pruned nodes, max_depth=5\u001b[0m\n",
      "\u001b[31m[32]#011train-error:0.1618#011validation-error:0.1887\u001b[0m\n",
      "\u001b[31m[19:01:23] src/tree/updater_prune.cc:74: tree pruning end, 1 roots, 24 extra nodes, 10 pruned nodes, max_depth=5\u001b[0m\n",
      "\u001b[31m[33]#011train-error:0.159867#011validation-error:0.1887\u001b[0m\n",
      "\u001b[31m[19:01:24] src/tree/updater_prune.cc:74: tree pruning end, 1 roots, 28 extra nodes, 6 pruned nodes, max_depth=5\u001b[0m\n",
      "\u001b[31m[34]#011train-error:0.1588#011validation-error:0.1872\u001b[0m\n",
      "\u001b[31m[19:01:26] src/tree/updater_prune.cc:74: tree pruning end, 1 roots, 16 extra nodes, 6 pruned nodes, max_depth=5\u001b[0m\n",
      "\u001b[31m[35]#011train-error:0.156#011validation-error:0.1866\u001b[0m\n",
      "\u001b[31m[19:01:27] src/tree/updater_prune.cc:74: tree pruning end, 1 roots, 22 extra nodes, 8 pruned nodes, max_depth=5\u001b[0m\n",
      "\u001b[31m[36]#011train-error:0.155067#011validation-error:0.186\u001b[0m\n",
      "\u001b[31m[19:01:28] src/tree/updater_prune.cc:74: tree pruning end, 1 roots, 22 extra nodes, 8 pruned nodes, max_depth=5\u001b[0m\n",
      "\u001b[31m[37]#011train-error:0.155333#011validation-error:0.1843\u001b[0m\n",
      "\u001b[31m[19:01:29] src/tree/updater_prune.cc:74: tree pruning end, 1 roots, 22 extra nodes, 4 pruned nodes, max_depth=5\u001b[0m\n",
      "\u001b[31m[38]#011train-error:0.153267#011validation-error:0.1827\u001b[0m\n",
      "\u001b[31m[19:01:31] src/tree/updater_prune.cc:74: tree pruning end, 1 roots, 24 extra nodes, 6 pruned nodes, max_depth=5\u001b[0m\n",
      "\u001b[31m[39]#011train-error:0.150533#011validation-error:0.1822\u001b[0m\n",
      "\u001b[31m[19:01:32] src/tree/updater_prune.cc:74: tree pruning end, 1 roots, 28 extra nodes, 6 pruned nodes, max_depth=5\u001b[0m\n",
      "\u001b[31m[40]#011train-error:0.149533#011validation-error:0.1816\u001b[0m\n",
      "\u001b[31m[19:01:33] src/tree/updater_prune.cc:74: tree pruning end, 1 roots, 22 extra nodes, 6 pruned nodes, max_depth=5\u001b[0m\n",
      "\u001b[31m[41]#011train-error:0.148467#011validation-error:0.1823\u001b[0m\n",
      "\u001b[31m[19:01:35] src/tree/updater_prune.cc:74: tree pruning end, 1 roots, 30 extra nodes, 6 pruned nodes, max_depth=5\u001b[0m\n",
      "\u001b[31m[42]#011train-error:0.147133#011validation-error:0.1813\u001b[0m\n",
      "\u001b[31m[19:01:36] src/tree/updater_prune.cc:74: tree pruning end, 1 roots, 12 extra nodes, 12 pruned nodes, max_depth=5\u001b[0m\n",
      "\u001b[31m[43]#011train-error:0.147267#011validation-error:0.181\u001b[0m\n",
      "\u001b[31m[19:01:37] src/tree/updater_prune.cc:74: tree pruning end, 1 roots, 22 extra nodes, 2 pruned nodes, max_depth=5\u001b[0m\n",
      "\u001b[31m[44]#011train-error:0.145467#011validation-error:0.1784\u001b[0m\n",
      "\u001b[31m[19:01:39] src/tree/updater_prune.cc:74: tree pruning end, 1 roots, 32 extra nodes, 14 pruned nodes, max_depth=5\u001b[0m\n",
      "\u001b[31m[45]#011train-error:0.144867#011validation-error:0.1778\u001b[0m\n",
      "\u001b[31m[19:01:40] src/tree/updater_prune.cc:74: tree pruning end, 1 roots, 30 extra nodes, 6 pruned nodes, max_depth=5\u001b[0m\n",
      "\u001b[31m[46]#011train-error:0.143733#011validation-error:0.1773\u001b[0m\n",
      "\u001b[31m[19:01:41] src/tree/updater_prune.cc:74: tree pruning end, 1 roots, 34 extra nodes, 6 pruned nodes, max_depth=5\u001b[0m\n",
      "\u001b[31m[47]#011train-error:0.142867#011validation-error:0.1776\u001b[0m\n",
      "\u001b[31m[19:01:42] src/tree/updater_prune.cc:74: tree pruning end, 1 roots, 20 extra nodes, 12 pruned nodes, max_depth=5\u001b[0m\n",
      "\u001b[31m[48]#011train-error:0.140733#011validation-error:0.1772\u001b[0m\n",
      "\u001b[31m[19:01:44] src/tree/updater_prune.cc:74: tree pruning end, 1 roots, 28 extra nodes, 12 pruned nodes, max_depth=5\u001b[0m\n",
      "\u001b[31m[49]#011train-error:0.138667#011validation-error:0.1764\u001b[0m\n",
      "\u001b[31m[19:01:45] src/tree/updater_prune.cc:74: tree pruning end, 1 roots, 22 extra nodes, 6 pruned nodes, max_depth=5\u001b[0m\n",
      "\u001b[31m[50]#011train-error:0.137733#011validation-error:0.1757\u001b[0m\n",
      "\u001b[31m[19:01:46] src/tree/updater_prune.cc:74: tree pruning end, 1 roots, 20 extra nodes, 12 pruned nodes, max_depth=5\u001b[0m\n",
      "\u001b[31m[51]#011train-error:0.137067#011validation-error:0.1734\u001b[0m\n",
      "\u001b[31m[19:01:48] src/tree/updater_prune.cc:74: tree pruning end, 1 roots, 26 extra nodes, 14 pruned nodes, max_depth=5\u001b[0m\n",
      "\u001b[31m[52]#011train-error:0.135867#011validation-error:0.1746\u001b[0m\n",
      "\u001b[31m[19:01:49] src/tree/updater_prune.cc:74: tree pruning end, 1 roots, 12 extra nodes, 10 pruned nodes, max_depth=5\u001b[0m\n",
      "\u001b[31m[53]#011train-error:0.134933#011validation-error:0.1737\u001b[0m\n",
      "\u001b[31m[19:01:50] src/tree/updater_prune.cc:74: tree pruning end, 1 roots, 32 extra nodes, 4 pruned nodes, max_depth=5\u001b[0m\n",
      "\u001b[31m[54]#011train-error:0.133067#011validation-error:0.1731\u001b[0m\n",
      "\u001b[31m[19:01:52] src/tree/updater_prune.cc:74: tree pruning end, 1 roots, 20 extra nodes, 8 pruned nodes, max_depth=5\u001b[0m\n",
      "\u001b[31m[55]#011train-error:0.1322#011validation-error:0.1714\u001b[0m\n",
      "\u001b[31m[19:01:53] src/tree/updater_prune.cc:74: tree pruning end, 1 roots, 10 extra nodes, 12 pruned nodes, max_depth=5\u001b[0m\n",
      "\u001b[31m[56]#011train-error:0.132133#011validation-error:0.171\u001b[0m\n",
      "\u001b[31m[19:01:54] src/tree/updater_prune.cc:74: tree pruning end, 1 roots, 18 extra nodes, 4 pruned nodes, max_depth=5\u001b[0m\n",
      "\u001b[31m[57]#011train-error:0.1308#011validation-error:0.1701\u001b[0m\n",
      "\u001b[31m[19:01:56] src/tree/updater_prune.cc:74: tree pruning end, 1 roots, 14 extra nodes, 14 pruned nodes, max_depth=5\u001b[0m\n",
      "\u001b[31m[58]#011train-error:0.129667#011validation-error:0.1691\u001b[0m\n",
      "\u001b[31m[19:01:57] src/tree/updater_prune.cc:74: tree pruning end, 1 roots, 20 extra nodes, 10 pruned nodes, max_depth=5\u001b[0m\n",
      "\u001b[31m[59]#011train-error:0.1288#011validation-error:0.1682\u001b[0m\n",
      "\u001b[31m[19:01:58] src/tree/updater_prune.cc:74: tree pruning end, 1 roots, 22 extra nodes, 4 pruned nodes, max_depth=5\u001b[0m\n",
      "\u001b[31m[60]#011train-error:0.127067#011validation-error:0.1695\u001b[0m\n",
      "\u001b[31m[19:02:00] src/tree/updater_prune.cc:74: tree pruning end, 1 roots, 28 extra nodes, 10 pruned nodes, max_depth=5\u001b[0m\n",
      "\u001b[31m[61]#011train-error:0.126067#011validation-error:0.167\u001b[0m\n",
      "\u001b[31m[19:02:01] src/tree/updater_prune.cc:74: tree pruning end, 1 roots, 22 extra nodes, 4 pruned nodes, max_depth=5\u001b[0m\n",
      "\u001b[31m[62]#011train-error:0.124667#011validation-error:0.1666\u001b[0m\n",
      "\u001b[31m[19:02:02] src/tree/updater_prune.cc:74: tree pruning end, 1 roots, 24 extra nodes, 6 pruned nodes, max_depth=5\u001b[0m\n",
      "\u001b[31m[63]#011train-error:0.123867#011validation-error:0.1663\u001b[0m\n",
      "\u001b[31m[19:02:04] src/tree/updater_prune.cc:74: tree pruning end, 1 roots, 18 extra nodes, 12 pruned nodes, max_depth=5\u001b[0m\n",
      "\u001b[31m[64]#011train-error:0.123933#011validation-error:0.1665\u001b[0m\n",
      "\u001b[31m[19:02:05] src/tree/updater_prune.cc:74: tree pruning end, 1 roots, 16 extra nodes, 6 pruned nodes, max_depth=5\u001b[0m\n",
      "\u001b[31m[65]#011train-error:0.123733#011validation-error:0.1653\u001b[0m\n",
      "\u001b[31m[19:02:06] src/tree/updater_prune.cc:74: tree pruning end, 1 roots, 20 extra nodes, 10 pruned nodes, max_depth=5\u001b[0m\n",
      "\u001b[31m[66]#011train-error:0.122933#011validation-error:0.1646\u001b[0m\n",
      "\u001b[31m[19:02:07] src/tree/updater_prune.cc:74: tree pruning end, 1 roots, 32 extra nodes, 10 pruned nodes, max_depth=5\u001b[0m\n",
      "\u001b[31m[67]#011train-error:0.122733#011validation-error:0.1642\u001b[0m\n",
      "\u001b[31m[19:02:09] src/tree/updater_prune.cc:74: tree pruning end, 1 roots, 22 extra nodes, 16 pruned nodes, max_depth=5\u001b[0m\n",
      "\u001b[31m[68]#011train-error:0.121#011validation-error:0.1638\u001b[0m\n",
      "\u001b[31m[19:02:10] src/tree/updater_prune.cc:74: tree pruning end, 1 roots, 14 extra nodes, 14 pruned nodes, max_depth=5\u001b[0m\n",
      "\u001b[31m[69]#011train-error:0.121267#011validation-error:0.1633\u001b[0m\n",
      "\u001b[31m[19:02:11] src/tree/updater_prune.cc:74: tree pruning end, 1 roots, 22 extra nodes, 6 pruned nodes, max_depth=5\u001b[0m\n",
      "\u001b[31m[70]#011train-error:0.1198#011validation-error:0.1637\u001b[0m\n",
      "\u001b[31m[19:02:13] src/tree/updater_prune.cc:74: tree pruning end, 1 roots, 34 extra nodes, 10 pruned nodes, max_depth=5\u001b[0m\n",
      "\u001b[31m[71]#011train-error:0.118267#011validation-error:0.1636\u001b[0m\n",
      "\u001b[31m[19:02:14] src/tree/updater_prune.cc:74: tree pruning end, 1 roots, 20 extra nodes, 8 pruned nodes, max_depth=5\u001b[0m\n",
      "\u001b[31m[72]#011train-error:0.117933#011validation-error:0.1635\u001b[0m\n",
      "\u001b[31m[19:02:15] src/tree/updater_prune.cc:74: tree pruning end, 1 roots, 26 extra nodes, 8 pruned nodes, max_depth=5\u001b[0m\n",
      "\u001b[31m[73]#011train-error:0.1172#011validation-error:0.1632\u001b[0m\n",
      "\u001b[31m[19:02:17] src/tree/updater_prune.cc:74: tree pruning end, 1 roots, 18 extra nodes, 12 pruned nodes, max_depth=5\u001b[0m\n",
      "\u001b[31m[74]#011train-error:0.116067#011validation-error:0.1632\u001b[0m\n",
      "\u001b[31m[19:02:18] src/tree/updater_prune.cc:74: tree pruning end, 1 roots, 24 extra nodes, 22 pruned nodes, max_depth=5\u001b[0m\n",
      "\u001b[31m[75]#011train-error:0.1152#011validation-error:0.1614\u001b[0m\n",
      "\u001b[31m[19:02:19] src/tree/updater_prune.cc:74: tree pruning end, 1 roots, 14 extra nodes, 4 pruned nodes, max_depth=5\u001b[0m\n",
      "\u001b[31m[76]#011train-error:0.1148#011validation-error:0.1613\u001b[0m\n",
      "\u001b[31m[19:02:20] src/tree/updater_prune.cc:74: tree pruning end, 1 roots, 14 extra nodes, 16 pruned nodes, max_depth=5\u001b[0m\n",
      "\u001b[31m[77]#011train-error:0.1148#011validation-error:0.1621\u001b[0m\n",
      "\u001b[31m[19:02:22] src/tree/updater_prune.cc:74: tree pruning end, 1 roots, 20 extra nodes, 8 pruned nodes, max_depth=5\u001b[0m\n",
      "\u001b[31m[78]#011train-error:0.1144#011validation-error:0.1608\u001b[0m\n",
      "\u001b[31m[19:02:23] src/tree/updater_prune.cc:74: tree pruning end, 1 roots, 20 extra nodes, 14 pruned nodes, max_depth=5\u001b[0m\n",
      "\u001b[31m[79]#011train-error:0.1136#011validation-error:0.1608\u001b[0m\n",
      "\u001b[31m[19:02:24] src/tree/updater_prune.cc:74: tree pruning end, 1 roots, 18 extra nodes, 8 pruned nodes, max_depth=5\u001b[0m\n",
      "\u001b[31m[80]#011train-error:0.1132#011validation-error:0.1597\u001b[0m\n",
      "\u001b[31m[19:02:26] src/tree/updater_prune.cc:74: tree pruning end, 1 roots, 10 extra nodes, 14 pruned nodes, max_depth=5\u001b[0m\n",
      "\u001b[31m[81]#011train-error:0.112667#011validation-error:0.1594\u001b[0m\n",
      "\u001b[31m[19:02:27] src/tree/updater_prune.cc:74: tree pruning end, 1 roots, 24 extra nodes, 14 pruned nodes, max_depth=5\u001b[0m\n",
      "\u001b[31m[82]#011train-error:0.1122#011validation-error:0.1587\u001b[0m\n",
      "\u001b[31m[19:02:28] src/tree/updater_prune.cc:74: tree pruning end, 1 roots, 36 extra nodes, 8 pruned nodes, max_depth=5\u001b[0m\n",
      "\u001b[31m[83]#011train-error:0.1106#011validation-error:0.1586\u001b[0m\n",
      "\u001b[31m[19:02:30] src/tree/updater_prune.cc:74: tree pruning end, 1 roots, 16 extra nodes, 10 pruned nodes, max_depth=5\u001b[0m\n",
      "\u001b[31m[84]#011train-error:0.1104#011validation-error:0.158\u001b[0m\n",
      "\u001b[31m[19:02:31] src/tree/updater_prune.cc:74: tree pruning end, 1 roots, 18 extra nodes, 10 pruned nodes, max_depth=5\u001b[0m\n",
      "\u001b[31m[85]#011train-error:0.1094#011validation-error:0.1583\u001b[0m\n",
      "\u001b[31m[19:02:32] src/tree/updater_prune.cc:74: tree pruning end, 1 roots, 16 extra nodes, 12 pruned nodes, max_depth=5\u001b[0m\n",
      "\u001b[31m[86]#011train-error:0.108933#011validation-error:0.1578\u001b[0m\n",
      "\u001b[31m[19:02:33] src/tree/updater_prune.cc:74: tree pruning end, 1 roots, 14 extra nodes, 16 pruned nodes, max_depth=5\u001b[0m\n",
      "\u001b[31m[87]#011train-error:0.108333#011validation-error:0.1573\u001b[0m\n",
      "\u001b[31m[19:02:35] src/tree/updater_prune.cc:74: tree pruning end, 1 roots, 20 extra nodes, 4 pruned nodes, max_depth=5\u001b[0m\n",
      "\u001b[31m[88]#011train-error:0.107333#011validation-error:0.1577\u001b[0m\n",
      "\u001b[31m[19:02:36] src/tree/updater_prune.cc:74: tree pruning end, 1 roots, 20 extra nodes, 14 pruned nodes, max_depth=5\u001b[0m\n",
      "\u001b[31m[89]#011train-error:0.107133#011validation-error:0.1573\u001b[0m\n",
      "\u001b[31m[19:02:37] src/tree/updater_prune.cc:74: tree pruning end, 1 roots, 38 extra nodes, 4 pruned nodes, max_depth=5\u001b[0m\n",
      "\u001b[31m[90]#011train-error:0.106067#011validation-error:0.1579\u001b[0m\n",
      "\u001b[31m[19:02:39] src/tree/updater_prune.cc:74: tree pruning end, 1 roots, 14 extra nodes, 10 pruned nodes, max_depth=5\u001b[0m\n",
      "\u001b[31m[91]#011train-error:0.1056#011validation-error:0.1578\u001b[0m\n",
      "\u001b[31m[19:02:40] src/tree/updater_prune.cc:74: tree pruning end, 1 roots, 16 extra nodes, 8 pruned nodes, max_depth=5\u001b[0m\n",
      "\u001b[31m[92]#011train-error:0.1048#011validation-error:0.1556\u001b[0m\n",
      "\u001b[31m[19:02:41] src/tree/updater_prune.cc:74: tree pruning end, 1 roots, 18 extra nodes, 4 pruned nodes, max_depth=5\u001b[0m\n",
      "\u001b[31m[93]#011train-error:0.104467#011validation-error:0.1542\u001b[0m\n",
      "\u001b[31m[19:02:43] src/tree/updater_prune.cc:74: tree pruning end, 1 roots, 10 extra nodes, 0 pruned nodes, max_depth=5\u001b[0m\n",
      "\u001b[31m[94]#011train-error:0.104467#011validation-error:0.1546\u001b[0m\n",
      "\u001b[31m[19:02:44] src/tree/updater_prune.cc:74: tree pruning end, 1 roots, 22 extra nodes, 12 pruned nodes, max_depth=5\u001b[0m\n",
      "\u001b[31m[95]#011train-error:0.103467#011validation-error:0.1533\u001b[0m\n",
      "\u001b[31m[19:02:45] src/tree/updater_prune.cc:74: tree pruning end, 1 roots, 18 extra nodes, 8 pruned nodes, max_depth=5\u001b[0m\n",
      "\u001b[31m[96]#011train-error:0.103133#011validation-error:0.1529\u001b[0m\n",
      "\u001b[31m[19:02:47] src/tree/updater_prune.cc:74: tree pruning end, 1 roots, 18 extra nodes, 10 pruned nodes, max_depth=5\u001b[0m\n",
      "\u001b[31m[97]#011train-error:0.102133#011validation-error:0.1532\u001b[0m\n",
      "\u001b[31m[19:02:48] src/tree/updater_prune.cc:74: tree pruning end, 1 roots, 10 extra nodes, 8 pruned nodes, max_depth=5\u001b[0m\n",
      "\u001b[31m[98]#011train-error:0.102#011validation-error:0.1531\u001b[0m\n",
      "\u001b[31m[19:02:49] src/tree/updater_prune.cc:74: tree pruning end, 1 roots, 14 extra nodes, 8 pruned nodes, max_depth=5\u001b[0m\n",
      "\u001b[31m[99]#011train-error:0.102333#011validation-error:0.1527\u001b[0m\n",
      "\u001b[31m[19:02:50] src/tree/updater_prune.cc:74: tree pruning end, 1 roots, 12 extra nodes, 8 pruned nodes, max_depth=5\u001b[0m\n",
      "\u001b[31m[100]#011train-error:0.101733#011validation-error:0.1529\u001b[0m\n",
      "\u001b[31m[19:02:52] src/tree/updater_prune.cc:74: tree pruning end, 1 roots, 34 extra nodes, 12 pruned nodes, max_depth=5\u001b[0m\n",
      "\u001b[31m[101]#011train-error:0.100933#011validation-error:0.1525\u001b[0m\n",
      "\u001b[31m[19:02:53] src/tree/updater_prune.cc:74: tree pruning end, 1 roots, 34 extra nodes, 10 pruned nodes, max_depth=5\u001b[0m\n",
      "\u001b[31m[102]#011train-error:0.1004#011validation-error:0.1519\u001b[0m\n",
      "\u001b[31m[19:02:54] src/tree/updater_prune.cc:74: tree pruning end, 1 roots, 12 extra nodes, 4 pruned nodes, max_depth=5\u001b[0m\n",
      "\u001b[31m[103]#011train-error:0.1006#011validation-error:0.1517\u001b[0m\n",
      "\u001b[31m[19:02:56] src/tree/updater_prune.cc:74: tree pruning end, 1 roots, 18 extra nodes, 6 pruned nodes, max_depth=5\u001b[0m\n",
      "\u001b[31m[104]#011train-error:0.1002#011validation-error:0.1515\u001b[0m\n",
      "\u001b[31m[19:02:57] src/tree/updater_prune.cc:74: tree pruning end, 1 roots, 18 extra nodes, 4 pruned nodes, max_depth=5\u001b[0m\n",
      "\u001b[31m[105]#011train-error:0.0992#011validation-error:0.1521\u001b[0m\n",
      "\u001b[31m[19:02:58] src/tree/updater_prune.cc:74: tree pruning end, 1 roots, 12 extra nodes, 6 pruned nodes, max_depth=5\u001b[0m\n",
      "\u001b[31m[106]#011train-error:0.098467#011validation-error:0.1518\u001b[0m\n",
      "\u001b[31m[19:03:00] src/tree/updater_prune.cc:74: tree pruning end, 1 roots, 24 extra nodes, 0 pruned nodes, max_depth=5\u001b[0m\n",
      "\u001b[31m[107]#011train-error:0.098467#011validation-error:0.1524\u001b[0m\n",
      "\u001b[31m[19:03:01] src/tree/updater_prune.cc:74: tree pruning end, 1 roots, 16 extra nodes, 18 pruned nodes, max_depth=5\u001b[0m\n",
      "\u001b[31m[108]#011train-error:0.097933#011validation-error:0.1516\u001b[0m\n",
      "\u001b[31m[19:03:02] src/tree/updater_prune.cc:74: tree pruning end, 1 roots, 10 extra nodes, 2 pruned nodes, max_depth=5\u001b[0m\n",
      "\u001b[31m[109]#011train-error:0.096933#011validation-error:0.1511\u001b[0m\n",
      "\u001b[31m[19:03:04] src/tree/updater_prune.cc:74: tree pruning end, 1 roots, 28 extra nodes, 8 pruned nodes, max_depth=5\u001b[0m\n",
      "\u001b[31m[110]#011train-error:0.095867#011validation-error:0.1503\u001b[0m\n",
      "\u001b[31m[19:03:05] src/tree/updater_prune.cc:74: tree pruning end, 1 roots, 22 extra nodes, 4 pruned nodes, max_depth=5\u001b[0m\n",
      "\u001b[31m[111]#011train-error:0.0944#011validation-error:0.1503\u001b[0m\n",
      "\u001b[31m[19:03:06] src/tree/updater_prune.cc:74: tree pruning end, 1 roots, 28 extra nodes, 10 pruned nodes, max_depth=5\u001b[0m\n",
      "\u001b[31m[112]#011train-error:0.093867#011validation-error:0.1512\u001b[0m\n",
      "\u001b[31m[19:03:07] src/tree/updater_prune.cc:74: tree pruning end, 1 roots, 12 extra nodes, 2 pruned nodes, max_depth=5\u001b[0m\n",
      "\u001b[31m[113]#011train-error:0.093733#011validation-error:0.151\u001b[0m\n",
      "\u001b[31m[19:03:09] src/tree/updater_prune.cc:74: tree pruning end, 1 roots, 18 extra nodes, 6 pruned nodes, max_depth=5\u001b[0m\n",
      "\u001b[31m[114]#011train-error:0.093667#011validation-error:0.1514\u001b[0m\n",
      "\u001b[31m[19:03:10] src/tree/updater_prune.cc:74: tree pruning end, 1 roots, 22 extra nodes, 12 pruned nodes, max_depth=5\u001b[0m\n",
      "\u001b[31m[115]#011train-error:0.092533#011validation-error:0.1495\u001b[0m\n",
      "\u001b[31m[19:03:11] src/tree/updater_prune.cc:74: tree pruning end, 1 roots, 14 extra nodes, 6 pruned nodes, max_depth=5\u001b[0m\n",
      "\u001b[31m[116]#011train-error:0.0922#011validation-error:0.1491\u001b[0m\n",
      "\u001b[31m[19:03:13] src/tree/updater_prune.cc:74: tree pruning end, 1 roots, 26 extra nodes, 10 pruned nodes, max_depth=5\u001b[0m\n",
      "\u001b[31m[117]#011train-error:0.091533#011validation-error:0.1495\u001b[0m\n",
      "\u001b[31m[19:03:14] src/tree/updater_prune.cc:74: tree pruning end, 1 roots, 36 extra nodes, 12 pruned nodes, max_depth=5\u001b[0m\n",
      "\u001b[31m[118]#011train-error:0.0904#011validation-error:0.1494\u001b[0m\n",
      "\u001b[31m[19:03:15] src/tree/updater_prune.cc:74: tree pruning end, 1 roots, 16 extra nodes, 2 pruned nodes, max_depth=5\u001b[0m\n",
      "\u001b[31m[119]#011train-error:0.090667#011validation-error:0.1486\u001b[0m\n",
      "\u001b[31m[19:03:17] src/tree/updater_prune.cc:74: tree pruning end, 1 roots, 14 extra nodes, 10 pruned nodes, max_depth=5\u001b[0m\n",
      "\u001b[31m[120]#011train-error:0.090067#011validation-error:0.1491\u001b[0m\n",
      "\u001b[31m[19:03:18] src/tree/updater_prune.cc:74: tree pruning end, 1 roots, 22 extra nodes, 8 pruned nodes, max_depth=5\u001b[0m\n",
      "\u001b[31m[121]#011train-error:0.089133#011validation-error:0.1487\u001b[0m\n",
      "\u001b[31m[19:03:19] src/tree/updater_prune.cc:74: tree pruning end, 1 roots, 24 extra nodes, 10 pruned nodes, max_depth=5\u001b[0m\n",
      "\u001b[31m[122]#011train-error:0.088133#011validation-error:0.1476\u001b[0m\n",
      "\u001b[31m[19:03:21] src/tree/updater_prune.cc:74: tree pruning end, 1 roots, 14 extra nodes, 16 pruned nodes, max_depth=5\u001b[0m\n",
      "\u001b[31m[123]#011train-error:0.0886#011validation-error:0.1473\u001b[0m\n",
      "\u001b[31m[19:03:22] src/tree/updater_prune.cc:74: tree pruning end, 1 roots, 12 extra nodes, 12 pruned nodes, max_depth=5\u001b[0m\n",
      "\u001b[31m[124]#011train-error:0.088533#011validation-error:0.147\u001b[0m\n",
      "\u001b[31m[19:03:23] src/tree/updater_prune.cc:74: tree pruning end, 1 roots, 16 extra nodes, 8 pruned nodes, max_depth=5\u001b[0m\n",
      "\u001b[31m[125]#011train-error:0.088#011validation-error:0.147\u001b[0m\n",
      "\u001b[31m[19:03:24] src/tree/updater_prune.cc:74: tree pruning end, 1 roots, 12 extra nodes, 2 pruned nodes, max_depth=5\u001b[0m\n",
      "\u001b[31m[126]#011train-error:0.087933#011validation-error:0.1472\u001b[0m\n",
      "\u001b[31m[19:03:26] src/tree/updater_prune.cc:74: tree pruning end, 1 roots, 18 extra nodes, 10 pruned nodes, max_depth=5\u001b[0m\n",
      "\u001b[31m[127]#011train-error:0.088#011validation-error:0.1465\u001b[0m\n",
      "\u001b[31m[19:03:27] src/tree/updater_prune.cc:74: tree pruning end, 1 roots, 16 extra nodes, 10 pruned nodes, max_depth=5\u001b[0m\n",
      "\u001b[31m[128]#011train-error:0.087667#011validation-error:0.1462\u001b[0m\n",
      "\u001b[31m[19:03:28] src/tree/updater_prune.cc:74: tree pruning end, 1 roots, 10 extra nodes, 2 pruned nodes, max_depth=5\u001b[0m\n",
      "\u001b[31m[129]#011train-error:0.087533#011validation-error:0.1459\u001b[0m\n",
      "\u001b[31m[19:03:30] src/tree/updater_prune.cc:74: tree pruning end, 1 roots, 12 extra nodes, 4 pruned nodes, max_depth=5\u001b[0m\n",
      "\u001b[31m[130]#011train-error:0.0866#011validation-error:0.1463\u001b[0m\n",
      "\u001b[31m[19:03:31] src/tree/updater_prune.cc:74: tree pruning end, 1 roots, 12 extra nodes, 14 pruned nodes, max_depth=5\u001b[0m\n",
      "\u001b[31m[131]#011train-error:0.086467#011validation-error:0.1452\u001b[0m\n",
      "\u001b[31m[19:03:32] src/tree/updater_prune.cc:74: tree pruning end, 1 roots, 26 extra nodes, 8 pruned nodes, max_depth=5\u001b[0m\n",
      "\u001b[31m[132]#011train-error:0.085933#011validation-error:0.1458\u001b[0m\n",
      "\u001b[31m[19:03:34] src/tree/updater_prune.cc:74: tree pruning end, 1 roots, 14 extra nodes, 12 pruned nodes, max_depth=5\u001b[0m\n",
      "\u001b[31m[133]#011train-error:0.085467#011validation-error:0.1456\u001b[0m\n",
      "\u001b[31m[19:03:35] src/tree/updater_prune.cc:74: tree pruning end, 1 roots, 12 extra nodes, 8 pruned nodes, max_depth=5\u001b[0m\n",
      "\u001b[31m[134]#011train-error:0.085467#011validation-error:0.1443\u001b[0m\n",
      "\u001b[31m[19:03:36] src/tree/updater_prune.cc:74: tree pruning end, 1 roots, 22 extra nodes, 2 pruned nodes, max_depth=5\u001b[0m\n",
      "\u001b[31m[135]#011train-error:0.085467#011validation-error:0.1448\u001b[0m\n",
      "\u001b[31m[19:03:37] src/tree/updater_prune.cc:74: tree pruning end, 1 roots, 18 extra nodes, 14 pruned nodes, max_depth=5\u001b[0m\n",
      "\u001b[31m[136]#011train-error:0.085133#011validation-error:0.1448\u001b[0m\n",
      "\u001b[31m[19:03:39] src/tree/updater_prune.cc:74: tree pruning end, 1 roots, 18 extra nodes, 14 pruned nodes, max_depth=5\u001b[0m\n",
      "\u001b[31m[137]#011train-error:0.084467#011validation-error:0.1441\u001b[0m\n",
      "\u001b[31m[19:03:40] src/tree/updater_prune.cc:74: tree pruning end, 1 roots, 12 extra nodes, 8 pruned nodes, max_depth=5\u001b[0m\n",
      "\u001b[31m[138]#011train-error:0.084467#011validation-error:0.144\u001b[0m\n",
      "\u001b[31m[19:03:41] src/tree/updater_prune.cc:74: tree pruning end, 1 roots, 24 extra nodes, 12 pruned nodes, max_depth=5\u001b[0m\n",
      "\u001b[31m[139]#011train-error:0.084733#011validation-error:0.1436\u001b[0m\n",
      "\u001b[31m[19:03:43] src/tree/updater_prune.cc:74: tree pruning end, 1 roots, 14 extra nodes, 2 pruned nodes, max_depth=5\u001b[0m\n",
      "\u001b[31m[140]#011train-error:0.084333#011validation-error:0.1437\u001b[0m\n",
      "\u001b[31m[19:03:44] src/tree/updater_prune.cc:74: tree pruning end, 1 roots, 10 extra nodes, 6 pruned nodes, max_depth=5\u001b[0m\n",
      "\u001b[31m[141]#011train-error:0.084467#011validation-error:0.1436\u001b[0m\n",
      "\u001b[31m[19:03:45] src/tree/updater_prune.cc:74: tree pruning end, 1 roots, 12 extra nodes, 6 pruned nodes, max_depth=5\u001b[0m\n",
      "\u001b[31m[142]#011train-error:0.0844#011validation-error:0.1442\u001b[0m\n",
      "\u001b[31m[19:03:47] src/tree/updater_prune.cc:74: tree pruning end, 1 roots, 12 extra nodes, 0 pruned nodes, max_depth=5\u001b[0m\n",
      "\u001b[31m[143]#011train-error:0.0844#011validation-error:0.1444\u001b[0m\n",
      "\u001b[31m[19:03:48] src/tree/updater_prune.cc:74: tree pruning end, 1 roots, 20 extra nodes, 10 pruned nodes, max_depth=5\u001b[0m\n",
      "\u001b[31m[144]#011train-error:0.0838#011validation-error:0.144\u001b[0m\n",
      "\u001b[31m[19:03:49] src/tree/updater_prune.cc:74: tree pruning end, 1 roots, 10 extra nodes, 12 pruned nodes, max_depth=5\u001b[0m\n",
      "\u001b[31m[145]#011train-error:0.0838#011validation-error:0.144\u001b[0m\n",
      "\u001b[31m[19:03:50] src/tree/updater_prune.cc:74: tree pruning end, 1 roots, 26 extra nodes, 12 pruned nodes, max_depth=5\u001b[0m\n",
      "\u001b[31m[146]#011train-error:0.0834#011validation-error:0.1452\u001b[0m\n",
      "\u001b[31m[19:03:52] src/tree/updater_prune.cc:74: tree pruning end, 1 roots, 14 extra nodes, 6 pruned nodes, max_depth=5\u001b[0m\n",
      "\u001b[31m[147]#011train-error:0.083267#011validation-error:0.1449\u001b[0m\n",
      "\u001b[31m[19:03:53] src/tree/updater_prune.cc:74: tree pruning end, 1 roots, 28 extra nodes, 10 pruned nodes, max_depth=5\u001b[0m\n",
      "\u001b[31m[148]#011train-error:0.082667#011validation-error:0.1442\u001b[0m\n",
      "\u001b[31m[19:03:54] src/tree/updater_prune.cc:74: tree pruning end, 1 roots, 22 extra nodes, 8 pruned nodes, max_depth=5\u001b[0m\n",
      "\u001b[31m[149]#011train-error:0.082267#011validation-error:0.1438\u001b[0m\n",
      "\u001b[31mStopping. Best iteration:\u001b[0m\n",
      "\u001b[31m[139]#011train-error:0.084733#011validation-error:0.1436\n",
      "\u001b[0m\n",
      "\n",
      "2019-04-13 19:04:02 Uploading - Uploading generated training model\n",
      "2019-04-13 19:04:02 Completed - Training job completed\n",
      "Billable seconds: 245\n"
     ]
    }
   ],
   "source": [
    "xgb.fit({'train': s3_input_train, 'validation': s3_input_validation})"
   ]
  },
  {
   "cell_type": "markdown",
   "metadata": {},
   "source": [
    "## Step 5: Testing the model\n",
    "\n",
    "Now that we've fit our XGBoost model, it's time to see how well it performs. To do this we will use SageMakers Batch Transform functionality. Batch Transform is a convenient way to perform inference on a large dataset in a way that is not realtime. That is, we don't necessarily need to use our model's results immediately and instead we can perform inference on a large number of samples. An example of this in industry might be performing an end of month report. This method of inference can also be useful to us as it means that we can perform inference on our entire test set. \n",
    "\n",
    "To perform a Batch Transformation we need to first create a transformer objects from our trained estimator object."
   ]
  },
  {
   "cell_type": "code",
   "execution_count": 33,
   "metadata": {},
   "outputs": [
    {
     "name": "stderr",
     "output_type": "stream",
     "text": [
      "INFO:sagemaker:Creating model with name: xgboost-2019-04-13-18-57-38-911\n"
     ]
    }
   ],
   "source": [
    "xgb_transformer = xgb.transformer(instance_count = 1, \n",
    "                                  instance_type = 'ml.m4.xlarge')"
   ]
  },
  {
   "cell_type": "markdown",
   "metadata": {},
   "source": [
    "Next we actually perform the transform job. When doing so we need to make sure to specify the type of data we are sending so that it is serialized correctly in the background. In our case we are providing our model with csv data so we specify `text/csv`. Also, if the test data that we have provided is too large to process all at once then we need to specify how the data file should be split up. Since each line is a single entry in our data set we tell SageMaker that it can split the input on each line."
   ]
  },
  {
   "cell_type": "code",
   "execution_count": 34,
   "metadata": {},
   "outputs": [
    {
     "name": "stderr",
     "output_type": "stream",
     "text": [
      "INFO:sagemaker:Creating transform job with name: xgboost-2019-04-13-19-04-40-625\n"
     ]
    }
   ],
   "source": [
    "xgb_transformer.transform(test_location, content_type='text/csv', \n",
    "                          split_type='Line')"
   ]
  },
  {
   "cell_type": "markdown",
   "metadata": {},
   "source": [
    "Currently the transform job is running but it is doing so in the background. Since we wish to wait until the transform job is done and we would like a bit of feedback we can run the `wait()` method."
   ]
  },
  {
   "cell_type": "code",
   "execution_count": 35,
   "metadata": {},
   "outputs": [
    {
     "name": "stdout",
     "output_type": "stream",
     "text": [
      "................................................!\n"
     ]
    }
   ],
   "source": [
    "xgb_transformer.wait()"
   ]
  },
  {
   "cell_type": "markdown",
   "metadata": {},
   "source": [
    "Now the transform job has executed and the result, the estimated sentiment of each review, has been saved on S3. Since we would rather work on this file locally we can perform a bit of notebook magic to copy the file to the `data_dir`."
   ]
  },
  {
   "cell_type": "code",
   "execution_count": 36,
   "metadata": {},
   "outputs": [
    {
     "name": "stdout",
     "output_type": "stream",
     "text": [
      "download: s3://sagemaker-us-east-1-112107346316/xgboost-2019-04-13-19-04-40-625/test.csv.out to ../data/sentiment_web_app/test.csv.out\r\n"
     ]
    }
   ],
   "source": [
    "!aws s3 cp --recursive $xgb_transformer.output_path $data_dir"
   ]
  },
  {
   "cell_type": "markdown",
   "metadata": {},
   "source": [
    "The last step is now to read in the output from our model, convert the output to something a little more usable, in this case we want the sentiment to be either `1` (positive) or `0` (negative), and then compare to the ground truth labels."
   ]
  },
  {
   "cell_type": "code",
   "execution_count": 37,
   "metadata": {},
   "outputs": [],
   "source": [
    "predictions = pd.read_csv(os.path.join(data_dir, 'test.csv.out'), \n",
    "                          header=None)\n",
    "predictions = [round(num) for num in predictions.squeeze().values]"
   ]
  },
  {
   "cell_type": "code",
   "execution_count": 38,
   "metadata": {},
   "outputs": [
    {
     "data": {
      "text/plain": [
       "0.85752"
      ]
     },
     "execution_count": 38,
     "metadata": {},
     "output_type": "execute_result"
    }
   ],
   "source": [
    "from sklearn.metrics import accuracy_score\n",
    "accuracy_score(test_y, predictions)"
   ]
  },
  {
   "cell_type": "markdown",
   "metadata": {},
   "source": [
    "## Step 6: Deploying the model\n",
    "\n",
    "Once we construct and fit our model, SageMaker stores the resulting model artifacts and we can use those to deploy an endpoint (inference code). To see this, look in the SageMaker console and you should see that a model has been created along with a link to the S3 location where the model artifacts have been stored.\n",
    "\n",
    "Deploying an endpoint is a lot like training the model with a few important differences. The first is that a deployed model doesn't change the model artifacts, so as you send it various testing instances the model won't change. Another difference is that since we aren't performing a fixed computation, as we were in the training step or while performing a batch transform, the compute instance that gets started stays running until we tell it to stop. This is important to note as if we forget and leave it running we will be charged the entire time.\n",
    "\n",
    "In other words **If you are no longer using a deployed endpoint, shut it down!**"
   ]
  },
  {
   "cell_type": "code",
   "execution_count": 39,
   "metadata": {},
   "outputs": [
    {
     "name": "stderr",
     "output_type": "stream",
     "text": [
      "INFO:sagemaker:Creating model with name: xgboost-2019-04-13-19-08-59-857\n",
      "INFO:sagemaker:Creating endpoint with name xgboost-2019-04-13-18-57-38-911\n"
     ]
    },
    {
     "name": "stdout",
     "output_type": "stream",
     "text": [
      "--------------------------------------------------------------------------!"
     ]
    }
   ],
   "source": [
    "xgb_predictor = xgb.deploy(initial_instance_count = 1, \n",
    "                           instance_type = 'ml.m4.xlarge')"
   ]
  },
  {
   "cell_type": "markdown",
   "metadata": {},
   "source": [
    "### Testing the model (again)\n",
    "\n",
    "Now that we have deployed our endpoint, we can send the testing data to it and get back the inference results. We already did this earlier using the batch transform functionality of SageMaker, however, we will test our model again using the newly deployed endpoint so that we can make sure that it works properly and to get a bit of a feel for how the endpoint works.\n",
    "\n",
    "When using the created endpoint it is important to know that we are limited in the amount of information we can send in each call so we need to break the testing data up into chunks and then send each chunk. Also, we need to serialize our data before we send it to the endpoint to ensure that our data is transmitted properly. Fortunately, SageMaker can do the serialization part for us provided we tell it the format of our data."
   ]
  },
  {
   "cell_type": "code",
   "execution_count": 40,
   "metadata": {},
   "outputs": [],
   "source": [
    "from sagemaker.predictor import csv_serializer\n",
    "\n",
    "# We need to tell the endpoint what format the data we are sending \n",
    "# is in so that SageMaker can perform the serialization.\n",
    "xgb_predictor.content_type = 'text/csv'\n",
    "xgb_predictor.serializer = csv_serializer"
   ]
  },
  {
   "cell_type": "code",
   "execution_count": 41,
   "metadata": {},
   "outputs": [],
   "source": [
    "# We split the data into chunks and send each chunk seperately, \n",
    "# accumulating the results.\n",
    "\n",
    "def predict(data, rows=512):\n",
    "    split_array = np.array_split(data, int(data.shape[0] / float(rows) + 1))\n",
    "    predictions = ''\n",
    "    for array in split_array:\n",
    "        predictions = ','.join([predictions, \n",
    "                                xgb_predictor.predict(array).decode('utf-8')])\n",
    "    \n",
    "    return np.fromstring(predictions[1:], sep=',')"
   ]
  },
  {
   "cell_type": "code",
   "execution_count": 42,
   "metadata": {},
   "outputs": [],
   "source": [
    "test_X = pd.read_csv(os.path.join(data_dir, 'test.csv'), header=None).values\n",
    "\n",
    "predictions = predict(test_X)\n",
    "predictions = [round(num) for num in predictions]"
   ]
  },
  {
   "cell_type": "markdown",
   "metadata": {},
   "source": [
    "Lastly, we check to see what the accuracy of our model is."
   ]
  },
  {
   "cell_type": "code",
   "execution_count": 43,
   "metadata": {},
   "outputs": [
    {
     "data": {
      "text/plain": [
       "0.85752"
      ]
     },
     "execution_count": 43,
     "metadata": {},
     "output_type": "execute_result"
    }
   ],
   "source": [
    "from sklearn.metrics import accuracy_score\n",
    "accuracy_score(test_y, predictions)"
   ]
  },
  {
   "cell_type": "markdown",
   "metadata": {},
   "source": [
    "And the results here should agree with the model testing that we did earlier using the batch transform job.\n",
    "\n",
    "### Cleaning up\n",
    "\n",
    "Now that we've determined that deploying our model works as expected, we are going to shut it down. Remember that the longer the endpoint is left running, the greater the cost and since we have a bit more work to do before we are able to use our endpoint with our simple web app, we should shut everything down."
   ]
  },
  {
   "cell_type": "code",
   "execution_count": 44,
   "metadata": {},
   "outputs": [
    {
     "name": "stderr",
     "output_type": "stream",
     "text": [
      "INFO:sagemaker:Deleting endpoint configuration with name: xgboost-2019-04-13-18-57-38-911\n",
      "INFO:sagemaker:Deleting endpoint with name: xgboost-2019-04-13-18-57-38-911\n"
     ]
    }
   ],
   "source": [
    "xgb_predictor.delete_endpoint()"
   ]
  },
  {
   "cell_type": "markdown",
   "metadata": {},
   "source": [
    "## Step 7: Putting our model to work\n",
    "\n",
    "As we've mentioned a few times now, our goal is to have our model deployed and then access it using a very simple web app. The intent is for this web app to take some user submitted data (a review), send it off to our endpoint (the model) and then display the result.\n",
    "\n",
    "However, there is a small catch. Currently the only way we can access the endpoint to send it data is using the SageMaker API. We can, if we wish, expose the actual URL that our model's endpoint is receiving data from, however, if we just send it data ourselves we will not get anything in return. This is because the endpoint created by SageMaker requires the entity accessing it have the correct permissions. So, we would need to somehow authenticate our web app with AWS.\n",
    "\n",
    "Having a website that authenticates to AWS seems a bit beyond the scope of this lesson so we will opt for an alternative approach. Namely, we will create a new endpoint which does not require authentication and which acts as a proxy for the SageMaker endpoint.\n",
    "\n",
    "As an additional constraint, we will try to avoid doing any data processing in the web app itself. Remember that when we constructed and tested our model we started with a movie review, then we simplified it by removing any html formatting and punctuation, then we constructed a bag of words embedding and the resulting vector is what we sent to our model. All of this needs to be done to our user input as well.\n",
    "\n",
    "Fortunately we can do all of this data processing in the backend, using Amazon's Lambda service.\n",
    "\n",
    "![](./Web%20App%20Diagram.svg)\n",
    "\n",
    "The diagram above gives an overview of how the various services will work together. On the far right is the model which we trained above and which will be deployed using SageMaker. On the far left is our web app that collects a user's movie review, sends it off and expects a positive or negative sentiment in return.\n",
    "\n",
    "In the middle is where some of the magic happens. We will construct a Lambda function, which you can think of as a straightforward Python function that can be executed whenever a specified event occurs. This Python function will do the data processing we need to perform on a user submitted review. In addition, we will give this function permission to send and recieve data from a SageMaker endpoint.\n",
    "\n",
    "Lastly, the method we will use to execute the Lambda function is a new endpoint that we will create using API Gateway. This endpoint will be a url that listens for data to be sent to it. Once it gets some data it will pass that data on to the Lambda function and then return whatever the Lambda function returns. Essentially it will act as an interface that lets our web app communicate with the Lambda function.\n",
    "\n",
    "### Processing a single review\n",
    "\n",
    "For now, suppose we are given a movie review by our user in the form of a string, like so:"
   ]
  },
  {
   "cell_type": "code",
   "execution_count": 45,
   "metadata": {},
   "outputs": [],
   "source": [
    "test_review = \"Nothing but a disgusting materialistic pageant of glistening abed remote control greed zombies, totally devoid of any heart or heat. A romantic comedy that has zero romantic chemestry and zero laughs!\""
   ]
  },
  {
   "cell_type": "markdown",
   "metadata": {},
   "source": [
    "How do we go from this string to the bag of words feature vector that is expected by our model?\n",
    "\n",
    "If we recall at the beginning of this notebook, the first step is to remove any unnecessary characters using the `review_to_words` method. Remember that we intentionally did this in a very simplistic way. This is because we are going to have to copy this method to our (eventual) Lambda function (we will go into more detail later) and this means it needs to be rather simplistic."
   ]
  },
  {
   "cell_type": "code",
   "execution_count": 46,
   "metadata": {},
   "outputs": [],
   "source": [
    "test_words = review_to_words(test_review)"
   ]
  },
  {
   "cell_type": "code",
   "execution_count": 47,
   "metadata": {},
   "outputs": [
    {
     "data": {
      "text/plain": [
       "'nothing but a disgusting materialistic pageant of glistening abed remote control greed zombies totally devoid of any heart or heat a romantic comedy that has zero romantic chemestry and zero laughs'"
      ]
     },
     "execution_count": 47,
     "metadata": {},
     "output_type": "execute_result"
    }
   ],
   "source": [
    "test_words"
   ]
  },
  {
   "cell_type": "markdown",
   "metadata": {},
   "source": [
    "Next, we need to construct a bag of words embedding of the `test_words` string. To do this, remember that a bag of words embedding uses a `vocabulary` consisting of the most frequently appearing words in a set of documents. Then, for each word in the vocabulary we record the number of times that word appears in `test_words`. We constructed the `vocabulary` earlier using the training set for our problem so encoding `test_words` is relatively straightforward."
   ]
  },
  {
   "cell_type": "code",
   "execution_count": 48,
   "metadata": {},
   "outputs": [],
   "source": [
    "def bow_encoding(words, vocabulary):\n",
    "    # Start by setting the count for each word in the vocabulary to zero.\n",
    "    bow = [0] * len(vocabulary)\n",
    "    # For each word in the string\n",
    "    for word in words.split():\n",
    "        # If the word is one that occurs in the vocabulary, increase its count.\n",
    "        if word in vocabulary:\n",
    "            bow[vocabulary[word]] += 1\n",
    "    return bow"
   ]
  },
  {
   "cell_type": "code",
   "execution_count": 52,
   "metadata": {},
   "outputs": [],
   "source": [
    "test_bow = bow_encoding(test_words, vocabulary)"
   ]
  },
  {
   "cell_type": "code",
   "execution_count": 54,
   "metadata": {},
   "outputs": [
    {
     "data": {
      "text/plain": [
       "5000"
      ]
     },
     "execution_count": 54,
     "metadata": {},
     "output_type": "execute_result"
    }
   ],
   "source": [
    "len(test_bow)"
   ]
  },
  {
   "cell_type": "code",
   "execution_count": 53,
   "metadata": {},
   "outputs": [
    {
     "data": {
      "text/plain": [
       "[0, 0, 0, 0, 0, 0, 0, 0, 0, 0]"
      ]
     },
     "execution_count": 53,
     "metadata": {},
     "output_type": "execute_result"
    }
   ],
   "source": [
    "test_bow[:10]"
   ]
  },
  {
   "cell_type": "markdown",
   "metadata": {},
   "source": [
    "So now we know how to construct a bag of words encoding of a user provided review, how to we send it to our endpoint? First, we need to start the endpoint back up."
   ]
  },
  {
   "cell_type": "code",
   "execution_count": 55,
   "metadata": {},
   "outputs": [
    {
     "name": "stderr",
     "output_type": "stream",
     "text": [
      "INFO:sagemaker:Creating model with name: xgboost-2019-04-13-19-27-18-942\n",
      "INFO:sagemaker:Creating endpoint with name xgboost-2019-04-13-18-57-38-911\n"
     ]
    },
    {
     "name": "stdout",
     "output_type": "stream",
     "text": [
      "---------------------------------------------------------------------------!"
     ]
    }
   ],
   "source": [
    "xgb_predictor = xgb.deploy(initial_instance_count = 1, \n",
    "                           instance_type = 'ml.m4.xlarge')"
   ]
  },
  {
   "cell_type": "markdown",
   "metadata": {},
   "source": [
    "At this point we could just do the same thing that we did earlier when we tested our deployed model and send `test_bow` to our endpoint using the `xgb_predictor` object. However, when we eventually construct our Lambda function we won't have access to this object, so how do we call a SageMaker endpoint?\n",
    "\n",
    "It turns out that Python functions that are used in Lambda have access to another Amazon library called `boto3`. This library provides an API for working with Amazon services, including SageMaker. To start with, we need to get a handle to the SageMaker runtime."
   ]
  },
  {
   "cell_type": "code",
   "execution_count": 56,
   "metadata": {},
   "outputs": [],
   "source": [
    "import boto3\n",
    "\n",
    "runtime = boto3.Session().client('sagemaker-runtime')"
   ]
  },
  {
   "cell_type": "markdown",
   "metadata": {},
   "source": [
    "And now that we have access to the SageMaker runtime, we can ask it to make use of (invoke) an endpoint that has already been created. However, we need to provide SageMaker with the name of the deployed endpoint. To find this out we can print it out using the `xgb_predictor` object."
   ]
  },
  {
   "cell_type": "code",
   "execution_count": 57,
   "metadata": {},
   "outputs": [
    {
     "data": {
      "text/plain": [
       "'xgboost-2019-04-13-18-57-38-911'"
      ]
     },
     "execution_count": 57,
     "metadata": {},
     "output_type": "execute_result"
    }
   ],
   "source": [
    "xgb_predictor.endpoint"
   ]
  },
  {
   "cell_type": "markdown",
   "metadata": {},
   "source": [
    "Using the SageMaker runtime and the name of our endpoint, we can invoke the endpoint and send it the `test_bow` data."
   ]
  },
  {
   "cell_type": "code",
   "execution_count": 58,
   "metadata": {},
   "outputs": [],
   "source": [
    "#response = runtime.invoke_endpoint( \\\n",
    "#    EndpointName = xgb_predictor.endpoint, # The name of the endpoint we created\n",
    "#    ContentType = 'text/csv',              # The data format that is expected\n",
    "#    Body = test_bow)"
   ]
  },
  {
   "cell_type": "markdown",
   "metadata": {},
   "source": [
    "So why did we get an error?\n",
    "\n",
    "Because we tried to send the endpoint a list of integers but it expected us to send data of type `text/csv`. So, we need to convert it."
   ]
  },
  {
   "cell_type": "code",
   "execution_count": 59,
   "metadata": {},
   "outputs": [],
   "source": [
    "response = runtime.invoke_endpoint( \\\n",
    "    EndpointName = xgb_predictor.endpoint, # The name of the endpoint we created\n",
    "    ContentType = 'text/csv',              # The data format that is expected\n",
    "    Body = ','.join([str(val) for val in test_bow]).encode('utf-8'))"
   ]
  },
  {
   "cell_type": "code",
   "execution_count": 60,
   "metadata": {},
   "outputs": [
    {
     "name": "stdout",
     "output_type": "stream",
     "text": [
      "{'ResponseMetadata': {'RequestId': 'c53dae0b-2155-4efc-8d43-8f2a3af6f8ec', 'HTTPStatusCode': 200, 'HTTPHeaders': {'x-amzn-requestid': 'c53dae0b-2155-4efc-8d43-8f2a3af6f8ec', 'x-amzn-invoked-production-variant': 'AllTraffic', 'date': 'Sat, 13 Apr 2019 19:35:19 GMT', 'content-type': 'text/csv; charset=utf-8', 'content-length': '14'}, 'RetryAttempts': 0}, 'ContentType': 'text/csv; charset=utf-8', 'InvokedProductionVariant': 'AllTraffic', 'Body': <botocore.response.StreamingBody object at 0x7f3ae8a39828>}\n"
     ]
    }
   ],
   "source": [
    "print(response)"
   ]
  },
  {
   "cell_type": "markdown",
   "metadata": {},
   "source": [
    "As we can see, the response from our model is a somewhat complicated looking dict that contains a bunch of information. The bit that we are most interested in is `'Body'` object which is a streaming object that we need to `read` in order to make use of."
   ]
  },
  {
   "cell_type": "code",
   "execution_count": 61,
   "metadata": {},
   "outputs": [
    {
     "name": "stdout",
     "output_type": "stream",
     "text": [
      "0.408557027578\n"
     ]
    }
   ],
   "source": [
    "response = response['Body'].read().decode('utf-8')\n",
    "print(response)"
   ]
  },
  {
   "cell_type": "markdown",
   "metadata": {},
   "source": [
    "Now that we know how to process the incoming user data we can start setting up the infrastructure to make our simple web app work. To do this we will make use of two different services. Amazon's Lambda and API Gateway services.\n",
    "\n",
    "Lambda is a service which allows someone to write some relatively simple code and have it executed whenever a chosen trigger occurs. For example, you may want to update a database whenever new data is uploaded to a folder stored on S3.\n",
    "\n",
    "API Gateway is a service that allows you to create HTTP endpoints (url addresses) which are connected to other AWS services. One of the benefits to this is that you get to decide what credentials, if any, are required to access these endpoints.\n",
    "\n",
    "In our case we are going to set up an HTTP endpoint through API Gateway which is open to the public. Then, whenever anyone sends data to our public endpoint we will trigger a Lambda function which will send the input (in our case a review) to our model's endpoint and then return the result."
   ]
  },
  {
   "cell_type": "markdown",
   "metadata": {},
   "source": [
    "### Setting up a Lambda function\n",
    "\n",
    "The first thing we are going to do is set up a Lambda function. This Lambda function will be executed whenever our public API has data sent to it. When it is executed it will receive the data, perform any sort of processing that is required, send the data (the review) to the SageMaker endpoint we've created and then return the result.\n",
    "\n",
    "#### Part A: Create an IAM Role for the Lambda function\n",
    "\n",
    "Since we want the Lambda function to call a SageMaker endpoint, we need to make sure that it has permission to do so. To do this, we will construct a role that we can later give the Lambda function.\n",
    "\n",
    "Using the AWS Console, navigate to the **IAM** page and click on **Roles**. Then, click on **Create role**. Make sure that the **AWS service** is the type of trusted entity selected and choose **Lambda** as the service that will use this role, then click **Next: Permissions**.\n",
    "\n",
    "In the search box type `sagemaker` and select the check box next to the **AmazonSageMakerFullAccess** policy. Then, click on **Next: Review**.\n",
    "\n",
    "Lastly, give this role a name. Make sure you use a name that you will remember later on, for example `LambdaSageMakerRole`. Then, click on **Create role**."
   ]
  },
  {
   "cell_type": "markdown",
   "metadata": {},
   "source": [
    "#### Part B: Create a Lambda function\n",
    "\n",
    "Now it is time to actually create the Lambda function. Remember from earlier that in order to process the user provided input and send it to our endpoint we need to gather two pieces of information:\n",
    "\n",
    " - The name of the endpoint, and\n",
    " - the vocabulary object.\n",
    "\n",
    "We will copy these pieces of information to our Lambda function after we create it.\n",
    "\n",
    "To start, using the AWS Console, navigate to the AWS Lambda page and click on **Create a function**. When you get to the next page, make sure that **Author from scratch** is selected. Now, name your Lambda function, using a name that you will remember later on, for example `sentiment_analysis_xgboost_func`. Make sure that the **Python 3.6** runtime is selected and then choose the role that you created in the previous part. Then, click on **Create Function**.\n",
    "\n",
    "On the next page you will see some information about the Lambda function you've just created. If you scroll down you should see an editor in which you can write the code that will be executed when your Lambda function is triggered. Collecting the code we wrote above to process a single review and adding it to the provided example `lambda_handler` we arrive at the following.\n",
    "\n",
    "```python\n",
    "# We need to use the low-level library to interact \n",
    "# with SageMaker since the SageMaker API\n",
    "# is not available natively through Lambda.\n",
    "import boto3\n",
    "\n",
    "# And we need the regular expression library to do some of the data processing\n",
    "import re\n",
    "\n",
    "REPLACE_NO_SPACE = re.compile(\"(\\.)|(\\;)|(\\:)|(\\!)|(\\')|(\\?)|(\\,)|(\\\")|(\\()|(\\))|(\\[)|(\\])\")\n",
    "REPLACE_WITH_SPACE = re.compile(\"(<br\\s*/><br\\s*/>)|(\\-)|(\\/)\")\n",
    "\n",
    "def review_to_words(review):\n",
    "    words = REPLACE_NO_SPACE.sub(\"\", review.lower())\n",
    "    words = REPLACE_WITH_SPACE.sub(\" \", words)\n",
    "    return words\n",
    "    \n",
    "def bow_encoding(words, vocabulary):\n",
    "    # Start by setting the count for each word in the vocabulary to zero.\n",
    "    bow = [0] * len(vocabulary)\n",
    "    # For each word in the string\n",
    "    for word in words.split():\n",
    "        # If the word is one that occurs in the vocabulary, increase its count.\n",
    "        if word in vocabulary:\n",
    "            bow[vocabulary[word]] += 1\n",
    "    return bow\n",
    "\n",
    "\n",
    "def lambda_handler(event, context):\n",
    "    \n",
    "    vocab = \"*** ACTUAL VOCABULARY GOES HERE ***\"\n",
    "    \n",
    "    words = review_to_words(event['body'])\n",
    "    bow = bow_encoding(words, vocab)\n",
    "\n",
    "    # The SageMaker runtime is what allows us to invoke the \n",
    "    # endpoint that we've created.\n",
    "    runtime = boto3.Session().client('sagemaker-runtime')\n",
    "\n",
    "    # Now we use the SageMaker runtime to invoke our \n",
    "    # endpoint, sending the review we were given\n",
    "    response = runtime.invoke_endpoint(\n",
    "        # The name of the endpoint we created\n",
    "        EndpointName = '***ENDPOINT NAME HERE***', \n",
    "        # The data format that is expected\n",
    "        ContentType = 'text/csv', \n",
    "        # The actual review\n",
    "        Body = ','.join([str(val) for val in bow]).encode('utf-8'))\n",
    "\n",
    "    # The response is an HTTP response whose body contains \n",
    "    # the result of our inference\n",
    "    result = response['Body'].read().decode('utf-8')\n",
    "    \n",
    "    # Round the result so that our web app only gets \n",
    "    # '1' or '0' as a response.\n",
    "    result = round(float(result))\n",
    "\n",
    "    return {\n",
    "        'statusCode' : 200,\n",
    "        'headers' : {'Content-Type' : 'text/plain', \n",
    "                     'Access-Control-Allow-Origin' : '*' },\n",
    "        'body' : str(result)\n",
    "    }\n",
    "```"
   ]
  },
  {
   "cell_type": "markdown",
   "metadata": {},
   "source": [
    "Once you have copy and pasted the code above into the Lambda code editor, replace the `**ENDPOINT NAME HERE**` portion with the name of the endpoint that we deployed earlier. You can determine the name of the endpoint using the code cell below."
   ]
  },
  {
   "cell_type": "code",
   "execution_count": 64,
   "metadata": {},
   "outputs": [
    {
     "data": {
      "text/plain": [
       "'xgboost-2019-04-13-18-57-38-911'"
      ]
     },
     "execution_count": 64,
     "metadata": {},
     "output_type": "execute_result"
    }
   ],
   "source": [
    "xgb_predictor.endpoint"
   ]
  },
  {
   "cell_type": "markdown",
   "metadata": {},
   "source": [
    "In addition, you will need to copy the vocabulary dict to the appropriate place in the code at the beginning of the `lambda_handler` method. The cell below prints out the vocabulary dict in a way that is easy to copy and paste."
   ]
  },
  {
   "cell_type": "code",
   "execution_count": 63,
   "metadata": {
    "scrolled": false
   },
   "outputs": [
    {
     "name": "stdout",
     "output_type": "stream",
     "text": [
      "{'this': 4457, 'remake': 3612, 'of': 3083, 'the': 4426, 'book': 535, 'has': 2043, 'some': 4061, 'very': 4723, 'good': 1937, 'parts': 3199, 'to': 4507, 'it': 2366, 'and': 226, 'fine': 1729, 'performances': 3229, 'by': 642, 'actors': 104, 'however': 2183, 'toward': 4539, 'end': 1468, 'for': 1784, 'most': 2909, 'formulaic': 1803, 'plot': 3309, 'twists': 4619, 'an': 223, 'that': 4424, 'had': 2003, 'me': 2778, 'looking': 2648, 'at': 331, 'my': 2951, 'watch': 4811, 'is': 2360, 'superb': 4296, 'actor': 103, 'dedicated': 1153, 'giving': 1915, 'his': 2118, 'all': 187, 'in': 2257, 'work': 4940, 'he': 2056, 'does': 1308, 'needs': 2990, 'direction': 1261, 'focus': 1766, 'talent': 4354, 'lacking': 2504, 'last': 2521, 'five': 1743, 'minutes': 2859, 'film': 1716, 'cameo': 657, 'but': 636, 'nothing': 3047, 'more': 2904, 'whilst': 4869, 'robert': 3713, 'always': 203, 'fun': 1848, 'even': 1533, 'with': 4911, 'as': 311, 'few': 1700, 'lines': 2612, 'nick': 3012, 'turns': 4609, 'better': 472, 'performance': 3228, 'than': 4420, 'oil': 3097, 'not': 3040, 'on': 3105, 'same': 3778, 'form': 1798, 'joe': 2407, 'don': 1320, 'baker': 385, 'great': 1964, 'while': 4868, 'lewis': 2586, 'proves': 3447, 'yet': 4984, 'again': 146, 'sometimes': 4067, 'generation': 1883, 'points': 3319, 'start': 4156, 'credits': 1050, 'first': 1736, 'view': 4736, 'back': 378, 'when': 4862, 'doing': 1312, 'prison': 3401, 'scene': 3809, 'where': 4864, 'attacked': 338, 'baseball': 403, 'sam': 3777, 'decent': 1147, 'into': 2332, 'full': 1846, 'panic': 3181, 'calm': 655, 'worst': 4952, 'woman': 4921, 'really': 3556, 'part': 3193, 'bare': 398, 'handed': 2016, 'car': 680, 'hundred': 2195, 'miles': 2843, 'high': 2100, 'speed': 4103, 'are': 285, 'there': 4438, 'no': 3020, 'us': 4690, 'hes': 2093, 'dead': 1132, 'aforementioned': 139, 'ending': 1471, 'may': 2775, 'original': 3129, 'ive': 2372, 'be': 418, 'four': 1812, 'years': 4979, 'since': 3990, 'seeing': 3857, 'now': 3054, 'one': 3107, 'best': 469, 'jack': 2373, 'single': 3996, 'role': 3726, 'split': 4120, 'two': 4620, 'band': 391, 'radio': 3504, 'team': 4378, 'cast': 710, 'who': 4871, 'ham': 2011, 'play': 3296, 'up': 4683, 'theyre': 4445, 'worth': 4953, 'especially': 1520, 'course': 1019, 'were': 4848, 'provided': 3449, 'richard': 3686, 'group': 1980, 'lonely': 2643, 'country': 1014, 'station': 4164, 'night': 3013, 'find': 1726, 'they': 4442, 'arthur': 305, 'trying': 4601, 'entertain': 1497, 'them': 4432, 'everyone': 1542, 'falls': 1640, 'between': 475, 'side': 3965, 'dull': 1384, 'formula': 1802, 'works': 4945, 'its': 2370, 'gets': 1900, 'contrived': 976, 'forced': 1787, 'making': 2718, 'seem': 3861, 'dated': 1119, 'those': 4460, 'damn': 1100, 'thank': 4421, 'any': 256, 'god': 1926, 'britain': 588, 'hasnt': 2044, 'got': 1944, 'nowadays': 3055, 'ultimately': 4628, 'nice': 3008, 'welcome': 4842, 'tv': 4610, 'screen': 3829, 'old': 3100, 'friend': 1835, 'if': 2222, 'you': 4986, 'expecting': 1578, 'out': 3141, 'your': 4991, 'youll': 4988, 'probably': 3407, 'disappointed': 1273, 'interesting': 2325, 'big': 478, 'twist': 4617, 'wasnt': 4807, 'shock': 3938, 'maybe': 2776, 'hoped': 2156, 'was': 4805, 'did': 1241, 'get': 1899, 'mind': 2849, 'working': 4944, 'thinking': 4453, 'about': 67, 'world': 4946, 'without': 4913, 'or': 3124, 'made': 2697, 'appreciate': 279, 'live': 2625, 'lot': 2661, 'heston': 2094, 'job': 2405, 'do': 1302, 'supporting': 4304, 'characters': 760, 'realistic': 3550, 'which': 4867, 'surprising': 4315, 'lacked': 2503, 'times': 4497, 'settings': 3901, 'background': 380, 'needed': 2988, 'explanation': 1590, 'still': 4188, 'surprisingly': 4316, 'intelligent': 2314, 'movie': 2926, 'main': 2707, 'fault': 1668, 'could': 1007, 'didnt': 1242, 'want': 4788, 'would': 4957, 'have': 2052, 'liked': 2600, 'see': 3855, 'what': 4858, 'happened': 2027, 'next': 3007, '10': 0, 'around': 297, 'saw': 3798, 'so': 4046, 'special': 4097, 'later': 2525, 'time': 4495, 'think': 4452, 'body': 527, 'language': 2516, 'effects': 1431, 'also': 199, 'wanna': 4786, 'dont': 1324, 'wait': 4770, 'hollywood': 2137, 'from': 1840, 'dollars': 1315, 'copy': 994, 'video': 4733, 'version': 4720, 'been': 438, 'ever': 1538, 'shown': 3959, 'cinemas': 817, 'viewed': 4737, 'together': 4511, 'wife': 4884, 'her': 2085, 'female': 1693, 'views': 4742, 'kinds': 2478, 'directions': 1262, 'mainly': 2708, 'laugh': 2529, 'sexual': 3908, 'tension': 4404, 'only': 3110, 'maria': 2736, 'yes': 4982, 'she': 3923, 'played': 3297, 'well': 4843, 'script': 3834, 'appropriate': 283, 'just': 2437, 'complex': 923, 'roles': 3727, 'business': 633, 'know': 2489, 'why': 4878, 'guy': 2000, 'hope': 2155, 'hell': 2077, 'loved': 2670, 'though': 4461, 'might': 2835, 'being': 448, 'ear': 1397, 'tried': 4584, 'present': 3374, 'their': 4431, 'consequences': 947, 'todays': 4509, 'then': 4436, 'failed': 1626, 'miserably': 2864, 'imagine': 2238, 'girls': 1911, 'actually': 109, 'boy': 557, 'girl': 1909, 'story': 4207, 'becomes': 434, 'boring': 543, 'uninteresting': 4660, 'idea': 2213, 'awards': 367, 'should': 3951, 'gotten': 1947, 'luck': 2681, 'award': 366, 'george': 1893, 'funny': 1852, 'man': 2721, 'sitcom': 4004, 'episodes': 1508, 'too': 4522, 'often': 3095, 'jokes': 2415, 'mom': 2885, 'watched': 4813, 'variety': 4714, 'safe': 3771, 'wit': 4908, 'seems': 3864, 'season': 3843, 'getting': 1901, 'comfortable': 892, 'family': 1645, 'dad': 1095, 'makes': 2716, 'both': 547, 'him': 2110, 'shows': 3960, 'funnier': 1850, 'added': 116, 'couple': 1016, 'off': 3084, 'year': 4978, 'involved': 2346, 'central': 735, 'past': 3207, 'seasons': 3844, 'say': 3799, 'georges': 1894, 'sense': 3877, 'comic': 893, 'timing': 4498, 'lack': 2502, 'chance': 747, 'here': 2086, 'abc': 63, 'long': 2644, 'after': 143, 'bush': 632, 'ok': 3098, 'pointed': 3317, 'complete': 921, 'dog': 1310, 'degree': 1164, 'because': 432, 'gory': 1943, 'material': 2766, 'down': 1335, 'near': 2979, 'escape': 1517, 'rating': 3529, 'many': 2732, 'other': 3135, 'flaws': 1752, 'begin': 442, 'vampires': 4712, 'mixed': 2877, 'like': 2599, 'silver': 3977, 'every': 1539, 'respect': 3652, 'behave': 445, 'cant': 671, 'crappy': 1032, 'genre': 1888, 'flick': 1754, 'youve': 4995, 'stick': 4185, 'rules': 3754, 'fans': 1650, 'confused': 941, 'annoyed': 248, 'disbelief': 1277, 'wrong': 4973, 'thing': 4450, 'fact': 1621, 'whole': 4873, 'confusing': 942, 'poorly': 3329, 'presented': 3376, 'something': 4066, 'already': 197, 'done': 1322, 'doesnt': 1309, 'make': 2713, 'werewolf': 4850, 'secondly': 3847, 'costumes': 1006, 'seen': 3865, 'anybody': 257, 'ought': 3138, 'these': 4441, 'plain': 3286, 'goofy': 1939, 'slightly': 4029, 'bits': 490, 'quite': 3495, 'score': 3822, 'others': 3136, 'mentioned': 2811, 'spoiler': 4123, 'such': 4268, 'can': 665, 'exist': 1569, 'plan': 3287, 'horror': 2168, 'movies': 2927, 'case': 707, 'effective': 1429, 'anti': 254, 'go': 1924, 'slaughter': 4021, 'monsters': 2893, 'mean': 2779, 'kill': 2468, 'bullets': 621, 'we': 4823, 'pretty': 3384, 'powerful': 3360, 'days': 1130, 'shouldnt': 3952, 'hard': 2033, 'put': 3480, 'typical': 4623, 'style': 4249, 'goes': 1930, 'over': 3148, 'top': 4525, 'adds': 119, 'amusing': 221, 'weapons': 4829, 'ralph': 3510, 'bakshi': 386, 'films': 1721, 'negative': 2991, 'black': 493, 'stereotypes': 4179, 'look': 2646, 'life': 2592, 'modern': 2882, 'america': 212, 'day': 1129, 'dropped': 1370, 'hot': 2174, 'controversial': 978, 'thrilling': 4474, 'must': 2950, 'almost': 193, 'definition': 1163, 'alone': 194, 'another': 250, 'random': 3514, 'tries': 4585, 'sake': 3775, 'anyone': 259, 'knows': 2493, 'name': 2960, 'although': 201, 'roots': 3738, 'based': 404, 'cheap': 774, 'isnt': 2362, 'campy': 664, 'knock': 2488, 'mainstream': 2709, 'white': 4870, 'kind': 2476, 'wants': 4791, 'higher': 2101, 'much': 2934, 'bigger': 479, 'fish': 1738, 'nor': 3032, 'people': 3221, 'show': 3953, 'love': 2669, 'beauty': 430, 'heart': 2064, 'places': 3284, 'tells': 4397, 'jail': 2376, 'break': 569, 'possible': 3350, 'fashioned': 1660, 'trio': 4587, 'brothers': 599, 'named': 2961, 'brother': 598, 'bear': 420, 'rabbit': 3498, 'fox': 1814, 'piece': 3272, 'action': 100, 'willing': 4889, 'means': 2783, 'necessary': 2984, 'mob': 2879, 'running': 3756, 'real': 3547, 'star': 4150, 'barry': 401, 'charles': 764, 'take': 4349, 'home': 2142, 'happening': 2028, 'obviously': 3072, 'plays': 3301, 'descent': 1193, 'racial': 3501, 'angry': 238, 'hip': 2114, 'deep': 1154, 'hate': 2046, 'gun': 1996, 'hand': 2015, 'never': 3001, 'meaning': 2780, 'word': 4937, 'looks': 2649, 'heard': 2062, 'subject': 4253, 'satire': 3788, 'subjects': 4254, 'member': 2800, 'appears': 278, 'animated': 241, 'mood': 2898, 'situation': 4008, 'human': 2188, 'ones': 3108, 'share': 3920, 'reality': 3551, 'meant': 2784, 'taken': 4350, 'literally': 2622, 'ugly': 4625, 'value': 4709, 'face': 1616, 'unlike': 4670, 'spike': 4111, 'lees': 2560, 'using': 4698, 'try': 4600, 'animation': 242, 'usually': 4700, 'technique': 4383, 'saying': 3800, 'somehow': 4063, 'feels': 1687, 'inevitably': 2283, 'types': 4622, 'included': 2262, 'moment': 2886, 'reflect': 3584, 'certain': 737, 'theres': 4440, 'feeling': 1685, 'nostalgia': 3038, 'timeless': 4496, 'truth': 4599, 'music': 2946, 'clothes': 860, 'city': 825, 'clearly': 840, 'photos': 3261, 'belong': 459, 'attitude': 346, 'spirit': 4113, 'remain': 3609, 'matter': 2769, 'king': 2479, 'whos': 4876, 'state': 4160, 'things': 4451, 'company': 910, 'im': 2232, 'talking': 4360, 'racist': 3503, 'dirty': 1268, 'cop': 991, 'trail': 4553, 'death': 1141, 'rest': 3657, 'wear': 4830, 'pure': 3471, 'sadistic': 3768, 'pleasure': 3306, 'blacks': 494, 'sequence': 3887, 'involving': 2349, 'godfather': 1927, 'lady': 2507, 'moving': 2928, 'pieces': 3273, 'opera': 3116, 'ballet': 389, 'line': 2610, 'warning': 4800, 'everybody': 1540, 'hype': 2207, 'extreme': 1609, 'warned': 4798, 'perhaps': 3235, 'read': 3543, 'school': 3813, 'thought': 4462, 'add': 115, 'comments': 901, 'knowing': 2490, 'way': 4820, 'relate': 3593, 'own': 3158, 'brilliance': 582, 'adaptation': 113, 'allowed': 190, 'project': 3427, 'onto': 3111, 'lives': 2628, 'rather': 3528, 'fed': 1682, 'opinion': 3118, 'dislike': 1288, 'feel': 1684, 'emotional': 1459, 'impact': 2244, 'wonderful': 4928, 'ellen': 1446, 'bring': 585, 'id': 2212, 'highly': 2105, 'recommend': 3571, 'return': 3665, 'remembered': 3617, 'right': 3696, 'shame': 3918, 'installment': 2303, 'wars': 4804, 'saga': 3773, 'shining': 3933, 'example': 1553, 'epic': 1506, 'storytelling': 4209, 'manages': 2725, 'wrap': 4963, 'previous': 3387, 'grand': 1953, 'finale': 1723, 'convincingly': 986, 'cute': 1090, 'bears': 421, 'arguably': 289, 'served': 3894, 'middle': 2833, 'tends': 4402, 'slow': 4031, 'bit': 488, 'final': 1722, 'hour': 2176, 'entire': 1502, 'luke': 2687, 'finally': 1724, 'comes': 891, 'villain': 4744, 'history': 2121, 'tend': 4400, 'overlook': 3153, 'incredible': 2269, 'conclusion': 936, 'storyline': 4208, 'went': 4847, 'implausible': 2245, 'empire': 1464, 'strikes': 4225, 'convincing': 985, 'exciting': 1563, 'opening': 3114, 'masterful': 2758, 'ian': 2209, 'coming': 896, 'resolution': 3649, 'solo': 4058, 'romance': 3732, 'extremely': 1610, 'moments': 2887, 'moon': 2900, 'slight': 4027, 'magical': 2704, 'cinema': 816, 'serves': 3895, 'chapter': 757, 'fantastic': 1651, 'forget': 1793, 'come': 886, 'before': 440, 'packed': 3166, 'sensitive': 3879, 'overcome': 3151, 'problems': 3409, 'beautiful': 428, 'setting': 3900, 'acted': 98, 'elizabeth': 1445, 'recommended': 3572, 'experience': 1580, 'change': 749, 'crime': 1055, 'comedy': 890, 'drama': 1346, 'william': 4887, 'macy': 2695, 'donald': 1321, 'sutherland': 4333, 'campbell': 663, 'leading': 2547, 'alex': 179, 'kills': 2474, 'living': 2629, 'facing': 1620, 'depression': 1189, 'thats': 4425, 'meets': 2795, 'sarah': 3785, 'problem': 3408, 'quit': 3494, 'killings': 2473, 'how': 2181, 'tell': 4395, 'father': 1666, 'follows': 1775, 'during': 1387, 'crisis': 1060, 'regular': 3592, 'falling': 1639, 'young': 4989, 'everything': 1544, 'acting': 99, 'excellent': 1555, 'depressed': 1187, 'expectations': 1576, 'completely': 922, 'deliver': 1169, 'flat': 1748, 'cliché': 844, 'ted': 4386, 'corpse': 999, 'cinematic': 818, 'mixture': 2878, 'nonsensical': 3031, 'among': 217, 'cat': 713, 'food': 1778, 'aliens': 184, 'losing': 2658, 'war': 4792, 'watching': 4815, 'began': 441, 'anything': 260, 'myself': 2953, 'else': 1448, 'besides': 468, 'inside': 2297, 'several': 3905, 'scenes': 3811, 'far': 1653, 'forever': 1792, 'simple': 3983, 'mr': 2929, 'use': 4692, 'jump': 2429, 'cuts': 1091, 'will': 4886, 'audience': 352, 'sure': 4308, 'stupid': 4247, 'care': 684, 'huge': 2185, 'exception': 1557, 'men': 2805, 'factory': 1623, 'majority': 2712, 'bunch': 623, 'bother': 548, 'learn': 2550, 'lyrics': 2692, 'amazing': 209, 'grace': 1950, 'sing': 3992, 'camera': 659, 'blame': 499, 'poor': 3328, 'sound': 4081, 'quality': 3484, '80': 58, 'dialogue': 1234, 'dvd': 1391, 'possibly': 3351, 'shot': 3949, 'sweet': 4336, 'trash': 4565, 'hear': 2061, 'lie': 2590, 'metal': 2823, 'waiting': 4772, 'ground': 1979, 'hated': 2047, 'suddenly': 4273, 'consistent': 953, 'lighting': 2596, 'dawn': 1127, 'need': 2987, 'found': 1811, 'remarkably': 3614, 'inept': 2281, '3rd': 47, 'act': 97, 'sorry': 4076, 'excuse': 1564, 'computer': 927, 'absolutely': 72, 'blowing': 515, 'deserve': 1199, 'pat': 3208, 'none': 3028, 'manner': 2729, 'promise': 3430, 'wont': 4932, 'give': 1912, 'away': 369, 'trust': 4598, 'keeping': 2450, 'secret': 3849, 'laughs': 2534, 'unintentionally': 4659, 'explain': 1586, 'invisible': 2344, 'mans': 2730, 'please': 3304, 'viewers': 4739, 'credit': 1049, 'aspects': 322, 'catch': 714, 'issues': 2365, 'dealt': 1138, 'classic': 835, '1933': 12, 'violence': 4747, 'particular': 3194, 'incredibly': 2270, 'once': 3106, 'attention': 345, 'paid': 3169, 'kevin': 2457, 'mad': 2696, 'scientist': 3818, 'little': 2624, 'successful': 4266, 'porno': 3337, 'premise': 3370, 'carried': 698, 'unique': 4662, 'guts': 1999, 'stay': 4166, 'serial': 3889, 'killer': 2470, 'relation': 3595, 'focused': 1767, 'jeffrey': 2391, 'murdered': 2940, '15': 7, 'our': 3139, 'sick': 3963, 'individuals': 2278, 'filmmakers': 1720, 'awful': 372, 'heads': 2059, 'easy': 1410, 'easily': 1406, 'failure': 1629, 'preview': 3386, 'screening': 3830, 'ago': 154, 'outside': 3146, 'theater': 4427, 'crew': 1053, 'local': 2634, 'words': 4938, 'escaped': 1518, 'mouth': 2920, 'awesome': 371, 'somewhat': 4068, 'intriguing': 2335, 'provoking': 3452, 'rate': 3526, 'terry': 4415, 'directed': 1259, 'writing': 4971, 'universal': 4665, 'battle': 414, 'brazil': 568, 'achieved': 93, 'wanted': 4789, 'cut': 1089, 'master': 2757, 'each': 1395, 'beautifully': 429, 'conceived': 929, 'painting': 3175, 'constructed': 959, 'carefully': 689, 'justice': 2438, 'individual': 2277, 'attempts': 343, 'convey': 982, 'concept': 930, 'unfortunately': 4654, 'edition': 1422, 'simply': 3986, 'bonus': 534, 'features': 1680, 'arent': 288, 'listed': 2618, 'box': 555, 'contains': 964, 'director': 1264, 'producer': 3415, 'audio': 354, 'commentary': 899, '90': 60, 'minute': 2858, 'documentary': 1307, 'called': 652, 'factor': 1622, 'tales': 4357, '12': 3, 'monkeys': 2891, 'creative': 1041, 'including': 2264, 'test': 4416, 'striking': 4226, 'feelings': 1686, 'self': 3869, 'doubt': 1332, 'despair': 1207, 'fortunately': 1805, 'decided': 1149, 'released': 3603, 'enormous': 1490, 'success': 4265, 'three': 4469, 'stooges': 4200, 'feature': 1678, 'length': 2569, 'western': 4853, 'musical': 2947, 'combine': 884, 'short': 3946, 'pleasant': 3302, 'saturday': 3792, 'afternoon': 144, 'jay': 2386, 'handsome': 2021, 'hero': 2088, 'mary': 2751, 'blonde': 511, 'june': 2433, 'blake': 498, 'betty': 474, 'women': 4923, 'songs': 4072, '1940s': 13, '1950s': 14, 'exactly': 1551, 'rock': 3720, 'brand': 565, 'humor': 2192, 'usual': 4699, 'horse': 2170, '17': 9, '45': 50, 'howard': 2182, 'larry': 2520, 'rush': 3759, 'realize': 3552, 'substance': 4258, 'someone': 4064, 'themselves': 4435, 'purpose': 3474, 'reason': 3557, 'minimum': 2856, 'ten': 4399, 'comment': 898, 'following': 1774, 'bull': 619, 'fill': 1714, 'space': 4090, 'said': 3774, 'plenty': 3307, 'wasted': 4809, 'enough': 1491, 'reading': 3544, 'review': 3676, 'gods': 1928, 'waste': 4808, 'person': 3238, 'likes': 2602, 'womens': 4924, 'entertainment': 1500, 'network': 3000, 'am': 204, 'ahead': 159, 'noticed': 3049, 'new': 3003, '100': 1, 'bad': 382, 'reputation': 3640, 'reasons': 3560, 'rescue': 3643, 'official': 3094, 'sub': 4252, 'established': 1524, 'met': 2822, 'character': 758, 'alright': 198, 'kids': 2467, 'chase': 769, 'definitely': 1162, 'memorable': 2802, 'climax': 849, 'led': 2558, 'fall': 1637, 'destruction': 1216, 'second': 3846, 'heroes': 2089, 'crap': 1031, 'cool': 989, 'having': 2054, 'private': 3404, 'party': 3200, 'woods': 4935, 'fitting': 1742, 'psychological': 3458, 'thriller': 4472, 'creepy': 1052, 'normal': 3033, 'reminded': 3619, 'sees': 3866, 'going': 1931, 'house': 2178, 'hit': 2122, 'hunters': 2200, 'arrives': 302, 'starts': 4159, 'argue': 290, 'drive': 1363, 'son': 4070, 'parents': 3188, 'natural': 2973, 'happen': 2026, 'bed': 436, 'weird': 4841, 'bedroom': 437, 'town': 4541, 'counter': 1011, 'gives': 1914, 'kim': 2475, 'gave': 1875, 'owner': 3159, 'says': 3801, 'returning': 3667, 'takes': 4351, 'board': 522, 'chases': 771, 'wind': 4893, 'hospital': 2172, 'sheriff': 3929, 'place': 3282, 'head': 2057, 'hammer': 2014, 'drives': 1367, 'road': 3709, 'finds': 1728, 'chilling': 794, 'check': 777, 'laws': 2540, 'weekend': 4838, 'failing': 1627, 'relief': 3605, 'constant': 957, 'supposedly': 4307, 'set': 3898, 'cruise': 1071, 'ship': 3934, 'holes': 2133, 'average': 362, 'celebrity': 729, 'list': 2617, 'playing': 3300, 'spot': 4131, 'join': 2412, 'faster': 1662, 'clichéd': 845, 'amounts': 220, 'blood': 512, 'genres': 1889, 'gore': 1941, 'fest': 1696, 'fails': 1628, 'unknown': 4668, 'speak': 4094, 'dark': 1115, 'hardly': 2036, 'plus': 3311, 'actress': 105, 'low': 2676, 'budget': 610, 'errors': 1516, 'blockbuster': 509, 'rent': 3626, 'classics': 837, 'tom': 4514, 'john': 2409, 'catherine': 719, 'james': 2378, 'ben': 463, 'jones': 2418, 'badly': 383, 'bo': 521, 'jesse': 2397, 'series': 3890, 'portrays': 3344, 'uncle': 4636, 'honest': 2146, 'law': 2538, 'criminal': 1057, 'smoking': 4040, 'adding': 117, 'reunion': 3669, 'question': 3487, 'died': 1244, 'boss': 546, 'alive': 186, 'ran': 3513, 'came': 656, '11': 2, 'brought': 600, '2000': 30, 'friendly': 1836, 'compared': 912, 'disgusting': 1286, 'either': 1438, 'buy': 640, 'includes': 2263, 'cd': 728, 'written': 4972, 'visually': 4758, 'stunning': 4244, 'eastern': 1408, 'philosophy': 3254, 'martial': 2747, 'arts': 310, 'fantasy': 1652, 'behind': 447, 'hong': 2149, 'kong': 2494, 'produced': 3414, 'imaginative': 2237, 'refreshing': 3586, 'treat': 4572, 'latest': 2526, 'studios': 4241, 'brain': 562, 'club': 863, 'filmed': 1717, 'fighting': 1709, 'match': 2762, 'renting': 3629, 'row': 3744, 'despite': 1211, 'english': 1483, 'title': 4504, 'editing': 1421, 'directing': 1260, 'laughable': 2530, 'irritating': 2359, 'wonder': 4926, 'sit': 4003, 'through': 4477, 'enjoy': 1484, 'historical': 2119, 'anymore': 258, 'keep': 2449, 'pushing': 3479, 'became': 431, 'curious': 1083, 'program': 3424, 'commercials': 903, 'aired': 165, 'six': 4010, 'feet': 1688, 'under': 4639, 'third': 4455, 'wow': 4962, 'took': 4523, 'engaging': 1481, 'ned': 2986, 'able': 66, 'touch': 4533, 'chuck': 812, 'dying': 1393, 'lily': 2605, 'mysterious': 2955, 'deaths': 1142, 'solve': 4060, 'picture': 3269, 'perfect': 3224, 'believable': 453, 'african': 142, 'american': 213, 'subtle': 4260, 'cultural': 1078, 'visual': 4757, 'valuable': 4708, '2007': 37, 'mystery': 2956, 'buffs': 612, 'wish': 4904, 'writers': 4969, 'continue': 969, 'husband': 2204, 'fields': 1705, 'stars': 4155, 'performers': 3232, 'era': 1513, 'lawrence': 2539, 'footage': 1782, 'portrayed': 3342, 'somebody': 4062, 'loves': 2674, 'starring': 4154, 'song': 4071, 'dance': 1103, 'popular': 3333, 'block': 508, 'eve': 1532, 'nearly': 2981, 'performing': 3233, 'effectively': 1430, 'becoming': 435, 'major': 2711, 'difference': 1246, 'couples': 1017, 'lived': 2626, 'hotel': 2175, 'paying': 3217, 'room': 3735, 'service': 3896, 'eventually': 1537, 'money': 2888, '30': 42, 'seconds': 3848, 'wearing': 4831, 'apparently': 270, 'shes': 3930, 'fairly': 1631, 'attractive': 351, 'movements': 2924, 'until': 4680, 'perform': 3227, 'results': 3662, 'impressive': 2253, 'opportunity': 3121, 'understand': 4643, 'musicals': 2948, 'ill': 2228, 'begins': 444, 'blind': 506, 'whose': 4877, 'closest': 857, 'companion': 909, 'committed': 905, 'suicide': 4283, 'unfolds': 4651, 'detective': 1220, 'figure': 1711, 'ended': 1470, 'investigation': 2343, 'information': 2288, 'leads': 2548, 'paced': 3162, 'age': 148, 'fully': 1847, 'foreign': 1790, 'large': 2517, 'ms': 2931, 'appearances': 275, 'fair': 1630, 'samurai': 3779, 'ninja': 3018, 'flicks': 1755, 'expected': 1577, 'given': 1913, 'instead': 2307, 'unconvincing': 4638, 'wooden': 4934, 'bothered': 549, 'reference': 3582, 'loose': 2650, 'weak': 4824, 'superior': 4300, 'killers': 2471, 'less': 2575, 'total': 4531, 'loss': 2659, 'fight': 1707, 'suffers': 4278, 'overall': 3150, 'latter': 2528, 'truly': 4597, 'captured': 677, 'screenplay': 3831, 'whereas': 4865, 'former': 1800, 'forward': 1808, 'half': 2007, 'tommy': 4516, 'missed': 2867, 'christmas': 810, 'screams': 3828, 'showed': 3956, 'shots': 3950, 'wizard': 4919, 'crowd': 1067, 'mirror': 2861, 'gonna': 1936, 'listening': 2620, 'fan': 1648, 'worse': 4951, 'least': 2554, 'eight': 1436, 'cameras': 660, 'rare': 3523, 'numbers': 3061, 'brilliant': 583, 'happy': 2032, 'youre': 4992, 'mediocre': 2791, 'different': 1248, 'political': 3324, 'talk': 4358, 'pacino': 3164, 'cusack': 1088, 'manage': 2722, 'skip': 4016, 'career': 686, 'relationships': 3598, 'corruption': 1002, 'amazingly': 210, 'fonda': 1777, 'equally': 1510, 'run': 3755, 'press': 3379, 'creates': 1038, 'wonderfully': 4929, 'freddy': 1826, 'dream': 1354, 'elm': 1447, 'street': 4216, 'sequel': 3885, 'nightmare': 3014, 'number': 3060, 'cameos': 658, 'teenager': 4390, 'lisa': 2616, 'sister': 4001, 'let': 2579, 'amanda': 205, '3d': 46, 'wave': 4818, 'born': 544, 'stands': 4147, 'monster': 2892, '80s': 59, 'jason': 2383, 'dolph': 1317, 'killed': 2469, 'community': 908, 'along': 195, 'learns': 2553, 'enjoyed': 1486, 'sex': 3907, 'basis': 408, 'rise': 3702, 'fame': 1642, 'left': 2561, 'dry': 1377, 'dreary': 1356, 'predictable': 3367, 'incomprehensible': 2267, 'co': 867, 'centers': 734, 'chemistry': 782, 'indeed': 2271, 'explore': 1594, 'relationship': 3597, 'wouldve': 4959, 'non': 3027, 'existent': 1572, 'exploration': 1593, 'ridiculous': 3693, 'particularly': 3195, 'disappointing': 1274, 'underrated': 4642, 'columbo': 881, 'seemed': 3862, 'pulled': 3462, 'sappy': 3784, '1980s': 21, 'soap': 4047, 'deeply': 1156, 'driven': 1365, 'compelling': 916, 'desire': 1205, 'channel': 753, 'villains': 4745, 'dialog': 1232, 'sounds': 4084, 'himself': 2111, 'famous': 1647, 'lovable': 2668, 'bride': 577, 'victim': 4729, 'dimensional': 1253, 'fear': 1676, 'tiny': 4500, 'held': 2074, 'kicked': 2461, 'struggle': 4234, 'speaking': 4095, 'revolves': 3682, 'worked': 4941, 'police': 3322, 'fbi': 1675, 'shallow': 3917, 'totally': 4532, 'familiar': 1643, 'stretched': 4222, 'hours': 2177, 'amazed': 208, 'simon': 3982, 'childish': 791, 'favorite': 1671, 'dances': 1106, 'gotta': 1946, 'chick': 786, 'jeff': 2390, 'appearance': 274, 'extent': 1605, 'adorable': 124, 'appalling': 268, 'british': 589, 'makers': 2715, 'chose': 804, 'due': 1382, 'indian': 2274, 'ocean': 3079, 'power': 3359, 'cold': 872, 'newly': 3004, 'independent': 2272, 'post': 3352, 'states': 4163, 'felt': 1692, 'allowing': 191, 'decide': 1148, 'fate': 1665, 'effect': 1428, 'native': 2972, 'population': 3335, 'point': 3316, 'fell': 1690, 'decades': 1145, 'circumstances': 822, 'suffered': 4276, 'recent': 3566, 'months': 2897, 'release': 3602, 'utterly': 4702, 'public': 3460, 'record': 3573, 'office': 3091, 'suspects': 4328, 'mistake': 2871, 'supposed': 4306, 'legal': 2563, 'consistently': 954, 'against': 147, 'drawn': 1351, 'reasonably': 3559, 'proved': 3446, 'nevertheless': 3002, 'united': 4664, 'thus': 4486, 'worthwhile': 4955, 'important': 2247, 'americans': 214, 'silent': 3975, 'facts': 1624, 'thoroughly': 4459, 'subsequent': 4257, 'viewing': 4740, 'become': 433, 'clear': 839, 'dean': 1139, 'bob': 524, 'trap': 4563, 'believe': 454, 'loving': 2675, 'broken': 594, 'baby': 376, 'viewer': 4738, 'pace': 3161, 'throughout': 4478, 'fits': 1741, 'perfectly': 3226, 'humorous': 2193, 'hilarious': 2106, 'largely': 2518, 'tragic': 4552, 'nature': 2975, 'tragedy': 4551, 'depressing': 1188, 'havent': 2053, 'experienced': 1581, 'common': 906, 'unnecessary': 4672, 'dan': 1102, 'lacks': 2505, 'ruined': 3751, 'further': 1853, 'theme': 4433, 'entirely': 1503, 'adult': 125, 'art': 304, 'itself': 2371, 'offers': 3090, 'contrast': 975, 'darker': 1116, 'etc': 1527, 'landscape': 2513, 'cinematography': 820, 'balance': 387, 'keeps': 2451, 'gentle': 1890, 'adequate': 120, 'regardless': 3590, 'normally': 3034, 'aside': 315, 'light': 2595, '70s': 56, 'absolute': 71, 'folk': 1770, 'singer': 3993, 'derek': 1192, 'notice': 3048, 'beginning': 443, 'allow': 189, 'directors': 1266, 'von': 4765, 'jean': 2389, 'rolled': 3729, 'personally': 3243, 'million': 2847, 'pretentious': 3383, 'vhs': 4725, 'gone': 1935, 'impressed': 2251, 'mostly': 2910, 'traditional': 4550, 'favorites': 1672, 'spin': 4112, 'st': 4137, 'contained': 963, 'known': 2492, 'hoping': 2160, 'soon': 4074, 'repeat': 3630, 'sets': 3899, 'comedies': 889, 'gags': 1862, 'crude': 1069, 'sort': 4077, 'effort': 1432, 'tired': 4501, 'thinks': 4454, 'fool': 1779, 'atrocious': 335, 'comparing': 913, 'garbage': 1870, 'basically': 407, 'talents': 4356, 'jim': 2402, 'underground': 4640, 'heres': 2087, 'involves': 2348, 'superhero': 4299, 'dressed': 1358, 'joke': 2414, 'enemies': 1476, 'roll': 3728, 'eyes': 1613, 'porn': 3336, 'bag': 384, 'contest': 967, 'exposed': 1598, 'horrible': 2163, 'aged': 149, 'beer': 439, 'stretch': 4221, 'marks': 2742, 'homeless': 2143, 'sad': 3767, 'step': 4175, 'mentally': 2809, 'forgot': 1796, 'key': 2458, 'element': 1442, 'sounded': 4082, 'paper': 3183, 'classes': 834, 'sight': 3969, 'gag': 1861, 'gay': 1876, 'virgin': 4749, 'saving': 3797, 'drag': 1342, 'whenever': 4863, 'stuck': 4237, 'chicks': 787, 'recently': 3567, 'politically': 3325, 'laughed': 2532, 'offensive': 3086, 'merely': 2815, 'ironically': 2356, 'thanks': 4423, 'stiller': 4189, 'bathroom': 412, 'date': 1118, 'loaded': 2632, 'looked': 2647, 'door': 1328, 'answer': 251, 'revealed': 3671, 'hanging': 2023, 'multiple': 2936, 'loads': 2633, 'whatsoever': 4861, 'offer': 3087, 'cause': 723, 'werent': 4849, 'lets': 2580, 'except': 1556, 'note': 3044, 'michael': 2829, 'green': 1971, 'mile': 2842, 'caliber': 649, 'amateurish': 207, 'freak': 1824, 'karen': 2444, 'impression': 2252, 'lee': 2559, 'biggest': 480, 'support': 4303, 'deserves': 1201, 'lord': 2652, 'cult': 1077, 'hey': 2095, 'claim': 828, 'jesus': 2399, 'franco': 1820, 'likely': 2601, 'prime': 3395, 'late': 2523, 'sixties': 4011, 'early': 1400, 'seventies': 3904, 'lately': 2524, 'strange': 4211, 'anyway': 261, 'true': 4596, 'various': 4715, 'performs': 3234, 'berlin': 467, 'acts': 107, 'fake': 1635, 'torture': 4529, 'performed': 3230, 'whats': 4860, 'stuff': 4243, 'sharp': 3922, 'wild': 4885, 'entertaining': 1499, 'atmosphere': 333, 'ends': 1474, 'tape': 4365, 'guess': 1989, 'bay': 416, 'collection': 874, 'theory': 4437, 'talented': 4355, 'rob': 3710, 'peter': 3247, 'television': 4394, 'experiences': 1582, 'amongst': 218, 'duke': 1383, 'wandering': 4785, 'practice': 3363, 'scripts': 3836, 'convince': 983, 'shoot': 3942, 'strike': 4224, 'help': 2079, 'mrs': 2930, 'dreadful': 1353, 'angels': 234, 'faces': 1618, 'thankfully': 4422, 'future': 1856, 'wouldnt': 4958, 'ironic': 2355, 'spoof': 4127, 'halfway': 2008, 'stayed': 4167, 'guilt': 1994, 'lame': 2510, 'leave': 2555, 'tears': 4380, 'cried': 1054, 'cry': 1073, 'write': 4967, 'production': 3419, 'values': 4710, 'matters': 2770, 'message': 2819, 'hearts': 2066, 'remember': 3616, 'forms': 1801, 'sentimental': 3882, 'stronger': 4230, 'happiness': 2031, 'vietnam': 4735, 'combat': 882, 'technical': 4381, 'details': 1219, 'bomb': 531, 'guys': 2001, 'iraq': 2351, 'poetic': 3313, 'unit': 4663, 'military': 2844, 'prize': 3405, 'saves': 3796, 'cell': 730, 'phone': 3255, 'immediately': 2242, 'yelling': 4980, 'stop': 4201, 'noted': 3045, 'imagination': 2236, 'businessman': 634, 'personal': 3240, 'revenge': 3675, 'risk': 3704, 'taking': 4352, 'limited': 2606, 'detail': 1217, 'wins': 4899, 'reflection': 3585, 'la': 2500, 'land': 2511, 'strictly': 4223, 'mindless': 2851, 'contain': 962, 'social': 4049, 'friends': 1837, 'uses': 4697, 'situations': 4009, 'ways': 4822, 'achieve': 92, 'humour': 2194, 'walk': 4775, 'witty': 4917, 'french': 1830, 'equivalent': 1512, 'contemporary': 965, 'louis': 2665, 'le': 2544, 'fire': 1734, 'within': 4912, 'lost': 2660, 'catches': 715, 'decade': 1144, 'unless': 4669, 'conventional': 979, 'turn': 4605, 'beyond': 476, 'voices': 4763, 'narrator': 2967, 'de': 1131, 'madness': 2698, 'expression': 1602, 'draws': 1352, 'parallel': 3185, 'suitable': 4285, 'rated': 3527, 'mission': 2870, 'dumb': 1385, 'belief': 451, 'unfortunate': 4653, 'deal': 1135, 'amateur': 206, 'drags': 1345, 'obvious': 3071, 'mistakes': 2873, 'soundtrack': 4085, 'distinct': 1296, 'funniest': 1851, 'reaction': 3541, 'limits': 2607, 'twisted': 4618, 'silly': 3976, 'genius': 1887, 'bbc': 417, 'loud': 2664, 'impossible': 2249, 'straight': 4210, 'crazy': 1035, 'reactions': 3542, 'stated': 4161, 'twice': 4613, 'herself': 2092, 'purchase': 3469, 'rights': 3697, 'card': 681, 'needless': 2989, 'portrayal': 3341, 'winning': 4898, 'move': 2921, 'finish': 1732, 'hands': 2020, 'artist': 307, 'rank': 3518, 'angles': 237, 'montage': 2894, 'brilliantly': 584, 'players': 3299, 'heavy': 2070, 'dr': 1340, 'christian': 808, 'lloyd': 2630, 'jobs': 2406, 'intended': 2315, 'otherwise': 3137, 'explaining': 1588, 'spent': 4108, 'fortune': 1806, 'defense': 1159, 'slightest': 4028, 'attempt': 340, 'fired': 1735, 'likable': 2598, 'attack': 337, 'class': 833, 'priest': 3392, 'moves': 2925, 'surprise': 4312, 'whatever': 4859, 'heroine': 2091, 'provides': 3450, 'insight': 2298, 'married': 2744, 'retired': 3664, 'children': 792, 'bet': 470, 'brains': 563, 'interview': 2329, 'robinson': 3716, 'miscast': 2862, 'brief': 579, 'david': 1124, 'expensive': 1579, 'photography': 3260, 'marvelous': 2750, 'promising': 3433, 'bill': 481, 'introduced': 2337, 'stereotypical': 4180, 'vampire': 4711, 'downhill': 1336, 'cardboard': 682, 'progresses': 3426, 'lose': 2654, 'personalities': 3241, 'abilities': 64, 'episode': 1507, 'consists': 955, 'lover': 2672, 'events': 1536, 'surrounding': 4319, 'enjoyable': 1485, 'sleep': 4024, 'hooked': 2153, 'loses': 2657, 'size': 4012, 'actions': 101, 'explained': 1587, 'core': 995, 'yeah': 4977, 'equal': 1509, 'hbo': 2055, 'pass': 3201, 'soft': 4051, 'minor': 2857, 'drunk': 1375, 'mother': 2911, 'development': 1225, 'prior': 3400, 'trashy': 4566, 'zombie': 4997, 'del': 1165, 'unforgettable': 4652, 'child': 789, 'sleazy': 4023, 'giallo': 1904, 'strip': 4228, 'nude': 3058, 'neither': 2996, 'spectacular': 4101, 'featured': 1679, 'nudity': 3059, 'hurt': 2202, 'massacre': 2754, 'splatter': 4118, 'odd': 3080, 'gratuitous': 1961, 'flesh': 1753, 'murders': 2943, 'oh': 3096, 'skin': 4015, 'endless': 1473, 'interest': 2323, 'fulci': 1845, 'used': 4693, 'aka': 168, 'concert': 935, 'burned': 626, 'race': 3499, 'relations': 3596, 'danny': 1112, 'glover': 1923, 'meanwhile': 2785, 'davis': 1126, 'steve': 4181, 'martin': 2748, 'serious': 3891, 'crash': 1033, 'peoples': 3222, 'earlier': 1399, 'louise': 2666, 'parker': 3191, 'basketball': 409, 'professor': 3422, 'research': 3644, 'hopes': 2159, 'cure': 1081, 'aging': 153, 'university': 4667, 'trouble': 4592, 'trial': 4580, 'monkey': 2890, 'quickly': 3491, 'dies': 1245, 'annoying': 249, 'initially': 2291, 'strength': 4219, 'realizes': 3554, 'memory': 2804, 'appear': 273, 'turned': 4606, 'costume': 1005, 'store': 4204, 'absurd': 73, 'laura': 2536, 'small': 4033, 'plastic': 3294, 'occasionally': 3075, 'tear': 4379, 'removed': 3624, 'rid': 3690, 'exceptional': 1558, 'display': 1291, 'greed': 1968, 'wedding': 4836, 'march': 2734, 'essentially': 1523, 'russian': 3762, 'count': 1010, 'rented': 3628, 'win': 4892, 'gain': 1863, 'whom': 4875, 'promised': 3431, 'marry': 2745, 'rooms': 3736, 'persona': 3239, 'deserved': 1200, 'fascinated': 1657, 'meet': 2793, 'wives': 4918, 'originally': 3131, 'studio': 4240, '70': 55, 'surviving': 4323, 'alternate': 200, 'print': 3399, 'zero': 4996, 'sucks': 4271, 'cannot': 670, 'suck': 4269, 'bobby': 525, 'brown': 601, 'nobody': 3022, 'hadnt': 2004, 'changed': 750, 'females': 1694, 'gender': 1878, 'combination': 883, 'actresses': 106, 'credible': 1048, 'lol': 2640, 'kidding': 2465, 'smiling': 4037, 'idiot': 2218, 'horrendous': 2162, 'corny': 997, 'broadcast': 591, 'fifteen': 1706, 'advance': 127, 'drawing': 1350, 'pay': 3216, 'alien': 183, 'virus': 4752, 'witch': 4909, 'physically': 3263, 'routine': 3743, 'standing': 4146, 'beach': 419, 'depth': 1190, 'oz': 3160, 'upon': 4684, 'personality': 3242, 'lessons': 2578, 'billy': 482, 'williams': 4888, 'throws': 4482, 'liners': 2611, 'kissing': 2484, 'explosion': 1596, 'bought': 552, 'wrote': 4974, 'sadly': 3769, 'follow': 1772, 'assume': 328, 'comics': 895, 'books': 536, 'modesty': 2883, 'tough': 4537, 'lead': 2545, 'stories': 4205, 'suspense': 4330, 'thrillers': 4473, 'source': 4086, 'tense': 4403, 'suspenseful': 4331, 'fascinating': 1658, 'explosions': 1597, 'control': 977, 'batman': 413, 'bond': 532, 'efforts': 1433, 'trailer': 4554, 'evening': 1534, 'rocky': 3723, 'horrors': 2169, 'brad': 560, 'nicely': 3009, 'necessarily': 2983, 'daughters': 1122, 'harris': 2038, 'buddy': 609, 'happens': 2029, 'vehicle': 4718, 'regret': 3591, 'instance': 2304, 'occur': 3076, 'order': 3126, 'told': 4513, 'adapted': 114, 'literature': 2623, 'ann': 244, 'meeting': 2794, 'tad': 4347, 'handled': 2019, 'learned': 2551, 'grant': 1956, 'currently': 1085, 'dreams': 1355, 'bridge': 578, 'worlds': 4947, 'flashbacks': 1747, 'riveting': 3708, 'period': 3236, 'claire': 831, 'danes': 1108, 'crying': 1074, 'exists': 1573, 'warming': 4795, 'patrick': 3213, 'wilson': 4891, 'picking': 3267, 'blow': 514, 'hopefully': 2157, 'craft': 1028, 'cash': 709, 'heck': 2071, 'younger': 4990, 'streep': 4215, 'rough': 3741, 'revelation': 3674, 'hugh': 2186, 'steals': 4172, 'alcohol': 176, 'facial': 1619, 'expressions': 1603, 'flashback': 1746, 'sequences': 3888, 'fallen': 1638, 'forgettable': 1794, 'category': 718, 'wholly': 4874, 'intelligence': 2313, 'table': 4346, 'amount': 219, 'tie': 4488, 'couldnt': 1008, 'ride': 3692, 'plane': 3288, 'terrible': 4407, '20': 29, 'soldiers': 4054, 'photo': 3257, 'dialogues': 1235, 'hole': 2132, 'satisfy': 3790, 'miss': 2866, 'hung': 2197, 'certainly': 738, 'abuse': 74, 'drugs': 1374, '13': 4, 'teens': 4392, 'media': 2789, 'created': 1037, 'telling': 4396, 'army': 295, 'cheesy': 781, 'toilet': 4512, 'teeth': 4393, 'offended': 3085, 'sophisticated': 4075, 'entertained': 1498, 'influence': 2286, 'teenagers': 4391, 'showing': 3958, 'lifestyle': 2593, 'ignorant': 2223, 'idiots': 2220, 'quiet': 3492, 'avoid': 363, 'costs': 1004, 'save': 3794, 'youd': 4987, 'obsessed': 3069, 'passion': 3205, 'usa': 4691, 'cost': 1003, 'putting': 3482, 'ludicrous': 2685, 'horses': 2171, 'bland': 500, 'typically': 4624, 'eccentric': 1414, 'lynch': 2691, 'transfer': 4559, 'cutting': 1092, 'difficult': 1249, 'italian': 2367, 'male': 2719, 'boys': 559, 'filled': 1715, 'redeeming': 3577, 'twins': 4616, 'seriously': 3892, 'ladies': 2506, 'bus': 631, 'tim': 4494, 'raised': 3508, 'mansion': 2731, 'surrounded': 4318, 'constantly': 958, 'models': 2881, 'kicks': 2463, 'youth': 4994, 'taught': 4370, 'level': 2584, 'charm': 767, 'hearted': 2065, 'semi': 3874, 'admit': 122, 'unexpected': 4650, 'australian': 357, 'gem': 1877, 'australia': 356, 'parody': 3192, 'concern': 931, 'audiences': 353, 'pick': 3265, 'comedic': 888, 'elements': 1443, 'overly': 3155, 'clever': 841, 'fit': 1740, 'cliche': 843, 'garden': 1872, 'creativity': 1042, 'violent': 4748, 'molly': 2884, 'castle': 712, 'cheek': 779, 'till': 4493, 'spots': 4132, 'hidden': 2096, 'reviews': 3679, 'edge': 1418, 'today': 4508, 'wasting': 4810, 'precious': 3366, 'clumsy': 866, 'manipulative': 2727, 'ridiculously': 3694, 'pointless': 3318, 'nasty': 2968, 'propaganda': 3435, 'treated': 4573, 'akshay': 169, 'illness': 2230, 'international': 2326, 'festival': 1697, 'widely': 4881, 'successfully': 4267, 'canadian': 667, 'importantly': 2248, 'carrie': 697, 'anne': 246, 'ray': 3533, 'suspect': 4327, 'nelson': 2997, 'victor': 4731, 'van': 4713, 'pride': 3391, 'nights': 3016, 'inspiration': 2300, 'revealing': 3672, 'suffice': 4279, 'letting': 2583, 'surreal': 4317, 'towards': 4540, 'pg': 3250, 'urge': 4689, 'buying': 641, 'summer': 4291, 'national': 2970, 'fisher': 1739, 'bright': 581, 'trip': 4588, 'earl': 1398, 'marriage': 2743, 'richardson': 3688, 'intimate': 2331, 'sleeping': 4025, 'candy': 668, 'roy': 3745, 'discovers': 1281, 'pregnant': 3369, 'doctor': 1304, 'affair': 135, 'chaos': 755, 'brady': 561, 'lay': 2542, 'south': 4087, 'naive': 2958, 'idiotic': 2219, 'dollar': 1314, 'asks': 319, 'pops': 3332, 'prostitute': 3440, 'worthless': 4954, 'barely': 399, 'speaks': 4096, 'harvey': 2042, 'executive': 1567, 'producers': 3416, 'guessing': 1991, 'glory': 1922, 'anna': 245, 'mistaken': 2872, 'wwii': 4975, 'professional': 3421, 'dancing': 1107, 'culture': 1079, 'differences': 1247, 'appreciated': 280, 'keaton': 2448, 'ed': 1415, 'wood': 4933, 'junk': 2436, 'german': 1896, 'accent': 78, 'sign': 3970, 'wall': 4781, 'pulls': 3464, 'partner': 3198, 'carrying': 701, 'cops': 993, 'stopped': 4202, 'started': 4157, 'fly': 1763, 'commercial': 902, 'fast': 1661, 'paint': 3173, 'similar': 3978, 'bored': 541, 'judge': 2424, 'mess': 2818, 'available': 361, 'uk': 4626, 'growing': 1983, 'menace': 2806, 'ancient': 225, 'authentic': 358, '1968': 16, 'mini': 2854, 'screens': 3832, '2001': 31, 'camp': 662, 'initial': 2290, 'titles': 4506, 'redemption': 3578, 'managed': 2723, 'bottom': 551, 'anywhere': 263, 'vacation': 4704, 'red': 3576, 'market': 2740, 'friday': 1834, 'terrific': 4409, 'introduction': 2339, 'garbo': 1871, 'primarily': 3393, 'europe': 1529, 'compare': 911, 'closely': 855, 'productions': 3420, 'analysis': 224, 'absence': 70, 'park': 3190, 'curiosity': 1082, 'occurred': 3077, 'genuine': 1891, 'talks': 4361, 'cares': 690, 'understood': 4647, 'therefore': 4439, 'issue': 2364, 'captivating': 675, 'marie': 2737, 'perspective': 3245, 'longer': 2645, 'stood': 4199, 'questionable': 3488, 'carries': 699, 'shall': 3916, 'sympathetic': 4342, 'matt': 2768, 'shines': 3932, 'greatest': 1966, 'chris': 806, 'vs': 4767, 'fears': 1677, 'daughter': 1121, 'magnificent': 2705, 'conversation': 980, 'flawless': 1751, 'leaves': 2556, 'alcoholic': 177, 'accurate': 90, 'discover': 1279, 'forgotten': 1797, 'magic': 2703, 'makeup': 2717, 'mayor': 2777, 'surely': 4309, 'creature': 1045, 'front': 1841, 'mild': 2839, 'slapstick': 4019, 'themes': 4434, 'accept': 80, 'neat': 2982, 'carry': 700, 'smoke': 4039, 'jet': 2400, 'sky': 4017, 'flying': 1764, 'bollywood': 530, 'proper': 3436, 'airport': 167, 'mall': 2720, 'choreographed': 801, 'anyways': 262, 'graphics': 1959, 'standards': 4145, 'minds': 2852, 'eye': 1611, 'segment': 3867, 'stanley': 4148, 'breaking': 570, 'ice': 2210, 'emotions': 1461, 'clip': 851, 'website': 4834, 'teaching': 4377, 'students': 4239, 'york': 4985, 'manhattan': 2726, 'covers': 1024, 'generally': 1881, 'examples': 1554, 'across': 96, 'midnight': 2834, 'paul': 3214, 'henry': 2084, 'stand': 4143, 'comedian': 887, 'teacher': 4375, 'jackie': 2374, 'cousin': 1021, 'edie': 1419, 'considered': 951, 'closet': 858, 'extra': 1606, 'include': 2261, 'fashion': 1659, 'ideas': 2215, 'interested': 2324, 'discussion': 1284, 'ie': 2221, 'nuts': 3064, 'missing': 2869, 'site': 4005, 'earth': 1403, 'travel': 4567, 'cities': 823, 'knowledge': 2491, 'continues': 971, 'remaining': 3610, 'dealing': 1136, 'melodrama': 2797, 'lovers': 2673, 'root': 3737, 'evil': 1548, 'blah': 496, 'holds': 2131, 'spend': 4105, 'rich': 3685, 'cared': 685, 'slave': 4022, 'drop': 1369, 'hat': 2045, 'sell': 3871, 'wanting': 4790, 'figured': 1712, 'portray': 3340, 'asian': 314, 'ability': 65, 'hits': 2125, 'hair': 2005, 'tony': 4521, 'rip': 3700, 'oscar': 3133, 'praise': 3364, 'rachel': 3500, 'boyfriend': 558, 'witnessed': 4915, 'close': 853, 'plans': 3292, 'college': 875, 'die': 1243, 'merits': 2817, 'building': 615, 'families': 1644, 'offering': 3089, 'agree': 155, 'destroyed': 1214, 'result': 3660, 'claimed': 829, 'apart': 264, 'neighbors': 2994, 'cup': 1080, 'sympathy': 4343, 'air': 164, 'spite': 4117, 'design': 1202, 'sings': 3997, 'scores': 3823, 'directly': 1263, 'spoke': 4125, 'received': 3564, 'translation': 4562, 'awkward': 374, 'lights': 2597, 'sat': 3786, 'segments': 3868, 'trailers': 4555, 'appreciation': 281, 'theyve': 4446, 'india': 2273, 'color': 877, 'stunts': 4246, 'couldve': 1009, 'lake': 2509, 'surprised': 4313, 'enemy': 1477, 'smith': 4038, 'mix': 2876, 'jamie': 2379, 'mike': 2838, 'wannabe': 4787, 'thugs': 4484, 'providing': 3451, 'government': 1948, 'security': 3854, 'requires': 3642, 'suit': 4284, 'plant': 3293, 'brings': 587, 'dinner': 1254, 'repeated': 3631, 'china': 795, 'nowhere': 3056, 'christopher': 811, 'ii': 2226, 'suffer': 4275, 'grade': 1951, 'sci': 3815, 'fi': 1701, 'lots': 2662, 'stock': 4193, 'eerie': 1427, 'unusual': 4681, 'uncomfortable': 4637, 'boredom': 542, 'asleep': 320, 'kept': 2456, 'awake': 365, 'horrifying': 2167, 'ears': 1402, 'spending': 4106, 'ticket': 4487, 'catchy': 717, 'older': 3101, 'outrageous': 3145, 'considering': 952, 'wed': 4835, 'reminds': 3620, 'miller': 2846, 'react': 3540, 'lovely': 2671, 'eva': 1531, 'kate': 2446, 'angel': 231, 'concerned': 932, 'psychic': 3456, 'bell': 458, 'ashley': 313, 'contact': 961, 'attracted': 349, 'ghost': 1902, 'bud': 607, 'stephen': 4176, 'morgan': 2905, 'stole': 4194, 'pain': 3170, 'butt': 638, 'describe': 1194, 'afraid': 140, 'picked': 3266, 'worn': 4948, 'ages': 152, 'references': 3583, 'yourself': 4993, 'itll': 2369, 'flow': 1762, 'unrealistic': 4677, 'represented': 3638, 'addition': 118, 'bruce': 602, 'willis': 4890, 'survivors': 4325, 'fresh': 1833, 'sent': 3880, 'mention': 2810, 'pitt': 3280, 'mental': 2808, 'patient': 3211, 'bringing': 586, 'disturbing': 1300, 'animals': 240, 'humans': 2190, 'thumbs': 4485, 'grim': 1974, 'smile': 4036, 'misses': 2868, 'scared': 3805, 'scientists': 3819, 'sally': 3776, 'everyones': 1543, 'pretend': 3381, 'girlfriend': 1910, 'jr': 2423, 'slick': 4026, 'gifted': 1907, 'charismatic': 763, 'goldberg': 1933, 'delivery': 1173, 'ya': 4976, 'eighties': 1437, 'pictures': 3270, 'centered': 733, 'em': 1452, 'caught': 722, 'criminals': 1058, 'accidentally': 85, 'shooting': 3943, 'killing': 2472, 'deadly': 1133, 'game': 1864, 'mouse': 2919, 'hunt': 2198, 'odds': 3082, 'motion': 2913, 'gritty': 1977, 'pathetic': 3210, 'drug': 1373, 'countless': 1012, 'weve': 4856, 'frightening': 1839, 'push': 3477, 'hills': 2109, 'kick': 2460, 'pity': 3281, 'field': 1704, 'positive': 3346, 'alfred': 181, 'hitchcock': 2123, 'ah': 158, 'noir': 3023, 'favourite': 1673, 'andrews': 229, 'mark': 2739, 'brutal': 603, 'water': 4816, 'murder': 2939, 'goal': 1925, 'taylor': 4372, 'hill': 2108, 'narrative': 2966, 'wise': 4903, 'tone': 4517, 'welles': 4844, 'slowly': 4032, 'explains': 1589, 'notion': 3050, 'likewise': 2603, 'ups': 4686, 'occasional': 3074, 'meaningless': 2782, 'trapped': 4564, 'gangsters': 1869, 'cage': 645, 'enters': 1496, 'chief': 788, 'blue': 518, 'content': 966, 'toy': 4542, 'possibilities': 3348, 'johnny': 2410, 'eager': 1396, 'competent': 917, '40': 48, 'romantic': 3733, 'dating': 1120, 'satisfying': 3791, 'andy': 230, 'basic': 406, 'identify': 2216, 'built': 618, 'status': 4165, 'daily': 1097, 'writer': 4968, 'figures': 1713, 're': 3535, 'suggests': 4282, 'apartment': 265, 'curse': 1086, 'pop': 3330, 'jane': 2380, 'meaningful': 2781, 'build': 614, 'worry': 4950, 'practically': 3362, 'laughing': 2533, 'whether': 4866, 'fellow': 1691, 'workers': 4943, 'un': 4630, 'call': 651, 'cable': 644, 'hopeless': 2158, 'internet': 2327, 'ad': 110, 'poster': 3353, 'fictional': 1703, 'opposite': 3123, 'president': 3378, 'blatant': 502, 'racism': 3502, 'endearing': 1469, 'charming': 768, 'church': 813, 'drew': 1360, 'relevant': 3604, 'directs': 1267, 'moore': 2901, 'andrew': 228, 'notable': 3041, 'obnoxious': 3067, 'husbands': 2205, 'gene': 1879, 'kelly': 2452, 'paris': 3189, 'dancers': 1105, '40s': 49, '50s': 52, 'rising': 3703, 'masterpiece': 2759, 'bore': 540, 'warm': 4794, 'artistic': 308, 'steps': 4177, 'mgm': 2828, 'specifically': 4100, 'distracting': 1297, 'ultimate': 4627, 'horrific': 2166, 'cabin': 643, 'thief': 4448, 'specific': 4099, 'exotic': 1574, 'generic': 1885, 'johnson': 2411, 'shoots': 3944, 'general': 1880, 'proceedings': 3410, 'aspect': 321, 'horribly': 2164, 'sidekick': 3966, 'cartoon': 704, 'kinda': 2477, 'type': 4621, 'window': 4894, 'followed': 1773, 'terribly': 4408, 'helping': 2081, 'imdb': 2240, 'names': 2963, 'gordon': 1940, 'quest': 3486, 'kung': 2498, 'fu': 1844, 'defeat': 1157, 'mill': 2845, 'monk': 2889, 'skill': 4013, 'runs': 3757, 'promises': 3432, 'protect': 3443, 'accepted': 82, 'choreography': 802, 'tradition': 4549, 'training': 4558, 'methods': 2825, 'student': 4238, 'hundreds': 2196, 'thousands': 4466, 'west': 4852, 'steel': 4173, 'develops': 1226, 'asked': 317, 'hilariously': 2107, 'dust': 1388, 'ties': 4490, 'remains': 3611, 'planet': 3289, 'superman': 4301, 'returns': 3668, 'lane': 2515, 'plots': 3310, 'create': 1036, 'delightful': 1168, 'clark': 832, 'singers': 3994, 'emotion': 1458, 'overrated': 3156, 'twenty': 4612, 'mature': 2773, 'reporter': 3636, 'forty': 1807, 'vote': 4766, 'inevitable': 2282, 'poverty': 3357, 'ignore': 2224, 'genuinely': 1892, 'casting': 711, 'creation': 1040, 'charlotte': 766, 'novel': 3052, 'eyre': 1614, 'terms': 4406, 'leaving': 2557, 'hired': 2117, 'wet': 4855, 'joan': 2404, 'capable': 672, 'involvement': 2347, 'frustrated': 1842, 'devoid': 1230, 'energy': 1478, 'aid': 160, 'disney': 1289, 'doll': 1313, 'empty': 1465, 'aunt': 355, 'reed': 3580, 'beloved': 461, 'comparison': 914, 'timothy': 4499, 'dalton': 1098, 'web': 4833, 'planned': 3290, 'eg': 1434, 'understanding': 4645, 'soul': 4079, 'presents': 3377, 'fairy': 1632, 'tale': 4353, 'recall': 3562, 'rarely': 3524, 'nonsense': 3030, 'trite': 4589, 'lies': 2591, 'hitler': 2124, 'historically': 2120, 'embarrassed': 1453, 'beating': 425, 'above': 68, 'animal': 239, 'banned': 395, 'iron': 2354, 'cross': 1066, 'farce': 1654, 'utter': 4701, 'demented': 1176, 'thick': 4447, 'existed': 1570, 'leader': 2546, 'germany': 1898, 'honestly': 2147, 'wide': 4880, 'previously': 3388, 'unaware': 4632, '1990s': 25, 'product': 3418, '1980': 20, 'filmmaker': 1719, 'victims': 4730, '50': 51, 'angela': 232, '25': 40, 'price': 3389, 'month': 2896, 'fights': 1710, 'scary': 3807, 'franchise': 1817, 'luckily': 2682, 'haunted': 2050, 'improved': 2255, 'inappropriate': 2259, 'theyll': 4444, 'ashamed': 312, 'toys': 4543, 'free': 1827, 'whoever': 4872, 'tooth': 4524, 'downright': 1337, 'childrens': 793, 'melting': 2799, 'combined': 885, 'bloody': 513, 'behavior': 446, 'eaten': 1412, 'mst3k': 2932, 'greatly': 1967, 'desperate': 1208, 'julia': 2427, 'reads': 3545, 'london': 2641, 'newspaper': 3006, 'secretary': 3850, 'position': 3345, 'scenery': 3810, 'england': 1482, 'doors': 1329, 'disappointment': 1275, 'consider': 949, 'creating': 1039, 'images': 2235, 'sunshine': 4294, 'neil': 2995, 'walter': 4784, 'matthau': 2771, 'burns': 628, 'bitter': 491, 'theatrical': 4430, 'agent': 150, 'responsibility': 3655, 'outstanding': 3147, 'won': 4925, 'walks': 4780, 'nominated': 3025, 'nicholson': 3011, 'worthy': 4956, 'false': 1641, 'madonna': 2699, 'evidence': 1546, 'cruel': 1070, 'sadness': 3770, 'shadows': 3913, 'searching': 3842, 'sincere': 3991, 'incompetent': 2266, 'oliver': 3102, 'stone': 4197, 'mask': 2752, 'suffering': 4277, 'deals': 1137, 'potential': 3355, 'suggest': 4280, 'health': 2060, 'disease': 1285, 'designed': 1203, 'reaches': 3538, 'dramatic': 1348, 'shine': 3931, 'explicit': 1591, 'hint': 2112, 'blows': 517, 'intentions': 2321, 'disjointed': 1287, 'execution': 1566, 'moved': 2922, 'california': 650, 'force': 1786, 'existence': 1571, 'believes': 456, 'believed': 455, 'witness': 4914, 'nearby': 2980, 'wondering': 4930, 'wished': 4905, 'river': 3707, 'boat': 523, 'spare': 4093, 'selfish': 3870, 'developed': 1223, 'sons': 4073, 'shop': 3945, 'flies': 1756, 'cooper': 990, 'pays': 3218, 'edited': 1420, 'roman': 3731, 'polanski': 3321, 'masterpieces': 2760, 'fond': 1776, 'paranoia': 3186, 'obsession': 3070, 'france': 1816, 'attempted': 341, 'jumping': 2431, 'believing': 457, 'caused': 724, 'focuses': 1768, 'bizarre': 492, 'conspiracy': 956, 'darkness': 1117, 'helps': 2082, 'haunting': 2051, 'confusion': 943, 'supernatural': 4302, 'flaw': 1749, 'gradually': 1952, 'convoluted': 987, 'joy': 2422, 'pleased': 3305, 'sir': 4000, 'strong': 4229, 'devoted': 1231, 'painful': 3171, 'frankly': 1823, 'pre': 3365, 'code': 869, 'century': 736, 'wears': 4832, 'obscure': 3068, 'walking': 4779, 'cheating': 776, 'senseless': 3878, 'funeral': 1849, 'stranger': 4213, 'apparent': 269, 'visit': 4755, 'italy': 2368, 'spoken': 4126, 'instantly': 2306, 'develop': 1222, 'delight': 1167, 'vincent': 4746, 'ruth': 3763, 'members': 2801, 'lena': 2568, 'travels': 4569, 'alert': 178, 'hold': 2129, 'jewish': 2401, 'nine': 3017, 'nazi': 2977, 'officers': 3093, 'severe': 3906, 'treatment': 4574, 'event': 1535, 'open': 3112, 'shed': 3924, 'innocent': 2294, 'rangers': 3517, 'remotely': 3623, 'dressing': 1359, 'multi': 2935, 'viewings': 4741, 'gorgeous': 1942, 'corrupt': 1001, 'shape': 3919, 'cheated': 775, 'painfully': 3172, 'resembles': 3646, 'rape': 3521, 'benefit': 465, 'cover': 1022, 'barbara': 397, 'stanwyck': 4149, 'double': 1331, 'seat': 3845, 'helen': 2075, 'sullivan': 4288, 'isolated': 2363, 'mexico': 2827, 'saved': 3795, 'psychotic': 3459, 'suppose': 4305, 'realized': 3553, 'improvement': 2256, 'videos': 4734, 'embarrassment': 1455, 'japan': 2381, 'guest': 1992, 'sits': 4006, 'watches': 4814, 'appeal': 271, 'underlying': 4641, 'society': 4050, 'report': 3635, 'cook': 988, 'drunken': 1376, 'fat': 1663, 'calls': 654, 'standard': 4144, 'frustration': 1843, 'vengeance': 4719, 'fury': 1855, 'stomach': 4196, 'hood': 2151, 'tricks': 4583, 'inventive': 2341, 'voice': 4761, 'sounding': 4083, 'edward': 1426, 'medical': 2790, 'kiss': 2483, 'lips': 2615, 'september': 3884, 'pushed': 3478, 'ranks': 3519, 'mid': 2832, '1960s': 15, 'kid': 2464, 'host': 2173, 'performer': 3231, 'agreed': 156, 'commented': 900, 'washington': 4806, 'careful': 688, 'critical': 1062, 'bodies': 526, 'choices': 798, 'opportunities': 3120, 'parent': 3187, 'forth': 1804, 'recognized': 3570, 'via': 4726, 'hunting': 2201, 'recognition': 3568, 'denzel': 1181, 'receive': 3563, 'direct': 1258, 'send': 3875, 'acceptable': 81, 'pie': 3271, 'digital': 1251, 'inspired': 2301, 'designs': 1204, 'colour': 880, 'touches': 4535, 'nonetheless': 3029, 'vast': 4716, 'landscapes': 2514, 'intrigued': 2334, 'michelle': 2830, 'niro': 3019, 'captain': 674, 'hide': 2097, 'charlie': 765, 'cox': 1026, 'princess': 3397, 'knew': 2486, 'hearing': 2063, 'format': 1799, 'unlikely': 4671, 'opposed': 3122, 'wealthy': 4827, 'screenwriter': 3833, 'scope': 3821, 'emphasis': 1463, 'dubbing': 1380, 'exploitation': 1592, 'taste': 4369, 'elegant': 1441, '1930s': 11, 'grew': 1972, 'involve': 2345, 'twilight': 4614, 'zone': 4999, 'trade': 4547, 'versus': 4722, 'simplicity': 3984, 'exact': 1550, 'butler': 637, 'challenge': 743, 'showcase': 3954, 'jennifer': 2392, 'remote': 3622, 'location': 2635, 'advantage': 129, 'seemingly': 3863, 'virginia': 4750, 'hiding': 2099, 'junior': 2435, 'remarkable': 3613, 'builds': 617, 'intense': 2316, 'delivering': 1171, 'psycho': 3457, 'poignant': 3315, 'unseen': 4678, 'solid': 4057, 'discovery': 1282, 'pulp': 3465, 'fiction': 1702, 'quirky': 3493, 'citizen': 824, 'kane': 2442, 'european': 1530, 'desperately': 1209, 'method': 2824, 'filming': 1718, 'subtitles': 4259, 'distribution': 1298, 'identity': 2217, 'parties': 3196, 'nostalgic': 3039, 'memories': 2803, 'childhood': 790, 'mothers': 2912, 'hook': 2152, 'brave': 567, 'aware': 368, 'rick': 3689, 'produce': 3413, 'acid': 95, 'wound': 4960, 'covered': 1023, 'minimal': 2855, 'giant': 1905, 'hal': 2006, '20th': 38, 'jimmy': 2403, 'summary': 4290, 'appeared': 276, 'threatening': 4468, 'eat': 1411, 'stan': 4142, 'millions': 2848, 'ensues': 1493, 'finished': 1733, 'notes': 3046, 'restaurant': 3658, 'gang': 1867, 'bank': 394, 'overdone': 3152, 'highlight': 2103, 'tremendous': 4579, 'area': 286, 'desired': 1206, 'process': 3412, 'rule': 3753, 'sports': 4130, 'replaced': 3634, 'structure': 4233, 'industry': 2280, 'justify': 2439, 'faith': 1633, 'virtually': 4751, 'critics': 1064, 'affect': 136, 'cinematographer': 819, 'academy': 77, 'challenging': 744, 'dress': 1357, 'breathtaking': 574, 'brutally': 604, 'emotionally': 1460, 'relatively': 3600, 'scripted': 3835, 'attacks': 339, 'schools': 3814, 'glorious': 1921, 'falk': 1636, 'thrown': 4481, 'hire': 2116, 'laughably': 2531, 'yesterday': 4983, 'heavily': 2069, 'strongly': 4231, 'warn': 4797, 'afterwards': 145, 'advice': 133, 'reveal': 3670, 'regarding': 3589, 'court': 1020, 'crimes': 1056, 'witnesses': 4916, 'nazis': 2978, 'super': 4295, 'criticism': 1063, 'hed': 2072, 'pleasantly': 3303, 'attend': 344, 'wishes': 4906, 'hello': 2078, 'highlights': 2104, 'spy': 4135, 'qualities': 3483, 'ensemble': 1492, 'lying': 2690, 'inner': 2292, 'path': 3209, 'masters': 2761, 'con': 928, 'changing': 752, 'listen': 2619, 'agents': 151, 'enthusiasm': 1501, 'pet': 3246, '1970s': 17, 'rocks': 3722, 'kay': 2447, 'starred': 4153, 'karloff': 2445, 'bela': 450, 'lugosi': 2686, 'broad': 590, 'antics': 255, 'wacky': 4769, 'sorts': 4078, 'ring': 3698, 'attitudes': 347, 'news': 3005, 'watchable': 4812, 'unpleasant': 4674, 'reviewers': 3678, 'swimming': 4338, 'sellers': 3872, 'simplistic': 3985, 'executed': 1565, 'roger': 3724, 'sid': 3964, 'al': 170, 'relative': 3599, 'depicted': 1183, 'honesty': 2148, 'korean': 2495, 'thrills': 4475, 'dragged': 1343, 'machine': 2693, 'measure': 2786, 'device': 1227, 'stinks': 4192, 'japanese': 2382, 'meat': 2787, 'scottish': 3825, 'accompanied': 86, 'theyd': 4443, 'dig': 1250, 'stevens': 4183, '2003': 33, 'gripping': 1976, 'stewart': 4184, 'puts': 3481, 'tracks': 4545, 'depicting': 1184, 'cases': 708, 'handle': 2018, 'estate': 1525, 'helped': 2080, 'communist': 907, 'vaguely': 4706, 'stellar': 4174, 'mentioning': 2812, 'colors': 879, 'fabulous': 1615, 'overlooked': 3154, 'jeremy': 2394, 'imitation': 2241, 'innovative': 2295, 'finding': 1727, 'week': 4837, 'max': 2774, 'peters': 3248, 'enjoyment': 1488, 'recorded': 3574, 'enjoys': 1489, 'holiday': 2134, 'april': 284, '2006': 36, 'motivation': 2914, 'warrior': 4802, 'express': 1600, 'beat': 423, 'championship': 745, 'offered': 3088, 'raw': 3532, 'tag': 4348, 'settle': 3902, 'matches': 2764, 'hitting': 2126, 'manager': 2724, 'scott': 3824, 'throat': 4476, 'pull': 3461, 'marty': 2749, 'corner': 996, 'foot': 1781, 'maker': 2714, 'pulling': 3463, 'throwing': 4480, 'hart': 2041, 'prepared': 3371, 'jerry': 2396, 'accident': 84, 'clown': 862, 'jumped': 2430, 'lifetime': 2594, 'decision': 1151, 'destroying': 1215, 'continued': 970, 'beaten': 424, 'ritter': 3705, 'shocked': 3939, 'lesson': 2577, 'struck': 4232, 'proud': 3444, 'maintain': 2710, 'choice': 797, 'mere': 2814, 'worker': 4942, 'holy': 2140, 'opened': 3113, 'heaven': 2068, 'bang': 393, 'depicts': 1186, 'happily': 2030, 'visible': 4753, 'shoes': 3941, 'weakest': 4825, 'changes': 751, 'shower': 3957, 'photographer': 3259, 'navy': 2976, 'terror': 4412, 'attraction': 350, 'broadway': 592, 'eyed': 1612, 'shadow': 3912, 'photographed': 3258, 'scale': 3802, 'lower': 2677, 'lesbian': 2573, 'relies': 3606, 'narration': 2965, 'lou': 2663, 'connection': 946, 'introduce': 2336, 'frame': 1815, 'creatures': 1046, 'slasher': 4020, 'pile': 3275, 'exaggerated': 1552, 'hurts': 2203, 'throw': 4479, 'composed': 926, 'plague': 3285, 'finest': 1730, 'tarzan': 4367, 'tomatoes': 4515, 'expect': 1575, 'checking': 778, 'passed': 3202, 'featuring': 1681, 'stunt': 4245, 'flash': 1745, 'closed': 854, 'guilty': 1995, 'compelled': 915, 'horrid': 2165, 'donna': 1323, 'topless': 4527, 'extras': 1608, 'track': 4544, 'chest': 784, 'starting': 4158, 'player': 3298, 'ridden': 3691, 'divorce': 1301, 'teach': 4374, 'ask': 316, 'debut': 1143, 'anthony': 253, 'indie': 2276, 'dare': 1113, 'protagonists': 3442, 'survival': 4320, 'reach': 3536, 'thru': 4483, 'adventure': 130, 'tall': 4362, 'bottle': 550, 'uninspired': 4657, 'village': 4743, 'caring': 691, 'island': 2361, 'unbelievable': 4634, 'hates': 2048, 'library': 2589, 'burn': 625, 'mexican': 2826, 'passing': 3204, 'excessive': 1560, 'round': 3742, 'carol': 693, '1984': 23, 'dickens': 1240, 'scrooge': 3837, 'spirits': 4115, 'properly': 3437, 'unable': 4631, 'morning': 2906, 'dignity': 1252, 'projects': 3428, 'morality': 2903, 'required': 3641, 'basement': 405, 'continuity': 972, 'lazy': 2543, 'hardcore': 2034, 'frank': 1821, 'draw': 1349, 'sword': 4340, 'department': 1182, 'empathy': 1462, 'scare': 3803, 'freeman': 1829, 'placed': 3283, 'journalist': 2420, 'resemblance': 3645, 'conflict': 939, 'guns': 1998, 'okay': 3099, 'command': 897, 'alexander': 180, 'revolution': 3680, 'powell': 3358, 'choose': 799, 'dick': 1239, 'phony': 3256, 'sentence': 3881, 'chances': 748, 'novels': 3053, 'leg': 2562, 'actual': 108, 'mistress': 2874, 'sexy': 3911, 'adam': 111, 'lust': 2689, 'breaks': 571, 'shut': 3961, 'tight': 4492, 'miracle': 2860, 'journey': 2421, 'patients': 3212, 'jessica': 2398, 'busy': 635, 'interpretation': 2328, 'treats': 4575, 'shelley': 3928, 'widow': 4883, 'admire': 121, 'abandoned': 62, 'surface': 4310, 'medium': 2792, 'trick': 4582, 'ward': 4793, 'dubbed': 1379, 'losers': 2656, 'ordinary': 3128, 'topic': 4526, 'wondered': 4927, 'conservative': 948, 'financial': 1725, 'briefly': 580, 'explored': 1595, 'returned': 3666, 'portion': 3338, 'interviews': 2330, 'folks': 1771, 'suspicious': 4332, 'gross': 1978, 'gas': 1874, 'ford': 1789, 'carter': 703, 'sport': 4129, 'defined': 1160, 'ps': 3453, 'levels': 2585, 'complicated': 925, 'provide': 3448, 'urban': 4688, 'philip': 3252, 'thomas': 4458, 'versions': 4721, 'graphic': 1958, 'image': 2233, 'displayed': 1292, 'cannibal': 669, 'responsible': 3656, 'comical': 894, 'opens': 3115, 'mountain': 2917, 'gold': 1932, 'ruby': 3749, 'freedom': 1828, 'access': 83, 'traveling': 4568, 'greedy': 1969, 'queen': 3485, 'twin': 4615, 'trained': 4557, 'warriors': 4803, 'dialogs': 1233, 'dragon': 1344, 'zombies': 4998, 'randomly': 3515, 'splendid': 4119, 'savage': 3793, 'vicious': 4728, 'creep': 1051, 'survive': 4321, 'magazine': 2701, 'tap': 4364, 'rings': 3699, 'cheese': 780, 'friendship': 1838, 'quick': 3490, 'teen': 4388, 'hamilton': 2012, 'protagonist': 3441, 'object': 3066, 'definite': 1161, 'babe': 375, '60s': 54, 'arms': 294, 'brian': 576, 'driving': 1368, 'pilot': 3276, 'sun': 4292, 'torn': 4528, 'wolf': 4920, 'bugs': 613, 'mentions': 2813, 'farm': 1656, 'truck': 4595, 'turkey': 4604, 'tree': 4576, 'quote': 3496, 'sum': 4289, 'description': 1197, 'thoughts': 4464, 'occasion': 3073, 'stiff': 4187, 'competition': 918, 'inspector': 2299, 'convinced': 984, 'understandable': 4644, 'drivel': 1364, 'beliefs': 452, 'politics': 3326, 'abysmal': 76, 'tedious': 4387, 'fourth': 1813, 'demand': 1174, 'ha': 2002, 'presumably': 3380, 'tonight': 4519, 'coherent': 871, 'potentially': 3356, 'excitement': 1562, 'flawed': 1750, 'statement': 4162, 'determined': 1221, 'namely': 2962, 'brooks': 596, 'westerns': 4854, 'environment': 1505, 'kicking': 2462, 'screaming': 3827, 'legendary': 2565, 'hunter': 2199, 'indians': 2275, 'damage': 1099, 'sole': 4055, 'survivor': 4324, 'priceless': 3390, 'showdown': 3955, 'outcome': 3142, 'turning': 4608, 'kubrick': 2496, 'borrowed': 545, 'selling': 3873, 'superficial': 4298, 'base': 402, 'bette': 471, 'prefer': 3368, 'mildred': 2841, 'displays': 1293, 'vulnerable': 4768, 'passionate': 3206, 'realism': 3549, 'judging': 2425, 'staged': 4140, 'league': 2549, 'switch': 4339, 'ingredients': 2289, 'closer': 856, 'concerns': 934, 'hop': 2154, 'dancer': 1104, 'struggling': 4236, 'greater': 1965, 'heights': 2073, 'sunday': 4293, '1996': 26, 'tracy': 4546, 'dynamic': 1394, 'ignored': 2225, 'harsh': 2040, 'achievement': 94, 'spoilers': 4124, 'below': 462, 'according': 88, 'rolling': 3730, 'skills': 4014, 'flight': 1757, 'eating': 1413, '16': 8, 'presentation': 3375, 'fancy': 1649, 'fever': 1699, 'catholic': 720, 'study': 4242, 'bound': 553, 'incident': 2260, 'alice': 182, 'irrelevant': 2358, 'humanity': 2189, 'scenario': 3808, 'section': 3853, 'sean': 3840, 'thirty': 4456, 'unfunny': 4655, 'rubbish': 3748, 'bargain': 400, 'sold': 4052, 'chosen': 805, 'eddie': 1416, 'technically': 4382, 'advanced': 128, 'julie': 2428, 'artificial': 306, 'remarks': 3615, 'argument': 291, 'cynical': 1093, 'incoherent': 2265, 'capture': 676, 'riding': 3695, 'ratings': 3530, 'warren': 4801, 'accused': 91, 'lawyer': 2541, 'crush': 1072, 'legs': 2566, 'ego': 1435, 'guard': 1988, 'notorious': 3051, 'desert': 1198, 'stays': 4169, 'chinese': 796, 'erotic': 1515, 'countries': 1013, 'blend': 504, 'refuses': 3587, 'lucy': 2684, 'arrive': 300, 'portrait': 3339, 'forest': 1791, 'overwhelming': 3157, 'sexuality': 3909, 'exceptionally': 1559, 'aids': 161, '1999': 27, 'intentionally': 2320, 'beast': 422, 'tea': 4373, 'enter': 1494, 'sudden': 4272, 'encounters': 1467, 'stolen': 4195, 'charisma': 762, 'naked': 2959, 'lion': 2614, 'arrived': 301, 'glad': 1916, 'styles': 4250, 'seed': 3856, 'regard': 3588, 'ourselves': 3140, 'prove': 3445, 'vague': 4705, 'threat': 4467, 'gangster': 1868, 'messages': 2820, 'altogether': 202, 'earned': 1401, 'stupidity': 4248, 'somewhere': 4069, 'duo': 1386, 'shorts': 3948, 'robot': 3717, 'civil': 826, 'mass': 2753, 'science': 3816, 'matrix': 2767, 'asking': 318, 'illogical': 2231, 'naturally': 2974, 'rats': 3531, 'drink': 1361, 'swear': 4334, 'proceeds': 3411, 'smooth': 4041, 'jackson': 2375, 'unoriginal': 4673, 'exercise': 1568, 'unsettling': 4679, 'questions': 3489, 'dorothy': 1330, 'maggie': 2702, 'disaster': 1276, 'perfection': 3225, 'prequel': 3372, 'artists': 309, 'dude': 1381, 'mario': 2738, 'clue': 864, '2nd': 41, 'cake': 648, 'sacrifice': 3766, 'conversations': 981, 'florida': 1761, 'ghosts': 1903, 'albert': 174, 'deceased': 1146, 'defend': 1158, 'spring': 4134, 'ryan': 3765, 'jerk': 2395, 'robbins': 3712, 'smart': 4035, 'portraying': 3343, 'buddies': 608, 'kurt': 2499, 'suspend': 4329, 'logic': 2638, 'rocket': 3721, 'clean': 838, 'reminiscent': 3621, 'safety': 3772, 'picks': 3268, 'system': 4345, 'stage': 4139, 'chooses': 800, 'range': 3516, 'stale': 4141, 'appealing': 272, 'delivers': 1172, 'glenn': 1918, 'extraordinary': 1607, 'deeper': 1155, 'fetched': 1698, 'davies': 1125, 'reel': 3581, 'generous': 1886, 'account': 89, 'chaplin': 756, 'douglas': 1334, 'pan': 3180, 'aint': 163, 'sitting': 4007, 'singing': 3995, 'texas': 4418, 'useless': 4695, 'ruin': 3750, '75': 57, 'teenage': 4389, 'los': 2653, 'angeles': 233, 'grows': 1985, 'immensely': 2243, 'north': 3036, 'africa': 141, 'floor': 1759, 'copies': 992, 'rogers': 3725, 'leslie': 2574, 'solely': 4056, 'raise': 3507, 'waitress': 4773, 'progress': 3425, 'string': 4227, 'stress': 4220, 'chair': 742, 'chicago': 785, 'seeking': 3859, 'enjoying': 1487, 'complexity': 924, 'allows': 192, 'everyday': 1541, 'delivered': 1170, 'adults': 126, 'suited': 4286, 'buildings': 616, 'cars': 702, 'houses': 2180, 'nuclear': 3057, 'causes': 725, 'cave': 727, 'reviewer': 3677, 'sue': 4274, 'search': 3841, 'symbolism': 4341, 'elvis': 1451, 'grab': 1949, 'tunes': 4603, 'surprises': 4314, 'instant': 2305, 'wrapped': 4964, 'techniques': 4384, 'cg': 739, 'page': 3167, 'polished': 3323, 'larger': 2519, 'touching': 4536, 'vivid': 4760, 'mundane': 2938, 'distant': 1295, 'buff': 611, '2005': 35, 'ass': 323, 'feed': 1683, 'mafia': 2700, 'rendition': 3625, 'areas': 287, 'subplots': 4256, 'theatre': 4429, 'dogs': 1311, 'knife': 2487, 'improve': 2254, 'flop': 1760, 'accomplished': 87, 'birth': 486, 'rebel': 3561, 'succeed': 4262, 'recognize': 3569, 'winter': 4900, 'upset': 4687, 'spends': 4107, 'activities': 102, 'blond': 510, 'weight': 4840, 'significant': 3972, 'ethan': 1528, 'dennis': 1179, 'hopper': 2161, 'walken': 4777, 'destroy': 1213, 'stylish': 4251, 'soviet': 4089, 'union': 4661, '90s': 61, 'ready': 3546, 'philosophical': 3253, 'model': 2880, 'appearing': 277, 'loser': 2655, 'train': 4556, 'realise': 3548, 'crafted': 1029, 'sheer': 3925, 'widmark': 4882, 'warmth': 4796, 'represent': 3637, 'sucked': 4270, 'props': 3439, 'elaborate': 1439, 'halloween': 2010, 'tons': 4520, 'favor': 1670, 'granted': 1957, 'officer': 3092, 'locked': 2637, 'relatives': 3601, 'mail': 2706, 'affected': 137, 'purchased': 3470, 'creators': 1044, 'anime': 243, 'hippie': 2115, 'grave': 1962, 'warner': 4799, 'neighbor': 2992, 'soldier': 4053, 'powers': 3361, 'blown': 516, 'term': 4405, 'mel': 2796, 'rental': 3627, 'reasonable': 3558, 'valley': 4707, 'hamlet': 2013, 'branagh': 564, 'robin': 3715, 'shakespeare': 3915, 'battles': 415, 'mighty': 2836, 'kings': 2481, 'overacting': 3149, 'thousand': 4465, 'complain': 919, 'bourne': 554, 'damon': 1101, 'imagined': 2239, 'possessed': 3347, 'serving': 3897, 'fare': 1655, 'adams': 112, 'lousy': 2667, 'ultra': 4629, 'games': 1865, 'shocking': 3940, 'introduces': 2338, 'glimpse': 1919, 'sticks': 4186, 'doomed': 1327, 'duty': 1390, 'occurs': 3078, 'gruesome': 1986, 'chasing': 772, 'numerous': 3062, 'planning': 3291, 'alongside': 196, 'channels': 754, 'walked': 4776, 'wicked': 4879, 'superbly': 4297, 'charge': 761, 'similarities': 3979, 'jon': 2416, 'voight': 4764, 'cowboy': 1025, 'daniel': 1111, 'hoffman': 2128, 'buck': 605, 'persons': 3244, 'physical': 3262, 'peace': 3219, 'disc': 1278, 'colonel': 876, 'nation': 2969, 'raymond': 3534, 'passes': 3203, 'excited': 1561, 'popcorn': 3331, '1st': 28, 'arrested': 298, 'womans': 4922, 'learning': 2552, 'associated': 327, 'current': 1084, 'tribute': 4581, 'tour': 4538, 'ex': 1549, 'jake': 2377, 'wayne': 4821, 'assistant': 326, 'margaret': 2735, 'kidnapped': 2466, 'perry': 3237, 'frankenstein': 1822, 'mysteries': 2954, 'mine': 2853, 'connected': 945, 'moral': 2902, 'crack': 1027, 'streets': 4217, 'weeks': 4839, 'connect': 944, 'represents': 3639, 'visuals': 4759, 'matched': 2763, 'captures': 678, 'trees': 4577, 'cgi': 740, 'threw': 4470, 'grey': 1973, 'yellow': 4981, 'endings': 1472, '18': 10, 'center': 732, 'furthermore': 1854, 'closing': 859, 'faithful': 1634, 'kapoor': 2443, 'khan': 2459, 'cliff': 847, 'ambitious': 211, 'handful': 2017, 'loosely': 2651, 'bullet': 620, 'locations': 2636, 'hollow': 2135, 'thin': 4449, 'presence': 3373, 'approach': 282, 'cringe': 1059, 'repeatedly': 3632, 'misery': 2865, 'rose': 3739, 'ken': 2453, 'east': 1407, 'escapes': 1519, 'link': 2613, 'cartoons': 705, 'worried': 4949, 'norman': 3035, 'square': 4136, 'critic': 1061, 'dutch': 1389, 'chorus': 803, 'gift': 1906, 'twelve': 4611, 'nomination': 3026, 'oscars': 3134, 'wonders': 4931, 'cats': 721, 'seven': 3903, 'dawson': 1128, 'strangers': 4214, 'holly': 2136, 'coach': 868, 'bone': 533, 'nicholas': 3010, 'abusive': 75, 'turner': 4607, 'piano': 3264, 'anger': 235, 'decides': 1150, 'emily': 1456, 'condition': 937, 'target': 4366, 'shirt': 3937, 'blunt': 520, 'reduced': 3579, 'related': 3594, 'walls': 4783, 'education': 1424, 'alas': 172, 'succeeded': 4263, 'amitabh': 216, 'menacing': 2807, 'pacing': 3163, 'snow': 4045, 'cinderella': 815, 'prince': 3396, 'veteran': 4724, 'blair': 497, 'backgrounds': 381, 'restored': 3659, 'calling': 653, 'awfully': 373, 'blew': 505, 'brooklyn': 595, 'minded': 2850, 'uneven': 4649, 'winner': 4897, 'unreal': 4676, 'jaw': 2384, 'foul': 1810, 'remind': 3618, 'poetry': 3314, 'poem': 3312, 'engage': 1479, 'authority': 360, 'rubber': 3747, 'muslim': 2949, 'expert': 1585, 'documentaries': 1306, 'religion': 3607, 'doctors': 1305, 'characterization': 759, 'adventures': 131, 'phantom': 3251, 'doc': 1303, 'nightmares': 3015, '30s': 44, 'homage': 2141, 'strangely': 4212, 'pool': 3327, 'task': 4368, 'prevent': 3385, 'wreck': 4965, 'unbearable': 4633, 'spiritual': 4116, 'sides': 3967, 'property': 3438, 'elderly': 1440, 'carradine': 695, 'devil': 1228, 'souls': 4080, 'pair': 3176, 'insane': 2296, 'attorney': 348, 'goodness': 1938, 'correct': 1000, 'balls': 390, 'arm': 292, 'succeeds': 4264, 'described': 1195, 'spell': 4104, 'expressed': 1601, 'ball': 388, 'glass': 1917, 'bleak': 503, 'wake': 4774, 'extended': 1604, 'weapon': 4828, 'bacall': 377, 'reveals': 3673, 'silence': 3974, 'hudson': 2184, 'par': 3184, 'susan': 4326, 'signed': 3971, 'terrorist': 4413, 'encounter': 1466, 'insult': 2309, 'exposure': 1599, 'embarrassing': 1454, 'punishment': 3467, 'anderson': 227, 'impress': 2250, 'focusing': 1769, 'melodramatic': 2798, 'colorful': 878, 'intrigue': 2333, 'breath': 573, 'vision': 4754, 'innocence': 2293, 'aimed': 162, 'species': 4098, 'ireland': 2352, 'disappear': 1270, 'ginger': 1908, 'irish': 2353, 'fx': 1858, 'irony': 2357, 'doom': 1326, 'pseudo': 3454, 'prisoner': 3402, 'stops': 4203, 'advise': 134, 'user': 4696, 'influenced': 2287, 'jazz': 2387, 'lucky': 2683, 'forces': 1788, 'woody': 4936, 'allen': 188, 'pack': 3165, 'grown': 1984, 'wishing': 4907, 'plight': 3308, 'ripped': 3701, 'orders': 3127, 'rural': 3758, 'speech': 4102, 'thrill': 4471, 'kenneth': 2455, 'richards': 3687, 'myers': 2952, 'matthew': 2772, 'canada': 666, 'motivations': 2915, 'crucial': 1068, 'drops': 1372, 'notch': 3043, 'inducing': 2279, 'contract': 973, 'separate': 3883, 'sinister': 3998, 'albeit': 173, 'massive': 2756, 'armed': 293, 'gabriel': 1859, 'buried': 624, 'treasure': 4571, 'royal': 3746, 'rushed': 3760, 'dear': 1140, 'letter': 2581, 'catching': 716, 'doubts': 1333, 'bar': 396, 'flynn': 1765, 'realizing': 3555, 'logical': 2639, 'tune': 4602, 'nancy': 2964, 'scares': 3806, 'emma': 1457, 'roberts': 3714, 'contrary': 974, 'resident': 3647, 'online': 3109, 'wes': 4851, 'craven': 1034, 'loyal': 2679, 'signs': 3973, 'courage': 1018, 'essential': 1522, 'generations': 1884, 'groups': 1981, 'sequels': 3886, 'investigate': 2342, 'faced': 1617, 'originality': 3130, 'plausible': 3295, 'tame': 4363, 'spanish': 4092, 'daring': 1114, 'hollywoods': 2138, 'suits': 4287, 'vice': 4727, 'technology': 4385, 'painted': 3174, 'touched': 4534, '1990': 24, 'shell': 3927, 'staff': 4138, 'dangerous': 1110, 'abraham': 69, 'driver': 1366, 'harry': 2039, 'clint': 850, 'eastwood': 1409, 'crocodile': 1065, 'scream': 3826, 'disagree': 1269, 'merit': 2816, 'tortured': 4530, 'greek': 1970, 'secrets': 3852, 'storm': 4206, 'answers': 252, 'pro': 3406, 'clothing': 861, 'christians': 809, 'outfit': 3144, 'bold': 528, 'rochester': 3719, 'annie': 247, 'hall': 2009, 'wrestling': 4966, 'christ': 807, 'imagery': 2234, 'spirited': 4114, 'cia': 814, 'neighborhood': 2993, 'elsewhere': 1449, 'rage': 3505, 'inferior': 2285, 'entry': 1504, 'trilogy': 4586, 'universe': 4666, 'iii': 2227, 'discovered': 1280, 'grandmother': 1955, 'atmospheric': 334, 'lone': 2642, 'accents': 79, 'drinking': 1362, 'fail': 1625, 'attempting': 342, 'hardy': 2037, 'producing': 3417, 'dozen': 1338, 'nervous': 2999, 'eric': 1514, 'assumed': 329, 'nurse': 3063, 'dramas': 1347, 'interaction': 2322, 'testament': 4417, 'understated': 4646, 'capturing': 679, 'triumph': 4590, 'fathers': 1667, 'climactic': 848, 'angle': 236, 'dozens': 1339, 'shake': 3914, 'tiresome': 4502, 'unwatchable': 4682, 'fix': 1744, 'clichés': 846, 'complaint': 920, 'blank': 501, 'context': 968, 'laurel': 2537, 'subplot': 4255, 'dracula': 1341, 'firstly': 1737, 'chess': 783, 'quotes': 3497, 'confidence': 938, 'creator': 1043, '14': 6, 'slap': 4018, 'lasted': 2522, 'sisters': 4002, 'stinker': 4191, 'brando': 566, 'sin': 3988, 'mildly': 2840, 'futuristic': 1857, 'alike': 185, 'troubled': 4593, 'laughter': 2535, 'ruthless': 3764, 'beneath': 464, 'assigned': 325, 'jumps': 2432, 'chased': 770, 'cleverly': 842, 'per': 3223, 'gary': 1873, 'purely': 3472, 'staying': 4168, 'scheme': 3812, 'beatty': 427, '2002': 32, 'sea': 3838, 'intensity': 2317, 'landing': 2512, 'stilted': 4190, 'easier': 1405, 'bite': 489, 'sexually': 3910, 'winds': 4895, 'spain': 4091, 'wealth': 4826, 'sends': 3876, 'gray': 1963, 'secretly': 3851, 'everywhere': 1545, 'alan': 171, 'avoided': 364, 'primary': 3394, 'bath': 411, 'evident': 1547, 'operation': 3117, 'experiment': 1583, 'guarantee': 1987, 'joined': 2413, 'stereotype': 4178, 'seeks': 3860, 'mars': 2746, 'pages': 3168, 'wallace': 4782, 'useful': 4694, 'chan': 746, 'paltrow': 3178, 'bands': 392, 'recording': 3575, 'machines': 2694, 'broke': 593, 'conflicts': 940, 'hang': 2022, 'demons': 1178, 'olivier': 3103, 'importance': 2246, 'lemmon': 2567, 'faults': 1669, 'titled': 4505, 'jungle': 2434, 'carrey': 696, 'ron': 3734, 'diane': 1238, 'awe': 370, 'profound': 3423, 'bergman': 466, 'fay': 1674, 'familys': 1646, 'lincoln': 2608, 'essence': 1521, 'todd': 4510, 'border': 539, 'masses': 2755, 'religious': 3608, '1972': 18, 'notably': 3042, 'taxi': 4371, 'pants': 3182, 'upper': 4685, 'russell': 3761, 'dvds': 1392, 'retarded': 3663, 'afford': 138, 'revolutionary': 3681, 'transformation': 4560, 'considerable': 950, 'psychiatrist': 3455, 'curtis': 1087, 'pamela': 3179, 'spoil': 4121, 'hatred': 2049, 'wells': 4845, 'pal': 3177, 'heat': 2067, 'similarly': 3980, 'sloppy': 4030, 'invasion': 2340, 'spielberg': 4110, 'album': 175, 'describes': 1196, '35': 45, 'humble': 2191, 'dub': 1378, 'inspiring': 2302, 'intention': 2319, 'victoria': 4732, 'nose': 3037, 'neo': 2998, 'li': 2587, 'raising': 3509, '60': 53, 'titanic': 4503, 'holmes': 2139, 'claims': 830, 'depiction': 1185, 'terrifying': 4410, 'belongs': 460, 'suggested': 4281, 'serve': 3893, 'visits': 4756, 'ease': 1404, 'mann': 2728, 'shelf': 3926, 'arrogant': 303, 'waters': 4817, 'countryside': 1015, 'pit': 3278, 'trek': 4578, 'sandler': 3781, 'unpredictable': 4675, 'smaller': 4034, 'ideal': 2214, 'kitchen': 2485, 'sink': 3999, 'football': 1783, 'resort': 3650, 'scientific': 3817, 'fatal': 1664, 'territory': 4411, 'feminist': 1695, 'nail': 2957, 'mechanical': 2788, 'gerard': 1895, 'wisdom': 4902, 'kennedy': 2454, 'wore': 4939, 'witches': 4910, 'voiced': 4762, 'rival': 3706, 'danger': 1109, 'repetitive': 3633, 'germans': 1897, 'fooled': 1780, 'iran': 2350, 'attached': 336, 'hence': 2083, 'editor': 1423, 'homosexual': 2145, 'author': 359, 'mtv': 2933, 'atlantis': 332, 'dire': 1257, 'fred': 1825, 'mummy': 2937, 'shy': 3962, 'spooky': 4128, 'guessed': 1990, 'cards': 683, 'grow': 1982, 'lesser': 2576, 'fighter': 1708, 'boxing': 556, 'finger': 1731, 'hank': 2024, 'ho': 2127, 'orange': 3125, 'disturbed': 1299, 'theaters': 4428, 'survived': 4322, 'seek': 3858, 'frequently': 1832, 'murphy': 2944, 'opinions': 3119, 'americas': 215, 'beats': 426, 'assault': 324, 'liberal': 2588, 'hysterical': 2208, 'punch': 3466, 'temple': 4398, 'sandra': 3782, 'kudos': 2497, 'dave': 1123, 'mate': 2765, 'cube': 1076, 'capital': 673, 'homer': 2144, 'simpson': 3987, 'shortly': 3947, 'rex': 3683, 'orson': 3132, 'foster': 1809, 'celluloid': 731, 'demon': 1177, 'bible': 477, 'ape': 266, 'leo': 2571, 'increasingly': 2268, 'deliberately': 1166, 'desperation': 1210, 'elephant': 1444, 'stealing': 4171, 'pitch': 3279, 'santa': 3783, '24': 39, 'cameron': 661, 'mitchell': 2875, 'civilization': 827, 'diamond': 1236, 'solution': 4059, 'response': 3654, 'forbidden': 1785, 'corporate': 998, 'huh': 2187, 'circle': 821, 'burton': 630, 'waited': 4771, 'jealous': 2388, 'carl': 692, 'synopsis': 4344, 'bucks': 606, 'murderer': 2941, 'developing': 1224, 'jaws': 2385, 'teachers': 4376, 'spread': 4133, 'wing': 4896, 'streisand': 4218, 'che': 773, 'gandhi': 1866, 'intellectual': 2312, 'careers': 687, 'advertising': 132, 'coffee': 870, 'laid': 2508, 'pot': 3354, 'headed': 2058, 'insulting': 2310, 'juvenile': 2441, '1983': 22, 'latin': 2527, 'arrival': 299, 'disneys': 1290, 'ruins': 3752, 'reached': 3537, 'kingdom': 2480, 'generated': 1882, 'francis': 1818, 'devils': 1229, 'jonathan': 2417, 'legend': 2564, 'noble': 3021, 'domestic': 1318, 'terrorists': 4414, 'staring': 4152, 'miike': 2837, 'classical': 836, 'letters': 2582, 'clues': 865, 'blade': 495, 'motives': 2916, 'map': 2733, 'demands': 1175, 'talked': 4359, 'rat': 3525, 'admittedly': 123, 'troubles': 4594, 'holding': 2130, 'san': 3780, 'francisco': 1819, 'joey': 2408, 'spoiled': 4122, 'domino': 1319, 'soccer': 4048, 'mickey': 2831, '3000': 43, 'dentist': 1180, 'tiger': 4491, 'tied': 4489, 'steven': 4182, 'uwe': 4703, 'boll': 529, 'messed': 2821, 'robbery': 3711, 'proof': 3434, 'commit': 904, 'golden': 1934, 'liking': 2604, 'lively': 2627, 'snl': 4044, 'oddly': 3081, 'petty': 3249, 'writes': 4970, 'nyc': 3065, 'waves': 4819, 'text': 4419, 'subtlety': 4261, 'swedish': 4335, 'thoughtful': 4463, 'clips': 852, 'illegal': 2229, 'harder': 2035, 'highest': 2102, 'southern': 4088, 'purposes': 3475, 'load': 2631, 'vegas': 4717, 'construction': 960, 'snake': 4042, 'instinct': 2308, 'joseph': 2419, 'button': 639, 'resources': 3651, 'steal': 4170, 'prom': 3429, 'reaching': 3539, 'breasts': 572, 'hyde': 2206, 'moronic': 2907, 'global': 1920, 'arnold': 296, 'unintentional': 4658, 'enterprise': 1495, 'punk': 3468, 'hideous': 2098, 'hints': 2113, 'forgive': 1795, 'montana': 2895, 'bumbling': 622, 'infamous': 2284, 'heroic': 2090, 'lucas': 2680, 'boot': 538, 'noise': 3024, 'scooby': 3820, 'doo': 1325, 'wendy': 4846, 'unhappy': 4656, 'prisoners': 3403, 'chain': 741, 'murderous': 2942, 'amy': 222, 'honor': 2150, 'pig': 3274, 'experiments': 1584, 'sneak': 4043, 'bird': 484, 'credibility': 1047, 'sidney': 3968, 'sinatra': 3989, 'guide': 1993, 'directorial': 1265, 'purple': 3473, 'jenny': 2393, 'craig': 1030, 'miserable': 2863, 'birds': 485, 'endure': 1475, 'walker': 4778, 'mountains': 2918, 'beings': 449, 'elvira': 1450, 'spider': 4109, 'carpenter': 694, 'movement': 2923, 'distance': 1294, 'inane': 2258, 'hanks': 2025, 'educational': 1425, 'struggles': 4235, 'caine': 647, 'disappoint': 1272, 'lab': 2501, 'satisfied': 3789, 'bin': 483, 'intent': 2318, 'discuss': 1283, 'scarecrow': 3804, 'judy': 2426, 'cuba': 1075, 'robots': 3718, 'burning': 627, 'trademark': 4548, 'unbelievably': 4635, 'integrity': 2311, 'concerning': 933, 'pursuit': 3476, 'dinosaurs': 1256, 'tongue': 4518, 'moody': 2899, 'receives': 3565, 'agrees': 157, 'lumet': 2688, 'transition': 4561, 'ships': 3935, 'undoubtedly': 4648, 'causing': 726, 'outer': 3143, 'der': 1191, 'floating': 1758, 'helicopter': 2076, 'museum': 2945, 'diana': 1237, 'lit': 2621, 'rambo': 3511, 'tender': 4401, 'neck': 2985, 'decisions': 1152, 'stones': 4198, 'reynolds': 3684, 'shirley': 3936, 'winters': 4901, 'rap': 3520, 'ramones': 3512, 'partly': 3197, 'disappeared': 1271, 'cole': 873, '2004': 34, 'someones': 4065, 'grasp': 1960, 'blues': 519, 'backdrop': 379, 'daddy': 1096, 'household': 2179, 'frequent': 1831, 'deaf': 1134, 'stargate': 4151, 'rain': 3506, 'possibility': 3349, 'swim': 4337, 'raped': 3522, 'pretending': 3382, 'respected': 3653, 'airplane': 166, 'resulting': 3661, 'da': 1094, 'destiny': 1212, 'marketing': 2741, '1973': 19, 'bat': 410, 'lengthy': 2570, 'brosnan': 597, 'travesty': 4570, 'popularity': 3334, 'et': 1526, 'simmons': 3981, 'gothic': 1945, 'burt': 629, 'satan': 3787, 'kirk': 2482, 'apes': 267, 'nations': 2971, 'engaged': 1480, 'shark': 3921, 'cagney': 646, 'astaire': 330, 'godzilla': 1929, 'detailed': 1218, 'brenda': 575, 'resist': 3648, 'birthday': 487, 'boom': 537, 'rotten': 3740, 'troops': 4591, 'grandfather': 1954, 'pearl': 3220, 'blob': 507, 'principal': 3398, 'lowest': 2678, 'dropping': 1371, 'edgar': 1417, 'icon': 2211, 'seagal': 3839, '13th': 5, 'gundam': 1997, 'pink': 3277, 'cary': 706, 'pokemon': 3320, 'whale': 4857, 'bettie': 473, 'linda': 2609, 'leonard': 2572, 'justin': 2440, 'omen': 3104, 'surfing': 4311, 'morris': 2908, 'dolls': 1316, 'equipment': 1511, 'dinosaur': 1255, 'wounded': 4961, 'paulie': 3215, 'felix': 1689, 'grinch': 1975, 'gadget': 1860}\n"
     ]
    }
   ],
   "source": [
    "print(str(vocabulary))"
   ]
  },
  {
   "cell_type": "markdown",
   "metadata": {},
   "source": [
    "Once you have added the endpoint name to the Lambda function, click on **Save**. Your Lambda function is now up and running. Next we need to create a way for our web app to execute the Lambda function."
   ]
  },
  {
   "cell_type": "markdown",
   "metadata": {},
   "source": [
    "### Setting up API Gateway\n",
    "\n",
    "Now that our Lambda function is set up, it is time to create a new API using API Gateway that will trigger the Lambda function we have just created.\n",
    "\n",
    "Using AWS Console, navigate to **Amazon API Gateway** and then click on **Get started**.\n",
    "\n",
    "On the next page, make sure that **New API** is selected and give the new api a name, for example, `sentiment_analysis_web_app`. Then, click on **Create API**.\n",
    "\n",
    "Now we have created an API, however it doesn't currently do anything. What we want it to do is to trigger the Lambda function that we created earlier.\n",
    "\n",
    "Select the **Actions** dropdown menu and click **Create Method**. A new blank method will be created, select its dropdown menu and select **POST**, then click on the check mark beside it.\n",
    "\n",
    "For the integration point, make sure that **Lambda Function** is selected and click on the **Use Lambda Proxy integration**. This option makes sure that the data that is sent to the API is then sent directly to the Lambda function with no processing. It also means that the return value must be a proper response object as it will also not be processed by API Gateway.\n",
    "\n",
    "Type the name of the Lambda function you created earlier into the **Lambda Function** text entry box and then click on **Save**. Click on **OK** in the pop-up box that then appears, giving permission to API Gateway to invoke the Lambda function you created.\n",
    "\n",
    "The last step in creating the API Gateway is to select the **Actions** dropdown and click on **Deploy API**. You will need to create a new Deployment stage and name it anything you like, for example `prod`.\n",
    "\n",
    "You have now successfully set up a public API to access your SageMaker model. Make sure to copy or write down the URL provided to invoke your newly created public API as this will be needed in the next step. This URL can be found at the top of the page, highlighted in blue next to the text **Invoke URL**."
   ]
  },
  {
   "cell_type": "markdown",
   "metadata": {},
   "source": [
    "## Step 7: Deploying our web app\n",
    "\n",
    "Now that we have a publicly available API, we can start using it in a web app. For our purposes, we have provided a simple static html file which can make use of the public api you created earlier.\n",
    "\n",
    "In the `website` folder there should be a file called `index.html`. Download the file to your computer and open that file up in a text editor of your choice. There should be a line which contains **\\*\\*REPLACE WITH PUBLIC API URL\\*\\***. Replace this string with the url that you wrote down in the last step and then save the file.\n",
    "\n",
    "Now, if you open `index.html` on your local computer, your browser will behave as a local web server and you can use the provided site to interact with your SageMaker model.\n",
    "\n",
    "If you'd like to go further, you can host this html file anywhere you'd like, for example using github or hosting a static site on Amazon's S3. Once you have done this you can share the link with anyone you'd like and have them play with it too!\n",
    "\n",
    "> **Important Note** In order for the web app to communicate with the SageMaker endpoint, the endpoint has to actually be deployed and running. This means that you are paying for it. Make sure that the endpoint is running when you want to use the web app but that you shut it down when you don't need it, otherwise you will end up with a surprisingly large AWS bill."
   ]
  },
  {
   "cell_type": "markdown",
   "metadata": {},
   "source": [
    "### Delete the endpoint\n",
    "\n",
    "Remember to always shut down your endpoint if you are no longer using it. You are charged for the length of time that the endpoint is running so if you forget and leave it on you could end up with an unexpectedly large bill."
   ]
  },
  {
   "cell_type": "code",
   "execution_count": 65,
   "metadata": {},
   "outputs": [
    {
     "name": "stderr",
     "output_type": "stream",
     "text": [
      "INFO:sagemaker:Deleting endpoint configuration with name: xgboost-2019-04-13-18-57-38-911\n",
      "INFO:sagemaker:Deleting endpoint with name: xgboost-2019-04-13-18-57-38-911\n"
     ]
    }
   ],
   "source": [
    "xgb_predictor.delete_endpoint()"
   ]
  },
  {
   "cell_type": "markdown",
   "metadata": {},
   "source": [
    "## Optional: Clean up\n",
    "\n",
    "The default notebook instance on SageMaker doesn't have a lot of excess disk space available. As you continue to complete and execute notebooks you will eventually fill up this disk space, leading to errors which can be difficult to diagnose. Once you are completely finished using a notebook it is a good idea to remove the files that you created along the way. Of course, you can do this from the terminal or from the notebook hub if you would like. The cell below contains some commands to clean up the created files from within the notebook."
   ]
  },
  {
   "cell_type": "code",
   "execution_count": null,
   "metadata": {},
   "outputs": [],
   "source": [
    "# First we will remove all of the files contained in the data_dir directory\n",
    "!rm $data_dir/*\n",
    "\n",
    "# And then we delete the directory itself\n",
    "!rmdir $data_dir\n",
    "\n",
    "# Similarly we remove the files in the cache_dir directory and the directory itself\n",
    "!rm $cache_dir/*\n",
    "!rmdir $cache_dir"
   ]
  },
  {
   "cell_type": "code",
   "execution_count": null,
   "metadata": {},
   "outputs": [],
   "source": []
  }
 ],
 "metadata": {
  "kernelspec": {
   "display_name": "conda_python3",
   "language": "python",
   "name": "conda_python3"
  },
  "language_info": {
   "codemirror_mode": {
    "name": "ipython",
    "version": 3
   },
   "file_extension": ".py",
   "mimetype": "text/x-python",
   "name": "python",
   "nbconvert_exporter": "python",
   "pygments_lexer": "ipython3",
   "version": "3.6.5"
  }
 },
 "nbformat": 4,
 "nbformat_minor": 2
}
